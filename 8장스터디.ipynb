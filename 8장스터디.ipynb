{
  "nbformat": 4,
  "nbformat_minor": 0,
  "metadata": {
    "colab": {
      "name": "8장스터디.ipynb",
      "provenance": [],
      "collapsed_sections": [],
      "mount_file_id": "1B441pQCyoDicVeGQOB_sogLGUTjCOpV0",
      "authorship_tag": "ABX9TyOb0ztEckdyzvWOA621EGW9",
      "include_colab_link": true
    },
    "kernelspec": {
      "name": "python3",
      "display_name": "Python 3"
    },
    "language_info": {
      "name": "python"
    },
    "widgets": {
      "application/vnd.jupyter.widget-state+json": {
        "cfcfec61bb754f079ad1410a2792c912": {
          "model_module": "@jupyter-widgets/controls",
          "model_name": "HBoxModel",
          "model_module_version": "1.5.0",
          "state": {
            "_dom_classes": [],
            "_model_module": "@jupyter-widgets/controls",
            "_model_module_version": "1.5.0",
            "_model_name": "HBoxModel",
            "_view_count": null,
            "_view_module": "@jupyter-widgets/controls",
            "_view_module_version": "1.5.0",
            "_view_name": "HBoxView",
            "box_style": "",
            "children": [
              "IPY_MODEL_552d6886060d41d1a399c5486bac400a",
              "IPY_MODEL_fb511fbd01284657b51d6b872fa579bc",
              "IPY_MODEL_009f26bbb0134a01a4c97866b2123a19"
            ],
            "layout": "IPY_MODEL_a85ba1b9dc384259ae1882487e7ea94a"
          }
        },
        "552d6886060d41d1a399c5486bac400a": {
          "model_module": "@jupyter-widgets/controls",
          "model_name": "HTMLModel",
          "model_module_version": "1.5.0",
          "state": {
            "_dom_classes": [],
            "_model_module": "@jupyter-widgets/controls",
            "_model_module_version": "1.5.0",
            "_model_name": "HTMLModel",
            "_view_count": null,
            "_view_module": "@jupyter-widgets/controls",
            "_view_module_version": "1.5.0",
            "_view_name": "HTMLView",
            "description": "",
            "description_tooltip": null,
            "layout": "IPY_MODEL_3a779e1b24af4dad8d2ef622b7e5cb58",
            "placeholder": "​",
            "style": "IPY_MODEL_ba5dbda4b48c4e8dbd1407ebe0ba367c",
            "value": "100%"
          }
        },
        "fb511fbd01284657b51d6b872fa579bc": {
          "model_module": "@jupyter-widgets/controls",
          "model_name": "FloatProgressModel",
          "model_module_version": "1.5.0",
          "state": {
            "_dom_classes": [],
            "_model_module": "@jupyter-widgets/controls",
            "_model_module_version": "1.5.0",
            "_model_name": "FloatProgressModel",
            "_view_count": null,
            "_view_module": "@jupyter-widgets/controls",
            "_view_module_version": "1.5.0",
            "_view_name": "ProgressView",
            "bar_style": "success",
            "description": "",
            "description_tooltip": null,
            "layout": "IPY_MODEL_e33b2c74786a4c479ec5304fc675357f",
            "max": 26421880,
            "min": 0,
            "orientation": "horizontal",
            "style": "IPY_MODEL_5282d5f0f82c429d80ae0c639755fbf8",
            "value": 26421880
          }
        },
        "009f26bbb0134a01a4c97866b2123a19": {
          "model_module": "@jupyter-widgets/controls",
          "model_name": "HTMLModel",
          "model_module_version": "1.5.0",
          "state": {
            "_dom_classes": [],
            "_model_module": "@jupyter-widgets/controls",
            "_model_module_version": "1.5.0",
            "_model_name": "HTMLModel",
            "_view_count": null,
            "_view_module": "@jupyter-widgets/controls",
            "_view_module_version": "1.5.0",
            "_view_name": "HTMLView",
            "description": "",
            "description_tooltip": null,
            "layout": "IPY_MODEL_f6b61690ed484a4892c4aed0efad8013",
            "placeholder": "​",
            "style": "IPY_MODEL_00a94850743f4654b6dc3397acc3180c",
            "value": " 26421880/26421880 [00:02&lt;00:00, 13429142.56it/s]"
          }
        },
        "a85ba1b9dc384259ae1882487e7ea94a": {
          "model_module": "@jupyter-widgets/base",
          "model_name": "LayoutModel",
          "model_module_version": "1.2.0",
          "state": {
            "_model_module": "@jupyter-widgets/base",
            "_model_module_version": "1.2.0",
            "_model_name": "LayoutModel",
            "_view_count": null,
            "_view_module": "@jupyter-widgets/base",
            "_view_module_version": "1.2.0",
            "_view_name": "LayoutView",
            "align_content": null,
            "align_items": null,
            "align_self": null,
            "border": null,
            "bottom": null,
            "display": null,
            "flex": null,
            "flex_flow": null,
            "grid_area": null,
            "grid_auto_columns": null,
            "grid_auto_flow": null,
            "grid_auto_rows": null,
            "grid_column": null,
            "grid_gap": null,
            "grid_row": null,
            "grid_template_areas": null,
            "grid_template_columns": null,
            "grid_template_rows": null,
            "height": null,
            "justify_content": null,
            "justify_items": null,
            "left": null,
            "margin": null,
            "max_height": null,
            "max_width": null,
            "min_height": null,
            "min_width": null,
            "object_fit": null,
            "object_position": null,
            "order": null,
            "overflow": null,
            "overflow_x": null,
            "overflow_y": null,
            "padding": null,
            "right": null,
            "top": null,
            "visibility": null,
            "width": null
          }
        },
        "3a779e1b24af4dad8d2ef622b7e5cb58": {
          "model_module": "@jupyter-widgets/base",
          "model_name": "LayoutModel",
          "model_module_version": "1.2.0",
          "state": {
            "_model_module": "@jupyter-widgets/base",
            "_model_module_version": "1.2.0",
            "_model_name": "LayoutModel",
            "_view_count": null,
            "_view_module": "@jupyter-widgets/base",
            "_view_module_version": "1.2.0",
            "_view_name": "LayoutView",
            "align_content": null,
            "align_items": null,
            "align_self": null,
            "border": null,
            "bottom": null,
            "display": null,
            "flex": null,
            "flex_flow": null,
            "grid_area": null,
            "grid_auto_columns": null,
            "grid_auto_flow": null,
            "grid_auto_rows": null,
            "grid_column": null,
            "grid_gap": null,
            "grid_row": null,
            "grid_template_areas": null,
            "grid_template_columns": null,
            "grid_template_rows": null,
            "height": null,
            "justify_content": null,
            "justify_items": null,
            "left": null,
            "margin": null,
            "max_height": null,
            "max_width": null,
            "min_height": null,
            "min_width": null,
            "object_fit": null,
            "object_position": null,
            "order": null,
            "overflow": null,
            "overflow_x": null,
            "overflow_y": null,
            "padding": null,
            "right": null,
            "top": null,
            "visibility": null,
            "width": null
          }
        },
        "ba5dbda4b48c4e8dbd1407ebe0ba367c": {
          "model_module": "@jupyter-widgets/controls",
          "model_name": "DescriptionStyleModel",
          "model_module_version": "1.5.0",
          "state": {
            "_model_module": "@jupyter-widgets/controls",
            "_model_module_version": "1.5.0",
            "_model_name": "DescriptionStyleModel",
            "_view_count": null,
            "_view_module": "@jupyter-widgets/base",
            "_view_module_version": "1.2.0",
            "_view_name": "StyleView",
            "description_width": ""
          }
        },
        "e33b2c74786a4c479ec5304fc675357f": {
          "model_module": "@jupyter-widgets/base",
          "model_name": "LayoutModel",
          "model_module_version": "1.2.0",
          "state": {
            "_model_module": "@jupyter-widgets/base",
            "_model_module_version": "1.2.0",
            "_model_name": "LayoutModel",
            "_view_count": null,
            "_view_module": "@jupyter-widgets/base",
            "_view_module_version": "1.2.0",
            "_view_name": "LayoutView",
            "align_content": null,
            "align_items": null,
            "align_self": null,
            "border": null,
            "bottom": null,
            "display": null,
            "flex": null,
            "flex_flow": null,
            "grid_area": null,
            "grid_auto_columns": null,
            "grid_auto_flow": null,
            "grid_auto_rows": null,
            "grid_column": null,
            "grid_gap": null,
            "grid_row": null,
            "grid_template_areas": null,
            "grid_template_columns": null,
            "grid_template_rows": null,
            "height": null,
            "justify_content": null,
            "justify_items": null,
            "left": null,
            "margin": null,
            "max_height": null,
            "max_width": null,
            "min_height": null,
            "min_width": null,
            "object_fit": null,
            "object_position": null,
            "order": null,
            "overflow": null,
            "overflow_x": null,
            "overflow_y": null,
            "padding": null,
            "right": null,
            "top": null,
            "visibility": null,
            "width": null
          }
        },
        "5282d5f0f82c429d80ae0c639755fbf8": {
          "model_module": "@jupyter-widgets/controls",
          "model_name": "ProgressStyleModel",
          "model_module_version": "1.5.0",
          "state": {
            "_model_module": "@jupyter-widgets/controls",
            "_model_module_version": "1.5.0",
            "_model_name": "ProgressStyleModel",
            "_view_count": null,
            "_view_module": "@jupyter-widgets/base",
            "_view_module_version": "1.2.0",
            "_view_name": "StyleView",
            "bar_color": null,
            "description_width": ""
          }
        },
        "f6b61690ed484a4892c4aed0efad8013": {
          "model_module": "@jupyter-widgets/base",
          "model_name": "LayoutModel",
          "model_module_version": "1.2.0",
          "state": {
            "_model_module": "@jupyter-widgets/base",
            "_model_module_version": "1.2.0",
            "_model_name": "LayoutModel",
            "_view_count": null,
            "_view_module": "@jupyter-widgets/base",
            "_view_module_version": "1.2.0",
            "_view_name": "LayoutView",
            "align_content": null,
            "align_items": null,
            "align_self": null,
            "border": null,
            "bottom": null,
            "display": null,
            "flex": null,
            "flex_flow": null,
            "grid_area": null,
            "grid_auto_columns": null,
            "grid_auto_flow": null,
            "grid_auto_rows": null,
            "grid_column": null,
            "grid_gap": null,
            "grid_row": null,
            "grid_template_areas": null,
            "grid_template_columns": null,
            "grid_template_rows": null,
            "height": null,
            "justify_content": null,
            "justify_items": null,
            "left": null,
            "margin": null,
            "max_height": null,
            "max_width": null,
            "min_height": null,
            "min_width": null,
            "object_fit": null,
            "object_position": null,
            "order": null,
            "overflow": null,
            "overflow_x": null,
            "overflow_y": null,
            "padding": null,
            "right": null,
            "top": null,
            "visibility": null,
            "width": null
          }
        },
        "00a94850743f4654b6dc3397acc3180c": {
          "model_module": "@jupyter-widgets/controls",
          "model_name": "DescriptionStyleModel",
          "model_module_version": "1.5.0",
          "state": {
            "_model_module": "@jupyter-widgets/controls",
            "_model_module_version": "1.5.0",
            "_model_name": "DescriptionStyleModel",
            "_view_count": null,
            "_view_module": "@jupyter-widgets/base",
            "_view_module_version": "1.2.0",
            "_view_name": "StyleView",
            "description_width": ""
          }
        },
        "60bd0f74ace248f8ae8bdc6ca500786e": {
          "model_module": "@jupyter-widgets/controls",
          "model_name": "HBoxModel",
          "model_module_version": "1.5.0",
          "state": {
            "_dom_classes": [],
            "_model_module": "@jupyter-widgets/controls",
            "_model_module_version": "1.5.0",
            "_model_name": "HBoxModel",
            "_view_count": null,
            "_view_module": "@jupyter-widgets/controls",
            "_view_module_version": "1.5.0",
            "_view_name": "HBoxView",
            "box_style": "",
            "children": [
              "IPY_MODEL_d4e7b590d1974fdca22a79dd2f027c7c",
              "IPY_MODEL_48e4d17cc33240afa735455ffbb4bb07",
              "IPY_MODEL_99f4bbe9b48a47d890f7d0081b01cb00"
            ],
            "layout": "IPY_MODEL_84858a90b8714d28ab39713f32425742"
          }
        },
        "d4e7b590d1974fdca22a79dd2f027c7c": {
          "model_module": "@jupyter-widgets/controls",
          "model_name": "HTMLModel",
          "model_module_version": "1.5.0",
          "state": {
            "_dom_classes": [],
            "_model_module": "@jupyter-widgets/controls",
            "_model_module_version": "1.5.0",
            "_model_name": "HTMLModel",
            "_view_count": null,
            "_view_module": "@jupyter-widgets/controls",
            "_view_module_version": "1.5.0",
            "_view_name": "HTMLView",
            "description": "",
            "description_tooltip": null,
            "layout": "IPY_MODEL_31fac1ddcdea4e3d9e55fa60fbd51e9c",
            "placeholder": "​",
            "style": "IPY_MODEL_423b41c6c6cb45a8beef1898052976f8",
            "value": "100%"
          }
        },
        "48e4d17cc33240afa735455ffbb4bb07": {
          "model_module": "@jupyter-widgets/controls",
          "model_name": "FloatProgressModel",
          "model_module_version": "1.5.0",
          "state": {
            "_dom_classes": [],
            "_model_module": "@jupyter-widgets/controls",
            "_model_module_version": "1.5.0",
            "_model_name": "FloatProgressModel",
            "_view_count": null,
            "_view_module": "@jupyter-widgets/controls",
            "_view_module_version": "1.5.0",
            "_view_name": "ProgressView",
            "bar_style": "success",
            "description": "",
            "description_tooltip": null,
            "layout": "IPY_MODEL_a11d14c9716942b3ba9cb262bed9e174",
            "max": 29515,
            "min": 0,
            "orientation": "horizontal",
            "style": "IPY_MODEL_9f1c8903836a432f9933293e77402743",
            "value": 29515
          }
        },
        "99f4bbe9b48a47d890f7d0081b01cb00": {
          "model_module": "@jupyter-widgets/controls",
          "model_name": "HTMLModel",
          "model_module_version": "1.5.0",
          "state": {
            "_dom_classes": [],
            "_model_module": "@jupyter-widgets/controls",
            "_model_module_version": "1.5.0",
            "_model_name": "HTMLModel",
            "_view_count": null,
            "_view_module": "@jupyter-widgets/controls",
            "_view_module_version": "1.5.0",
            "_view_name": "HTMLView",
            "description": "",
            "description_tooltip": null,
            "layout": "IPY_MODEL_490e354d95af43b7beccb4f8fe0d7e96",
            "placeholder": "​",
            "style": "IPY_MODEL_da83186445e7469e928a8510fa2051af",
            "value": " 29515/29515 [00:00&lt;00:00, 148368.40it/s]"
          }
        },
        "84858a90b8714d28ab39713f32425742": {
          "model_module": "@jupyter-widgets/base",
          "model_name": "LayoutModel",
          "model_module_version": "1.2.0",
          "state": {
            "_model_module": "@jupyter-widgets/base",
            "_model_module_version": "1.2.0",
            "_model_name": "LayoutModel",
            "_view_count": null,
            "_view_module": "@jupyter-widgets/base",
            "_view_module_version": "1.2.0",
            "_view_name": "LayoutView",
            "align_content": null,
            "align_items": null,
            "align_self": null,
            "border": null,
            "bottom": null,
            "display": null,
            "flex": null,
            "flex_flow": null,
            "grid_area": null,
            "grid_auto_columns": null,
            "grid_auto_flow": null,
            "grid_auto_rows": null,
            "grid_column": null,
            "grid_gap": null,
            "grid_row": null,
            "grid_template_areas": null,
            "grid_template_columns": null,
            "grid_template_rows": null,
            "height": null,
            "justify_content": null,
            "justify_items": null,
            "left": null,
            "margin": null,
            "max_height": null,
            "max_width": null,
            "min_height": null,
            "min_width": null,
            "object_fit": null,
            "object_position": null,
            "order": null,
            "overflow": null,
            "overflow_x": null,
            "overflow_y": null,
            "padding": null,
            "right": null,
            "top": null,
            "visibility": null,
            "width": null
          }
        },
        "31fac1ddcdea4e3d9e55fa60fbd51e9c": {
          "model_module": "@jupyter-widgets/base",
          "model_name": "LayoutModel",
          "model_module_version": "1.2.0",
          "state": {
            "_model_module": "@jupyter-widgets/base",
            "_model_module_version": "1.2.0",
            "_model_name": "LayoutModel",
            "_view_count": null,
            "_view_module": "@jupyter-widgets/base",
            "_view_module_version": "1.2.0",
            "_view_name": "LayoutView",
            "align_content": null,
            "align_items": null,
            "align_self": null,
            "border": null,
            "bottom": null,
            "display": null,
            "flex": null,
            "flex_flow": null,
            "grid_area": null,
            "grid_auto_columns": null,
            "grid_auto_flow": null,
            "grid_auto_rows": null,
            "grid_column": null,
            "grid_gap": null,
            "grid_row": null,
            "grid_template_areas": null,
            "grid_template_columns": null,
            "grid_template_rows": null,
            "height": null,
            "justify_content": null,
            "justify_items": null,
            "left": null,
            "margin": null,
            "max_height": null,
            "max_width": null,
            "min_height": null,
            "min_width": null,
            "object_fit": null,
            "object_position": null,
            "order": null,
            "overflow": null,
            "overflow_x": null,
            "overflow_y": null,
            "padding": null,
            "right": null,
            "top": null,
            "visibility": null,
            "width": null
          }
        },
        "423b41c6c6cb45a8beef1898052976f8": {
          "model_module": "@jupyter-widgets/controls",
          "model_name": "DescriptionStyleModel",
          "model_module_version": "1.5.0",
          "state": {
            "_model_module": "@jupyter-widgets/controls",
            "_model_module_version": "1.5.0",
            "_model_name": "DescriptionStyleModel",
            "_view_count": null,
            "_view_module": "@jupyter-widgets/base",
            "_view_module_version": "1.2.0",
            "_view_name": "StyleView",
            "description_width": ""
          }
        },
        "a11d14c9716942b3ba9cb262bed9e174": {
          "model_module": "@jupyter-widgets/base",
          "model_name": "LayoutModel",
          "model_module_version": "1.2.0",
          "state": {
            "_model_module": "@jupyter-widgets/base",
            "_model_module_version": "1.2.0",
            "_model_name": "LayoutModel",
            "_view_count": null,
            "_view_module": "@jupyter-widgets/base",
            "_view_module_version": "1.2.0",
            "_view_name": "LayoutView",
            "align_content": null,
            "align_items": null,
            "align_self": null,
            "border": null,
            "bottom": null,
            "display": null,
            "flex": null,
            "flex_flow": null,
            "grid_area": null,
            "grid_auto_columns": null,
            "grid_auto_flow": null,
            "grid_auto_rows": null,
            "grid_column": null,
            "grid_gap": null,
            "grid_row": null,
            "grid_template_areas": null,
            "grid_template_columns": null,
            "grid_template_rows": null,
            "height": null,
            "justify_content": null,
            "justify_items": null,
            "left": null,
            "margin": null,
            "max_height": null,
            "max_width": null,
            "min_height": null,
            "min_width": null,
            "object_fit": null,
            "object_position": null,
            "order": null,
            "overflow": null,
            "overflow_x": null,
            "overflow_y": null,
            "padding": null,
            "right": null,
            "top": null,
            "visibility": null,
            "width": null
          }
        },
        "9f1c8903836a432f9933293e77402743": {
          "model_module": "@jupyter-widgets/controls",
          "model_name": "ProgressStyleModel",
          "model_module_version": "1.5.0",
          "state": {
            "_model_module": "@jupyter-widgets/controls",
            "_model_module_version": "1.5.0",
            "_model_name": "ProgressStyleModel",
            "_view_count": null,
            "_view_module": "@jupyter-widgets/base",
            "_view_module_version": "1.2.0",
            "_view_name": "StyleView",
            "bar_color": null,
            "description_width": ""
          }
        },
        "490e354d95af43b7beccb4f8fe0d7e96": {
          "model_module": "@jupyter-widgets/base",
          "model_name": "LayoutModel",
          "model_module_version": "1.2.0",
          "state": {
            "_model_module": "@jupyter-widgets/base",
            "_model_module_version": "1.2.0",
            "_model_name": "LayoutModel",
            "_view_count": null,
            "_view_module": "@jupyter-widgets/base",
            "_view_module_version": "1.2.0",
            "_view_name": "LayoutView",
            "align_content": null,
            "align_items": null,
            "align_self": null,
            "border": null,
            "bottom": null,
            "display": null,
            "flex": null,
            "flex_flow": null,
            "grid_area": null,
            "grid_auto_columns": null,
            "grid_auto_flow": null,
            "grid_auto_rows": null,
            "grid_column": null,
            "grid_gap": null,
            "grid_row": null,
            "grid_template_areas": null,
            "grid_template_columns": null,
            "grid_template_rows": null,
            "height": null,
            "justify_content": null,
            "justify_items": null,
            "left": null,
            "margin": null,
            "max_height": null,
            "max_width": null,
            "min_height": null,
            "min_width": null,
            "object_fit": null,
            "object_position": null,
            "order": null,
            "overflow": null,
            "overflow_x": null,
            "overflow_y": null,
            "padding": null,
            "right": null,
            "top": null,
            "visibility": null,
            "width": null
          }
        },
        "da83186445e7469e928a8510fa2051af": {
          "model_module": "@jupyter-widgets/controls",
          "model_name": "DescriptionStyleModel",
          "model_module_version": "1.5.0",
          "state": {
            "_model_module": "@jupyter-widgets/controls",
            "_model_module_version": "1.5.0",
            "_model_name": "DescriptionStyleModel",
            "_view_count": null,
            "_view_module": "@jupyter-widgets/base",
            "_view_module_version": "1.2.0",
            "_view_name": "StyleView",
            "description_width": ""
          }
        },
        "1e5b3021bd2e439ba95384e9188ef195": {
          "model_module": "@jupyter-widgets/controls",
          "model_name": "HBoxModel",
          "model_module_version": "1.5.0",
          "state": {
            "_dom_classes": [],
            "_model_module": "@jupyter-widgets/controls",
            "_model_module_version": "1.5.0",
            "_model_name": "HBoxModel",
            "_view_count": null,
            "_view_module": "@jupyter-widgets/controls",
            "_view_module_version": "1.5.0",
            "_view_name": "HBoxView",
            "box_style": "",
            "children": [
              "IPY_MODEL_3d7afe97750b438189405aaddde49546",
              "IPY_MODEL_c7e512b67a554de8875f223f64f067d4",
              "IPY_MODEL_7b9b42620bd74bec9d1290e08581cacd"
            ],
            "layout": "IPY_MODEL_719a7fa7548545e296271db6681a0e2a"
          }
        },
        "3d7afe97750b438189405aaddde49546": {
          "model_module": "@jupyter-widgets/controls",
          "model_name": "HTMLModel",
          "model_module_version": "1.5.0",
          "state": {
            "_dom_classes": [],
            "_model_module": "@jupyter-widgets/controls",
            "_model_module_version": "1.5.0",
            "_model_name": "HTMLModel",
            "_view_count": null,
            "_view_module": "@jupyter-widgets/controls",
            "_view_module_version": "1.5.0",
            "_view_name": "HTMLView",
            "description": "",
            "description_tooltip": null,
            "layout": "IPY_MODEL_8f33fa3844274222bf9657eb99db30fd",
            "placeholder": "​",
            "style": "IPY_MODEL_1bf0457335ca44b0916cdcbf059d941f",
            "value": "100%"
          }
        },
        "c7e512b67a554de8875f223f64f067d4": {
          "model_module": "@jupyter-widgets/controls",
          "model_name": "FloatProgressModel",
          "model_module_version": "1.5.0",
          "state": {
            "_dom_classes": [],
            "_model_module": "@jupyter-widgets/controls",
            "_model_module_version": "1.5.0",
            "_model_name": "FloatProgressModel",
            "_view_count": null,
            "_view_module": "@jupyter-widgets/controls",
            "_view_module_version": "1.5.0",
            "_view_name": "ProgressView",
            "bar_style": "success",
            "description": "",
            "description_tooltip": null,
            "layout": "IPY_MODEL_a616d85cb43c4a6dab90716630a49189",
            "max": 4422102,
            "min": 0,
            "orientation": "horizontal",
            "style": "IPY_MODEL_c9f9810719be447eb8205a13fc6af32c",
            "value": 4422102
          }
        },
        "7b9b42620bd74bec9d1290e08581cacd": {
          "model_module": "@jupyter-widgets/controls",
          "model_name": "HTMLModel",
          "model_module_version": "1.5.0",
          "state": {
            "_dom_classes": [],
            "_model_module": "@jupyter-widgets/controls",
            "_model_module_version": "1.5.0",
            "_model_name": "HTMLModel",
            "_view_count": null,
            "_view_module": "@jupyter-widgets/controls",
            "_view_module_version": "1.5.0",
            "_view_name": "HTMLView",
            "description": "",
            "description_tooltip": null,
            "layout": "IPY_MODEL_e063ff71970040fe9d52dc8da832fd1f",
            "placeholder": "​",
            "style": "IPY_MODEL_9016462714a744a89cdb155b9590cac3",
            "value": " 4422102/4422102 [00:01&lt;00:00, 4622083.91it/s]"
          }
        },
        "719a7fa7548545e296271db6681a0e2a": {
          "model_module": "@jupyter-widgets/base",
          "model_name": "LayoutModel",
          "model_module_version": "1.2.0",
          "state": {
            "_model_module": "@jupyter-widgets/base",
            "_model_module_version": "1.2.0",
            "_model_name": "LayoutModel",
            "_view_count": null,
            "_view_module": "@jupyter-widgets/base",
            "_view_module_version": "1.2.0",
            "_view_name": "LayoutView",
            "align_content": null,
            "align_items": null,
            "align_self": null,
            "border": null,
            "bottom": null,
            "display": null,
            "flex": null,
            "flex_flow": null,
            "grid_area": null,
            "grid_auto_columns": null,
            "grid_auto_flow": null,
            "grid_auto_rows": null,
            "grid_column": null,
            "grid_gap": null,
            "grid_row": null,
            "grid_template_areas": null,
            "grid_template_columns": null,
            "grid_template_rows": null,
            "height": null,
            "justify_content": null,
            "justify_items": null,
            "left": null,
            "margin": null,
            "max_height": null,
            "max_width": null,
            "min_height": null,
            "min_width": null,
            "object_fit": null,
            "object_position": null,
            "order": null,
            "overflow": null,
            "overflow_x": null,
            "overflow_y": null,
            "padding": null,
            "right": null,
            "top": null,
            "visibility": null,
            "width": null
          }
        },
        "8f33fa3844274222bf9657eb99db30fd": {
          "model_module": "@jupyter-widgets/base",
          "model_name": "LayoutModel",
          "model_module_version": "1.2.0",
          "state": {
            "_model_module": "@jupyter-widgets/base",
            "_model_module_version": "1.2.0",
            "_model_name": "LayoutModel",
            "_view_count": null,
            "_view_module": "@jupyter-widgets/base",
            "_view_module_version": "1.2.0",
            "_view_name": "LayoutView",
            "align_content": null,
            "align_items": null,
            "align_self": null,
            "border": null,
            "bottom": null,
            "display": null,
            "flex": null,
            "flex_flow": null,
            "grid_area": null,
            "grid_auto_columns": null,
            "grid_auto_flow": null,
            "grid_auto_rows": null,
            "grid_column": null,
            "grid_gap": null,
            "grid_row": null,
            "grid_template_areas": null,
            "grid_template_columns": null,
            "grid_template_rows": null,
            "height": null,
            "justify_content": null,
            "justify_items": null,
            "left": null,
            "margin": null,
            "max_height": null,
            "max_width": null,
            "min_height": null,
            "min_width": null,
            "object_fit": null,
            "object_position": null,
            "order": null,
            "overflow": null,
            "overflow_x": null,
            "overflow_y": null,
            "padding": null,
            "right": null,
            "top": null,
            "visibility": null,
            "width": null
          }
        },
        "1bf0457335ca44b0916cdcbf059d941f": {
          "model_module": "@jupyter-widgets/controls",
          "model_name": "DescriptionStyleModel",
          "model_module_version": "1.5.0",
          "state": {
            "_model_module": "@jupyter-widgets/controls",
            "_model_module_version": "1.5.0",
            "_model_name": "DescriptionStyleModel",
            "_view_count": null,
            "_view_module": "@jupyter-widgets/base",
            "_view_module_version": "1.2.0",
            "_view_name": "StyleView",
            "description_width": ""
          }
        },
        "a616d85cb43c4a6dab90716630a49189": {
          "model_module": "@jupyter-widgets/base",
          "model_name": "LayoutModel",
          "model_module_version": "1.2.0",
          "state": {
            "_model_module": "@jupyter-widgets/base",
            "_model_module_version": "1.2.0",
            "_model_name": "LayoutModel",
            "_view_count": null,
            "_view_module": "@jupyter-widgets/base",
            "_view_module_version": "1.2.0",
            "_view_name": "LayoutView",
            "align_content": null,
            "align_items": null,
            "align_self": null,
            "border": null,
            "bottom": null,
            "display": null,
            "flex": null,
            "flex_flow": null,
            "grid_area": null,
            "grid_auto_columns": null,
            "grid_auto_flow": null,
            "grid_auto_rows": null,
            "grid_column": null,
            "grid_gap": null,
            "grid_row": null,
            "grid_template_areas": null,
            "grid_template_columns": null,
            "grid_template_rows": null,
            "height": null,
            "justify_content": null,
            "justify_items": null,
            "left": null,
            "margin": null,
            "max_height": null,
            "max_width": null,
            "min_height": null,
            "min_width": null,
            "object_fit": null,
            "object_position": null,
            "order": null,
            "overflow": null,
            "overflow_x": null,
            "overflow_y": null,
            "padding": null,
            "right": null,
            "top": null,
            "visibility": null,
            "width": null
          }
        },
        "c9f9810719be447eb8205a13fc6af32c": {
          "model_module": "@jupyter-widgets/controls",
          "model_name": "ProgressStyleModel",
          "model_module_version": "1.5.0",
          "state": {
            "_model_module": "@jupyter-widgets/controls",
            "_model_module_version": "1.5.0",
            "_model_name": "ProgressStyleModel",
            "_view_count": null,
            "_view_module": "@jupyter-widgets/base",
            "_view_module_version": "1.2.0",
            "_view_name": "StyleView",
            "bar_color": null,
            "description_width": ""
          }
        },
        "e063ff71970040fe9d52dc8da832fd1f": {
          "model_module": "@jupyter-widgets/base",
          "model_name": "LayoutModel",
          "model_module_version": "1.2.0",
          "state": {
            "_model_module": "@jupyter-widgets/base",
            "_model_module_version": "1.2.0",
            "_model_name": "LayoutModel",
            "_view_count": null,
            "_view_module": "@jupyter-widgets/base",
            "_view_module_version": "1.2.0",
            "_view_name": "LayoutView",
            "align_content": null,
            "align_items": null,
            "align_self": null,
            "border": null,
            "bottom": null,
            "display": null,
            "flex": null,
            "flex_flow": null,
            "grid_area": null,
            "grid_auto_columns": null,
            "grid_auto_flow": null,
            "grid_auto_rows": null,
            "grid_column": null,
            "grid_gap": null,
            "grid_row": null,
            "grid_template_areas": null,
            "grid_template_columns": null,
            "grid_template_rows": null,
            "height": null,
            "justify_content": null,
            "justify_items": null,
            "left": null,
            "margin": null,
            "max_height": null,
            "max_width": null,
            "min_height": null,
            "min_width": null,
            "object_fit": null,
            "object_position": null,
            "order": null,
            "overflow": null,
            "overflow_x": null,
            "overflow_y": null,
            "padding": null,
            "right": null,
            "top": null,
            "visibility": null,
            "width": null
          }
        },
        "9016462714a744a89cdb155b9590cac3": {
          "model_module": "@jupyter-widgets/controls",
          "model_name": "DescriptionStyleModel",
          "model_module_version": "1.5.0",
          "state": {
            "_model_module": "@jupyter-widgets/controls",
            "_model_module_version": "1.5.0",
            "_model_name": "DescriptionStyleModel",
            "_view_count": null,
            "_view_module": "@jupyter-widgets/base",
            "_view_module_version": "1.2.0",
            "_view_name": "StyleView",
            "description_width": ""
          }
        },
        "7697c8009ecf43ba9f4be52a8c34cba2": {
          "model_module": "@jupyter-widgets/controls",
          "model_name": "HBoxModel",
          "model_module_version": "1.5.0",
          "state": {
            "_dom_classes": [],
            "_model_module": "@jupyter-widgets/controls",
            "_model_module_version": "1.5.0",
            "_model_name": "HBoxModel",
            "_view_count": null,
            "_view_module": "@jupyter-widgets/controls",
            "_view_module_version": "1.5.0",
            "_view_name": "HBoxView",
            "box_style": "",
            "children": [
              "IPY_MODEL_68f2cbeff66747309405eb6b6f0018a0",
              "IPY_MODEL_6223d045d0204b65881360085ac13743",
              "IPY_MODEL_b5833c1fda3a4afca6c5c9bf9a8d88ad"
            ],
            "layout": "IPY_MODEL_4981e7d6f9aa48089f1560150fc39621"
          }
        },
        "68f2cbeff66747309405eb6b6f0018a0": {
          "model_module": "@jupyter-widgets/controls",
          "model_name": "HTMLModel",
          "model_module_version": "1.5.0",
          "state": {
            "_dom_classes": [],
            "_model_module": "@jupyter-widgets/controls",
            "_model_module_version": "1.5.0",
            "_model_name": "HTMLModel",
            "_view_count": null,
            "_view_module": "@jupyter-widgets/controls",
            "_view_module_version": "1.5.0",
            "_view_name": "HTMLView",
            "description": "",
            "description_tooltip": null,
            "layout": "IPY_MODEL_e9035928afc54c13b4146fef8644d1fc",
            "placeholder": "​",
            "style": "IPY_MODEL_885ed8de0a9a42bd805d388fbece2a78",
            "value": "100%"
          }
        },
        "6223d045d0204b65881360085ac13743": {
          "model_module": "@jupyter-widgets/controls",
          "model_name": "FloatProgressModel",
          "model_module_version": "1.5.0",
          "state": {
            "_dom_classes": [],
            "_model_module": "@jupyter-widgets/controls",
            "_model_module_version": "1.5.0",
            "_model_name": "FloatProgressModel",
            "_view_count": null,
            "_view_module": "@jupyter-widgets/controls",
            "_view_module_version": "1.5.0",
            "_view_name": "ProgressView",
            "bar_style": "success",
            "description": "",
            "description_tooltip": null,
            "layout": "IPY_MODEL_241426640d0f417b8d95a0f9f5fa5b12",
            "max": 5148,
            "min": 0,
            "orientation": "horizontal",
            "style": "IPY_MODEL_33d585b9d61f41f0a98f302d9fdb8a02",
            "value": 5148
          }
        },
        "b5833c1fda3a4afca6c5c9bf9a8d88ad": {
          "model_module": "@jupyter-widgets/controls",
          "model_name": "HTMLModel",
          "model_module_version": "1.5.0",
          "state": {
            "_dom_classes": [],
            "_model_module": "@jupyter-widgets/controls",
            "_model_module_version": "1.5.0",
            "_model_name": "HTMLModel",
            "_view_count": null,
            "_view_module": "@jupyter-widgets/controls",
            "_view_module_version": "1.5.0",
            "_view_name": "HTMLView",
            "description": "",
            "description_tooltip": null,
            "layout": "IPY_MODEL_8f44d315ee3b4ca7a162ad08c054e4f9",
            "placeholder": "​",
            "style": "IPY_MODEL_07e6d58614074b9aae844f7ae8422ab6",
            "value": " 5148/5148 [00:00&lt;00:00, 182643.33it/s]"
          }
        },
        "4981e7d6f9aa48089f1560150fc39621": {
          "model_module": "@jupyter-widgets/base",
          "model_name": "LayoutModel",
          "model_module_version": "1.2.0",
          "state": {
            "_model_module": "@jupyter-widgets/base",
            "_model_module_version": "1.2.0",
            "_model_name": "LayoutModel",
            "_view_count": null,
            "_view_module": "@jupyter-widgets/base",
            "_view_module_version": "1.2.0",
            "_view_name": "LayoutView",
            "align_content": null,
            "align_items": null,
            "align_self": null,
            "border": null,
            "bottom": null,
            "display": null,
            "flex": null,
            "flex_flow": null,
            "grid_area": null,
            "grid_auto_columns": null,
            "grid_auto_flow": null,
            "grid_auto_rows": null,
            "grid_column": null,
            "grid_gap": null,
            "grid_row": null,
            "grid_template_areas": null,
            "grid_template_columns": null,
            "grid_template_rows": null,
            "height": null,
            "justify_content": null,
            "justify_items": null,
            "left": null,
            "margin": null,
            "max_height": null,
            "max_width": null,
            "min_height": null,
            "min_width": null,
            "object_fit": null,
            "object_position": null,
            "order": null,
            "overflow": null,
            "overflow_x": null,
            "overflow_y": null,
            "padding": null,
            "right": null,
            "top": null,
            "visibility": null,
            "width": null
          }
        },
        "e9035928afc54c13b4146fef8644d1fc": {
          "model_module": "@jupyter-widgets/base",
          "model_name": "LayoutModel",
          "model_module_version": "1.2.0",
          "state": {
            "_model_module": "@jupyter-widgets/base",
            "_model_module_version": "1.2.0",
            "_model_name": "LayoutModel",
            "_view_count": null,
            "_view_module": "@jupyter-widgets/base",
            "_view_module_version": "1.2.0",
            "_view_name": "LayoutView",
            "align_content": null,
            "align_items": null,
            "align_self": null,
            "border": null,
            "bottom": null,
            "display": null,
            "flex": null,
            "flex_flow": null,
            "grid_area": null,
            "grid_auto_columns": null,
            "grid_auto_flow": null,
            "grid_auto_rows": null,
            "grid_column": null,
            "grid_gap": null,
            "grid_row": null,
            "grid_template_areas": null,
            "grid_template_columns": null,
            "grid_template_rows": null,
            "height": null,
            "justify_content": null,
            "justify_items": null,
            "left": null,
            "margin": null,
            "max_height": null,
            "max_width": null,
            "min_height": null,
            "min_width": null,
            "object_fit": null,
            "object_position": null,
            "order": null,
            "overflow": null,
            "overflow_x": null,
            "overflow_y": null,
            "padding": null,
            "right": null,
            "top": null,
            "visibility": null,
            "width": null
          }
        },
        "885ed8de0a9a42bd805d388fbece2a78": {
          "model_module": "@jupyter-widgets/controls",
          "model_name": "DescriptionStyleModel",
          "model_module_version": "1.5.0",
          "state": {
            "_model_module": "@jupyter-widgets/controls",
            "_model_module_version": "1.5.0",
            "_model_name": "DescriptionStyleModel",
            "_view_count": null,
            "_view_module": "@jupyter-widgets/base",
            "_view_module_version": "1.2.0",
            "_view_name": "StyleView",
            "description_width": ""
          }
        },
        "241426640d0f417b8d95a0f9f5fa5b12": {
          "model_module": "@jupyter-widgets/base",
          "model_name": "LayoutModel",
          "model_module_version": "1.2.0",
          "state": {
            "_model_module": "@jupyter-widgets/base",
            "_model_module_version": "1.2.0",
            "_model_name": "LayoutModel",
            "_view_count": null,
            "_view_module": "@jupyter-widgets/base",
            "_view_module_version": "1.2.0",
            "_view_name": "LayoutView",
            "align_content": null,
            "align_items": null,
            "align_self": null,
            "border": null,
            "bottom": null,
            "display": null,
            "flex": null,
            "flex_flow": null,
            "grid_area": null,
            "grid_auto_columns": null,
            "grid_auto_flow": null,
            "grid_auto_rows": null,
            "grid_column": null,
            "grid_gap": null,
            "grid_row": null,
            "grid_template_areas": null,
            "grid_template_columns": null,
            "grid_template_rows": null,
            "height": null,
            "justify_content": null,
            "justify_items": null,
            "left": null,
            "margin": null,
            "max_height": null,
            "max_width": null,
            "min_height": null,
            "min_width": null,
            "object_fit": null,
            "object_position": null,
            "order": null,
            "overflow": null,
            "overflow_x": null,
            "overflow_y": null,
            "padding": null,
            "right": null,
            "top": null,
            "visibility": null,
            "width": null
          }
        },
        "33d585b9d61f41f0a98f302d9fdb8a02": {
          "model_module": "@jupyter-widgets/controls",
          "model_name": "ProgressStyleModel",
          "model_module_version": "1.5.0",
          "state": {
            "_model_module": "@jupyter-widgets/controls",
            "_model_module_version": "1.5.0",
            "_model_name": "ProgressStyleModel",
            "_view_count": null,
            "_view_module": "@jupyter-widgets/base",
            "_view_module_version": "1.2.0",
            "_view_name": "StyleView",
            "bar_color": null,
            "description_width": ""
          }
        },
        "8f44d315ee3b4ca7a162ad08c054e4f9": {
          "model_module": "@jupyter-widgets/base",
          "model_name": "LayoutModel",
          "model_module_version": "1.2.0",
          "state": {
            "_model_module": "@jupyter-widgets/base",
            "_model_module_version": "1.2.0",
            "_model_name": "LayoutModel",
            "_view_count": null,
            "_view_module": "@jupyter-widgets/base",
            "_view_module_version": "1.2.0",
            "_view_name": "LayoutView",
            "align_content": null,
            "align_items": null,
            "align_self": null,
            "border": null,
            "bottom": null,
            "display": null,
            "flex": null,
            "flex_flow": null,
            "grid_area": null,
            "grid_auto_columns": null,
            "grid_auto_flow": null,
            "grid_auto_rows": null,
            "grid_column": null,
            "grid_gap": null,
            "grid_row": null,
            "grid_template_areas": null,
            "grid_template_columns": null,
            "grid_template_rows": null,
            "height": null,
            "justify_content": null,
            "justify_items": null,
            "left": null,
            "margin": null,
            "max_height": null,
            "max_width": null,
            "min_height": null,
            "min_width": null,
            "object_fit": null,
            "object_position": null,
            "order": null,
            "overflow": null,
            "overflow_x": null,
            "overflow_y": null,
            "padding": null,
            "right": null,
            "top": null,
            "visibility": null,
            "width": null
          }
        },
        "07e6d58614074b9aae844f7ae8422ab6": {
          "model_module": "@jupyter-widgets/controls",
          "model_name": "DescriptionStyleModel",
          "model_module_version": "1.5.0",
          "state": {
            "_model_module": "@jupyter-widgets/controls",
            "_model_module_version": "1.5.0",
            "_model_name": "DescriptionStyleModel",
            "_view_count": null,
            "_view_module": "@jupyter-widgets/base",
            "_view_module_version": "1.2.0",
            "_view_name": "StyleView",
            "description_width": ""
          }
        },
        "d34395a9688f4cc383320571c47ea711": {
          "model_module": "@jupyter-widgets/controls",
          "model_name": "HBoxModel",
          "model_module_version": "1.5.0",
          "state": {
            "_dom_classes": [],
            "_model_module": "@jupyter-widgets/controls",
            "_model_module_version": "1.5.0",
            "_model_name": "HBoxModel",
            "_view_count": null,
            "_view_module": "@jupyter-widgets/controls",
            "_view_module_version": "1.5.0",
            "_view_name": "HBoxView",
            "box_style": "",
            "children": [
              "IPY_MODEL_c3959b0c902d4587a66a864ba7c49259",
              "IPY_MODEL_ee97221cde734a1a808d58d2ebf391ee",
              "IPY_MODEL_3c2006ee728d471683ed7159ab7524cb"
            ],
            "layout": "IPY_MODEL_3ba902b5db8e4b3f9b4eea4aa1bc9164"
          }
        },
        "c3959b0c902d4587a66a864ba7c49259": {
          "model_module": "@jupyter-widgets/controls",
          "model_name": "HTMLModel",
          "model_module_version": "1.5.0",
          "state": {
            "_dom_classes": [],
            "_model_module": "@jupyter-widgets/controls",
            "_model_module_version": "1.5.0",
            "_model_name": "HTMLModel",
            "_view_count": null,
            "_view_module": "@jupyter-widgets/controls",
            "_view_module_version": "1.5.0",
            "_view_name": "HTMLView",
            "description": "",
            "description_tooltip": null,
            "layout": "IPY_MODEL_df052abfda2442148daa8ecbf2bc7a12",
            "placeholder": "​",
            "style": "IPY_MODEL_4bcdc0ae60184d0390c31a36d42bafdb",
            "value": "100%"
          }
        },
        "ee97221cde734a1a808d58d2ebf391ee": {
          "model_module": "@jupyter-widgets/controls",
          "model_name": "FloatProgressModel",
          "model_module_version": "1.5.0",
          "state": {
            "_dom_classes": [],
            "_model_module": "@jupyter-widgets/controls",
            "_model_module_version": "1.5.0",
            "_model_name": "FloatProgressModel",
            "_view_count": null,
            "_view_module": "@jupyter-widgets/controls",
            "_view_module_version": "1.5.0",
            "_view_name": "ProgressView",
            "bar_style": "success",
            "description": "",
            "description_tooltip": null,
            "layout": "IPY_MODEL_7b1407da248c41b3bc647ecf611515a0",
            "max": 102530333,
            "min": 0,
            "orientation": "horizontal",
            "style": "IPY_MODEL_f08abf80155744a8ba0cdaf1697e62c6",
            "value": 102530333
          }
        },
        "3c2006ee728d471683ed7159ab7524cb": {
          "model_module": "@jupyter-widgets/controls",
          "model_name": "HTMLModel",
          "model_module_version": "1.5.0",
          "state": {
            "_dom_classes": [],
            "_model_module": "@jupyter-widgets/controls",
            "_model_module_version": "1.5.0",
            "_model_name": "HTMLModel",
            "_view_count": null,
            "_view_module": "@jupyter-widgets/controls",
            "_view_module_version": "1.5.0",
            "_view_name": "HTMLView",
            "description": "",
            "description_tooltip": null,
            "layout": "IPY_MODEL_939d8f7a47fd414394e5838150e290b2",
            "placeholder": "​",
            "style": "IPY_MODEL_33cee50b76a84193b2d92d5e32dda07e",
            "value": " 97.8M/97.8M [00:00&lt;00:00, 265MB/s]"
          }
        },
        "3ba902b5db8e4b3f9b4eea4aa1bc9164": {
          "model_module": "@jupyter-widgets/base",
          "model_name": "LayoutModel",
          "model_module_version": "1.2.0",
          "state": {
            "_model_module": "@jupyter-widgets/base",
            "_model_module_version": "1.2.0",
            "_model_name": "LayoutModel",
            "_view_count": null,
            "_view_module": "@jupyter-widgets/base",
            "_view_module_version": "1.2.0",
            "_view_name": "LayoutView",
            "align_content": null,
            "align_items": null,
            "align_self": null,
            "border": null,
            "bottom": null,
            "display": null,
            "flex": null,
            "flex_flow": null,
            "grid_area": null,
            "grid_auto_columns": null,
            "grid_auto_flow": null,
            "grid_auto_rows": null,
            "grid_column": null,
            "grid_gap": null,
            "grid_row": null,
            "grid_template_areas": null,
            "grid_template_columns": null,
            "grid_template_rows": null,
            "height": null,
            "justify_content": null,
            "justify_items": null,
            "left": null,
            "margin": null,
            "max_height": null,
            "max_width": null,
            "min_height": null,
            "min_width": null,
            "object_fit": null,
            "object_position": null,
            "order": null,
            "overflow": null,
            "overflow_x": null,
            "overflow_y": null,
            "padding": null,
            "right": null,
            "top": null,
            "visibility": null,
            "width": null
          }
        },
        "df052abfda2442148daa8ecbf2bc7a12": {
          "model_module": "@jupyter-widgets/base",
          "model_name": "LayoutModel",
          "model_module_version": "1.2.0",
          "state": {
            "_model_module": "@jupyter-widgets/base",
            "_model_module_version": "1.2.0",
            "_model_name": "LayoutModel",
            "_view_count": null,
            "_view_module": "@jupyter-widgets/base",
            "_view_module_version": "1.2.0",
            "_view_name": "LayoutView",
            "align_content": null,
            "align_items": null,
            "align_self": null,
            "border": null,
            "bottom": null,
            "display": null,
            "flex": null,
            "flex_flow": null,
            "grid_area": null,
            "grid_auto_columns": null,
            "grid_auto_flow": null,
            "grid_auto_rows": null,
            "grid_column": null,
            "grid_gap": null,
            "grid_row": null,
            "grid_template_areas": null,
            "grid_template_columns": null,
            "grid_template_rows": null,
            "height": null,
            "justify_content": null,
            "justify_items": null,
            "left": null,
            "margin": null,
            "max_height": null,
            "max_width": null,
            "min_height": null,
            "min_width": null,
            "object_fit": null,
            "object_position": null,
            "order": null,
            "overflow": null,
            "overflow_x": null,
            "overflow_y": null,
            "padding": null,
            "right": null,
            "top": null,
            "visibility": null,
            "width": null
          }
        },
        "4bcdc0ae60184d0390c31a36d42bafdb": {
          "model_module": "@jupyter-widgets/controls",
          "model_name": "DescriptionStyleModel",
          "model_module_version": "1.5.0",
          "state": {
            "_model_module": "@jupyter-widgets/controls",
            "_model_module_version": "1.5.0",
            "_model_name": "DescriptionStyleModel",
            "_view_count": null,
            "_view_module": "@jupyter-widgets/base",
            "_view_module_version": "1.2.0",
            "_view_name": "StyleView",
            "description_width": ""
          }
        },
        "7b1407da248c41b3bc647ecf611515a0": {
          "model_module": "@jupyter-widgets/base",
          "model_name": "LayoutModel",
          "model_module_version": "1.2.0",
          "state": {
            "_model_module": "@jupyter-widgets/base",
            "_model_module_version": "1.2.0",
            "_model_name": "LayoutModel",
            "_view_count": null,
            "_view_module": "@jupyter-widgets/base",
            "_view_module_version": "1.2.0",
            "_view_name": "LayoutView",
            "align_content": null,
            "align_items": null,
            "align_self": null,
            "border": null,
            "bottom": null,
            "display": null,
            "flex": null,
            "flex_flow": null,
            "grid_area": null,
            "grid_auto_columns": null,
            "grid_auto_flow": null,
            "grid_auto_rows": null,
            "grid_column": null,
            "grid_gap": null,
            "grid_row": null,
            "grid_template_areas": null,
            "grid_template_columns": null,
            "grid_template_rows": null,
            "height": null,
            "justify_content": null,
            "justify_items": null,
            "left": null,
            "margin": null,
            "max_height": null,
            "max_width": null,
            "min_height": null,
            "min_width": null,
            "object_fit": null,
            "object_position": null,
            "order": null,
            "overflow": null,
            "overflow_x": null,
            "overflow_y": null,
            "padding": null,
            "right": null,
            "top": null,
            "visibility": null,
            "width": null
          }
        },
        "f08abf80155744a8ba0cdaf1697e62c6": {
          "model_module": "@jupyter-widgets/controls",
          "model_name": "ProgressStyleModel",
          "model_module_version": "1.5.0",
          "state": {
            "_model_module": "@jupyter-widgets/controls",
            "_model_module_version": "1.5.0",
            "_model_name": "ProgressStyleModel",
            "_view_count": null,
            "_view_module": "@jupyter-widgets/base",
            "_view_module_version": "1.2.0",
            "_view_name": "StyleView",
            "bar_color": null,
            "description_width": ""
          }
        },
        "939d8f7a47fd414394e5838150e290b2": {
          "model_module": "@jupyter-widgets/base",
          "model_name": "LayoutModel",
          "model_module_version": "1.2.0",
          "state": {
            "_model_module": "@jupyter-widgets/base",
            "_model_module_version": "1.2.0",
            "_model_name": "LayoutModel",
            "_view_count": null,
            "_view_module": "@jupyter-widgets/base",
            "_view_module_version": "1.2.0",
            "_view_name": "LayoutView",
            "align_content": null,
            "align_items": null,
            "align_self": null,
            "border": null,
            "bottom": null,
            "display": null,
            "flex": null,
            "flex_flow": null,
            "grid_area": null,
            "grid_auto_columns": null,
            "grid_auto_flow": null,
            "grid_auto_rows": null,
            "grid_column": null,
            "grid_gap": null,
            "grid_row": null,
            "grid_template_areas": null,
            "grid_template_columns": null,
            "grid_template_rows": null,
            "height": null,
            "justify_content": null,
            "justify_items": null,
            "left": null,
            "margin": null,
            "max_height": null,
            "max_width": null,
            "min_height": null,
            "min_width": null,
            "object_fit": null,
            "object_position": null,
            "order": null,
            "overflow": null,
            "overflow_x": null,
            "overflow_y": null,
            "padding": null,
            "right": null,
            "top": null,
            "visibility": null,
            "width": null
          }
        },
        "33cee50b76a84193b2d92d5e32dda07e": {
          "model_module": "@jupyter-widgets/controls",
          "model_name": "DescriptionStyleModel",
          "model_module_version": "1.5.0",
          "state": {
            "_model_module": "@jupyter-widgets/controls",
            "_model_module_version": "1.5.0",
            "_model_name": "DescriptionStyleModel",
            "_view_count": null,
            "_view_module": "@jupyter-widgets/base",
            "_view_module_version": "1.2.0",
            "_view_name": "StyleView",
            "description_width": ""
          }
        }
      }
    },
    "gpuClass": "standard",
    "accelerator": "GPU"
  },
  "cells": [
    {
      "cell_type": "markdown",
      "metadata": {
        "id": "view-in-github",
        "colab_type": "text"
      },
      "source": [
        "<a href=\"https://colab.research.google.com/github/ellemimi/HelloWorld/blob/main/8%EC%9E%A5%EC%8A%A4%ED%84%B0%EB%94%94.ipynb\" target=\"_parent\"><img src=\"https://colab.research.google.com/assets/colab-badge.svg\" alt=\"Open In Colab\"/></a>"
      ]
    },
    {
      "cell_type": "code",
      "execution_count": 7,
      "metadata": {
        "id": "9Hlna8Hjd66O"
      },
      "outputs": [],
      "source": [
        "#먼저 필요한 라이브러리를 호출\n",
        "\n",
        "import torch \n",
        "import matplotlib.pyplot as plt \n",
        "import numpy as np \n",
        "\n",
        "import torchvision \n",
        "import torchvision.transforms as transforms \n",
        "\n",
        "import torch.nn as nn \n",
        "import torch.optim as optim"
      ]
    },
    {
      "cell_type": "code",
      "source": [
        "#예제에서 사용할 FashionMNIST 데이터셋 내려받기 \n",
        "\n",
        "trainset = torchvision.datasets.FashionMNIST( root='../chap08/data/', train= True, download=True, transform=transforms.ToTensor())"
      ],
      "metadata": {
        "colab": {
          "base_uri": "https://localhost:8080/",
          "height": 444,
          "referenced_widgets": [
            "cfcfec61bb754f079ad1410a2792c912",
            "552d6886060d41d1a399c5486bac400a",
            "fb511fbd01284657b51d6b872fa579bc",
            "009f26bbb0134a01a4c97866b2123a19",
            "a85ba1b9dc384259ae1882487e7ea94a",
            "3a779e1b24af4dad8d2ef622b7e5cb58",
            "ba5dbda4b48c4e8dbd1407ebe0ba367c",
            "e33b2c74786a4c479ec5304fc675357f",
            "5282d5f0f82c429d80ae0c639755fbf8",
            "f6b61690ed484a4892c4aed0efad8013",
            "00a94850743f4654b6dc3397acc3180c",
            "60bd0f74ace248f8ae8bdc6ca500786e",
            "d4e7b590d1974fdca22a79dd2f027c7c",
            "48e4d17cc33240afa735455ffbb4bb07",
            "99f4bbe9b48a47d890f7d0081b01cb00",
            "84858a90b8714d28ab39713f32425742",
            "31fac1ddcdea4e3d9e55fa60fbd51e9c",
            "423b41c6c6cb45a8beef1898052976f8",
            "a11d14c9716942b3ba9cb262bed9e174",
            "9f1c8903836a432f9933293e77402743",
            "490e354d95af43b7beccb4f8fe0d7e96",
            "da83186445e7469e928a8510fa2051af",
            "1e5b3021bd2e439ba95384e9188ef195",
            "3d7afe97750b438189405aaddde49546",
            "c7e512b67a554de8875f223f64f067d4",
            "7b9b42620bd74bec9d1290e08581cacd",
            "719a7fa7548545e296271db6681a0e2a",
            "8f33fa3844274222bf9657eb99db30fd",
            "1bf0457335ca44b0916cdcbf059d941f",
            "a616d85cb43c4a6dab90716630a49189",
            "c9f9810719be447eb8205a13fc6af32c",
            "e063ff71970040fe9d52dc8da832fd1f",
            "9016462714a744a89cdb155b9590cac3",
            "7697c8009ecf43ba9f4be52a8c34cba2",
            "68f2cbeff66747309405eb6b6f0018a0",
            "6223d045d0204b65881360085ac13743",
            "b5833c1fda3a4afca6c5c9bf9a8d88ad",
            "4981e7d6f9aa48089f1560150fc39621",
            "e9035928afc54c13b4146fef8644d1fc",
            "885ed8de0a9a42bd805d388fbece2a78",
            "241426640d0f417b8d95a0f9f5fa5b12",
            "33d585b9d61f41f0a98f302d9fdb8a02",
            "8f44d315ee3b4ca7a162ad08c054e4f9",
            "07e6d58614074b9aae844f7ae8422ab6"
          ]
        },
        "id": "OOftUm5zeA3H",
        "outputId": "aee1b635-5426-4b88-8fb6-60c9ed1f07a2"
      },
      "execution_count": 8,
      "outputs": [
        {
          "output_type": "stream",
          "name": "stdout",
          "text": [
            "Downloading http://fashion-mnist.s3-website.eu-central-1.amazonaws.com/train-images-idx3-ubyte.gz\n",
            "Downloading http://fashion-mnist.s3-website.eu-central-1.amazonaws.com/train-images-idx3-ubyte.gz to ../chap08/data/FashionMNIST/raw/train-images-idx3-ubyte.gz\n"
          ]
        },
        {
          "output_type": "display_data",
          "data": {
            "text/plain": [
              "  0%|          | 0/26421880 [00:00<?, ?it/s]"
            ],
            "application/vnd.jupyter.widget-view+json": {
              "version_major": 2,
              "version_minor": 0,
              "model_id": "cfcfec61bb754f079ad1410a2792c912"
            }
          },
          "metadata": {}
        },
        {
          "output_type": "stream",
          "name": "stdout",
          "text": [
            "Extracting ../chap08/data/FashionMNIST/raw/train-images-idx3-ubyte.gz to ../chap08/data/FashionMNIST/raw\n",
            "\n",
            "Downloading http://fashion-mnist.s3-website.eu-central-1.amazonaws.com/train-labels-idx1-ubyte.gz\n",
            "Downloading http://fashion-mnist.s3-website.eu-central-1.amazonaws.com/train-labels-idx1-ubyte.gz to ../chap08/data/FashionMNIST/raw/train-labels-idx1-ubyte.gz\n"
          ]
        },
        {
          "output_type": "display_data",
          "data": {
            "text/plain": [
              "  0%|          | 0/29515 [00:00<?, ?it/s]"
            ],
            "application/vnd.jupyter.widget-view+json": {
              "version_major": 2,
              "version_minor": 0,
              "model_id": "60bd0f74ace248f8ae8bdc6ca500786e"
            }
          },
          "metadata": {}
        },
        {
          "output_type": "stream",
          "name": "stdout",
          "text": [
            "Extracting ../chap08/data/FashionMNIST/raw/train-labels-idx1-ubyte.gz to ../chap08/data/FashionMNIST/raw\n",
            "\n",
            "Downloading http://fashion-mnist.s3-website.eu-central-1.amazonaws.com/t10k-images-idx3-ubyte.gz\n",
            "Downloading http://fashion-mnist.s3-website.eu-central-1.amazonaws.com/t10k-images-idx3-ubyte.gz to ../chap08/data/FashionMNIST/raw/t10k-images-idx3-ubyte.gz\n"
          ]
        },
        {
          "output_type": "display_data",
          "data": {
            "text/plain": [
              "  0%|          | 0/4422102 [00:00<?, ?it/s]"
            ],
            "application/vnd.jupyter.widget-view+json": {
              "version_major": 2,
              "version_minor": 0,
              "model_id": "1e5b3021bd2e439ba95384e9188ef195"
            }
          },
          "metadata": {}
        },
        {
          "output_type": "stream",
          "name": "stdout",
          "text": [
            "Extracting ../chap08/data/FashionMNIST/raw/t10k-images-idx3-ubyte.gz to ../chap08/data/FashionMNIST/raw\n",
            "\n",
            "Downloading http://fashion-mnist.s3-website.eu-central-1.amazonaws.com/t10k-labels-idx1-ubyte.gz\n",
            "Downloading http://fashion-mnist.s3-website.eu-central-1.amazonaws.com/t10k-labels-idx1-ubyte.gz to ../chap08/data/FashionMNIST/raw/t10k-labels-idx1-ubyte.gz\n"
          ]
        },
        {
          "output_type": "display_data",
          "data": {
            "text/plain": [
              "  0%|          | 0/5148 [00:00<?, ?it/s]"
            ],
            "application/vnd.jupyter.widget-view+json": {
              "version_major": 2,
              "version_minor": 0,
              "model_id": "7697c8009ecf43ba9f4be52a8c34cba2"
            }
          },
          "metadata": {}
        },
        {
          "output_type": "stream",
          "name": "stdout",
          "text": [
            "Extracting ../chap08/data/FashionMNIST/raw/t10k-labels-idx1-ubyte.gz to ../chap08/data/FashionMNIST/raw\n",
            "\n"
          ]
        }
      ]
    },
    {
      "cell_type": "code",
      "source": [
        "#내려받은 데이터셋을 메모리로 가져오기\n",
        "#단 trainloader 변수가 호출될 때 메모리로 가져옴\n",
        "\n",
        "batch_size = 4 \n",
        "trainloader = torch.utils.data.DataLoader(trainset, batch_size=batch_size, shuffle=True) \n",
        "\n",
        "#batch_size를 4로 설정했기 때문에 데이터를 메모리로 가져 올 때 한 번에 네 개씩 쪼개서 가져옵니다. "
      ],
      "metadata": {
        "id": "bBUHbsxTeGTh"
      },
      "execution_count": 9,
      "outputs": []
    },
    {
      "cell_type": "code",
      "source": [
        "#이제 데이터셋을 이미지와 레이블로 분리하여 학습을 위한 준비\n",
        "#분리된 데이터셋에 대한 정보를 확인\n",
        "#데이터셋 분리 \n",
        "\n",
        "dataiter = iter(trainloader) \n",
        "images, labels = dataiter.next() \n",
        "\n",
        "print(images.shape) \n",
        "print(images[0].shape) \n",
        "print(labels[0].item())"
      ],
      "metadata": {
        "colab": {
          "base_uri": "https://localhost:8080/"
        },
        "id": "kz_MCe5Fe2tI",
        "outputId": "b4efbcd7-0c57-47c8-d82d-aa9167a95a45"
      },
      "execution_count": 10,
      "outputs": [
        {
          "output_type": "stream",
          "name": "stdout",
          "text": [
            "torch.Size([4, 1, 28, 28])\n",
            "torch.Size([1, 28, 28])\n",
            "8\n"
          ]
        }
      ]
    },
    {
      "cell_type": "code",
      "source": [
        "#torch.Size([4, 1, 28, 28])\n",
        "\n",
        "# 4 :한 번의 배치 크기로 몇 개의 데이터를 가져오는지 의미\n",
        "#    앞에서 batch_size = 4를 지정했기 때문에 4를 출력\n",
        "\n",
        "# 1: 채널을 의미하는 것으로 흑백 이미지는 1을 출력하며,컬러 이미지는 3을 출력\n",
        "\n",
        "# 28, 28 : 28×28(너비×높이) 픽셀 크기의 이미지라는 의미"
      ],
      "metadata": {
        "id": "jOPVp8vyoQ_J"
      },
      "execution_count": 11,
      "outputs": []
    },
    {
      "cell_type": "code",
      "source": [
        "#코드8-5\t이미지\t데이터를\t출력하기\t위한\t전처리\n",
        "\n",
        "def imshow(img,\ttitle):\n",
        "\t\t\t\tplt.figure(figsize=(batch_size\t*\t4,\t4))\t#출력할\t개별\t이미지의\t크기\t지정\n",
        "\t\t\t\tplt.axis('off')\n",
        "\t\t\t\tplt.imshow(np.transpose(img,\t(1,\t2,\t0)))\t#①\n",
        "\t\t\t\tplt.title(title)\n",
        "\t\t\t\tplt.show()\n",
        "    \n",
        "#① 기본적으로 파이토치는 이미지 데이터셋을 \n",
        "#[배치 크기, 채널, 너비, 높이(batch size, channel, width, height)] 순서대로 저장 \n",
        "#하지만 이를 맷플롯립(matplotlib)으로 출력하기 위해서는 이미지가 [너비, 높이, 채널] 형태이어야 함 \n",
        "#즉,데이터의 형태 변경이 필요한데, 이때 사용할 수 있는 것이넘파이 라이브러리의 transpose()"
      ],
      "metadata": {
        "id": "93HgrBjifnTH"
      },
      "execution_count": 12,
      "outputs": []
    },
    {
      "cell_type": "code",
      "source": [
        "# 코드8-6\t이미지\t데이터\t출력\t함수\n",
        "\n",
        "def show_batch_images(dataloader):\n",
        "    images,\tlabels\t=\tnext(iter(dataloader))\t#이미지의\t크기는\t(4,\t28,\t28,\t1(배치\t크기,\t높이,\t너비,\t채널))\n",
        "    img\t=\ttorchvision.utils.make_grid(images)\t#좌표에\t이미지\t픽셀을\t대응시켜\t그리드\t형태로\t출력\n",
        "    imshow(img,\ttitle=[str(x.item())\tfor x in labels]) #imshow\t함수를\t사용함으로써\t데이터의\t형태는\t(채널,\t높이,\t너비)에서\t(높이,\t너비,\t채널)로\t변경\n",
        "    return images, labels"
      ],
      "metadata": {
        "id": "Zux1Uck9oOg8"
      },
      "execution_count": 13,
      "outputs": []
    },
    {
      "cell_type": "code",
      "source": [
        "#코드 8-7\t이미지\t출력\n",
        "\n",
        "images,\tlabels\t=\tshow_batch_images(trainloader)"
      ],
      "metadata": {
        "colab": {
          "base_uri": "https://localhost:8080/",
          "height": 264
        },
        "id": "d6BeWESMpH4m",
        "outputId": "b9763d1b-ae48-45ad-ec21-3e8add84370c"
      },
      "execution_count": 14,
      "outputs": [
        {
          "output_type": "display_data",
          "data": {
            "text/plain": [
              "<Figure size 1152x288 with 1 Axes>"
            ],
            "image/png": "[encoded data removed]"
          },
          "metadata": {
            "needs_background": "light"
          }
        }
      ]
    },
    {
      "cell_type": "code",
      "source": [
        "#코드 8-8\t배치\t정규화가\t적용되지\t않은\t네트워크\n",
        "\n",
        "class NormalNet(nn.Module):\n",
        "\t\t\t\tdef __init__(self):\n",
        "\t\t\t\t\t\t\t\tsuper(NormalNet,\tself).__init__()\n",
        "\t\t\t\t\t\t\t\tself.classifier\t=\tnn.Sequential(\n",
        "\t\t\t\t\t\t\t\t\t\t\t\tnn.Linear(784,\t48),\t#(28,\t28)\t크기의\t이미지로\t입력은\t784(28×28) 크기가\t됨\n",
        "\t\t\t\t\t\t\t\t\t\t\t\tnn.ReLU(),\n",
        "\t\t\t\t\t\t\t\t\t\t\t\tnn.Linear(48,\t24),\n",
        "\t\t\t\t\t\t\t\t\t\t\t\tnn.ReLU(),\n",
        "\t\t\t\t\t\t\t\t\t\t\t\tnn.Linear(24,\t10)\t#FashionMNIST의\t클래스는 총 열 개\n",
        "\t\t\t\t\t\t\t\t)\t#\tnn.Sequential을\t사용하면 forward(\t)\t함수에서 계층(layer)별로\t가독성 있게\t코드 구현이 가능\n",
        "\t\t\t\tdef forward(self,\tx):\n",
        "\t\t\t\t\t\t\t\tx\t=\tx.view(x.size(0),\t-1)\n",
        "\t\t\t\t\t\t\t\tx\t=\tself.classifier(x)\t#\tnn.Sequential에서\t정의한 계층\t호출\n",
        "\t\t\t\t\t\t\t\treturn x"
      ],
      "metadata": {
        "id": "2e55XbUPpKOs"
      },
      "execution_count": 15,
      "outputs": []
    },
    {
      "cell_type": "code",
      "source": [
        "# 코드8-9\t배치\t정규화가\t포함된\t네트워크\n",
        "\n",
        "class BNNet(nn.Module):\n",
        "\t\t\t\tdef __init__(self):\n",
        "\t\t\t\t\t\t\t\tsuper(BNNet,\tself).__init__()\n",
        "\t\t\t\t\t\t\t\tself.classifier\t=\tnn.Sequential(\n",
        "\t\t\t\t\t\t\t\t\t\t\t\tnn.Linear(784,\t48),\n",
        "\t\t\t\t\t\t\t\t\t\t\t\tnn.BatchNorm1d(48),\t#\t①\n",
        "\t\t\t\t\t\t\t\t\t\t\t\tnn.ReLU(),\n",
        "\t\t\t\t\t\t\t\t\t\t\t\tnn.Linear(48,\t24),\n",
        "\t\t\t\t\t\t\t\t\t\t\t\tnn.BatchNorm1d(24),\n",
        "\t\t\t\t\t\t\t\t\t\t\tnn.ReLU(),\n",
        "\t\t\t\t\t\t\t\t\t\t\t\tnn.Linear(24,\t10)\n",
        "\t\t\t\t\t\t\t\t)\n",
        "\t\t\t\tdef forward(self,\tx):\n",
        "\t\t\t\t\t\t\t\tx\t=\tx.view(x.size(0),\t-1)\n",
        "\t\t\t\t\t\t\t\tx\t=\tself.classifier(x)\n",
        "\t\t\t\t\t\t\t\treturn\tx\n"
      ],
      "metadata": {
        "id": "5NPDG9nopO9B"
      },
      "execution_count": 16,
      "outputs": []
    },
    {
      "cell_type": "code",
      "source": [
        "# 코드 8-10\t배치\t정규화가\t적용되지\t않은\t모델\t선언\n",
        "\n",
        "model\t=\tNormalNet()\n",
        "print(model)"
      ],
      "metadata": {
        "colab": {
          "base_uri": "https://localhost:8080/"
        },
        "id": "zoXYYbGTpo3G",
        "outputId": "d34c7625-f4fe-4083-c00c-c84dc6bd4810"
      },
      "execution_count": 17,
      "outputs": [
        {
          "output_type": "stream",
          "name": "stdout",
          "text": [
            "NormalNet(\n",
            "  (classifier): Sequential(\n",
            "    (0): Linear(in_features=784, out_features=48, bias=True)\n",
            "    (1): ReLU()\n",
            "    (2): Linear(in_features=48, out_features=24, bias=True)\n",
            "    (3): ReLU()\n",
            "    (4): Linear(in_features=24, out_features=10, bias=True)\n",
            "  )\n",
            ")\n"
          ]
        }
      ]
    },
    {
      "cell_type": "code",
      "source": [
        "# 코드 8-11\t배치\t정규화가\t적용된\t모델\t선언\n",
        "\n",
        "model_bn\t=\tBNNet()\n",
        "print(model_bn)"
      ],
      "metadata": {
        "id": "Z2GuCxvPpr4W",
        "colab": {
          "base_uri": "https://localhost:8080/"
        },
        "outputId": "d69a78b3-b106-4acf-9cb3-07133da35eb4"
      },
      "execution_count": 18,
      "outputs": [
        {
          "output_type": "stream",
          "name": "stdout",
          "text": [
            "BNNet(\n",
            "  (classifier): Sequential(\n",
            "    (0): Linear(in_features=784, out_features=48, bias=True)\n",
            "    (1): BatchNorm1d(48, eps=1e-05, momentum=0.1, affine=True, track_running_stats=True)\n",
            "    (2): ReLU()\n",
            "    (3): Linear(in_features=48, out_features=24, bias=True)\n",
            "    (4): BatchNorm1d(24, eps=1e-05, momentum=0.1, affine=True, track_running_stats=True)\n",
            "    (5): ReLU()\n",
            "    (6): Linear(in_features=24, out_features=10, bias=True)\n",
            "  )\n",
            ")\n"
          ]
        }
      ]
    },
    {
      "cell_type": "code",
      "source": [
        "#코드 8-12\t데이터셋\t메모리로\t불러오기\n",
        "\n",
        "batch_size\t=\t512\n",
        "trainloader\t=\ttorch.utils.data.DataLoader(trainset,\tbatch_size=batch_size,\tshuffle=True)"
      ],
      "metadata": {
        "id": "edMmQgRvpyTy"
      },
      "execution_count": 19,
      "outputs": []
    },
    {
      "cell_type": "code",
      "source": [
        "#코드 8-13\t옵티마이저,\t손실\t함수\t지정\n",
        "\n",
        "loss_fn\t=\tnn.CrossEntropyLoss()\n",
        "opt\t=\toptim.SGD(model.parameters(),\tlr=0.01)\n",
        "opt_bn\t=\toptim.SGD(model_bn.parameters(),\tlr=0.01)"
      ],
      "metadata": {
        "id": "lm2Ez0hbp0kM"
      },
      "execution_count": 20,
      "outputs": []
    },
    {
      "cell_type": "code",
      "source": [
        "#PDF 847\n",
        "#코드 8-14\t모델\t학습\n",
        "\n",
        "loss_arr\t=\t[]\n",
        "loss_bn_arr\t=\t[]\n",
        "max_epochs\t=\t2\n",
        "for epoch in range(max_epochs):\n",
        "\t\t\t\tfor i,\tdata in enumerate(trainloader,\t0):\n",
        "\t\t\t\t\t\t\t\tinputs,\tlabels\t=\tdata\n",
        "\t\t\t\t\t\t\t\topt.zero_grad()\t#\t배치\t정규화가\t적용되지\t않은 모델의\t학습\n",
        "\t\t\t\t\t\t\t\toutputs\t=\tmodel(inputs)\n",
        "\t\t\t\t\t\t\t\tloss\t=\tloss_fn(outputs,\tlabels)\n",
        "\t\t\t\t\t\t\t\tloss.backward()\n",
        "\t\t\t\t\t\t\t\topt.step()\n",
        "\t\t\t\t\n",
        "\t\t\t\t\t\t\t\topt_bn.zero_grad()\t#\t배치\t정규화가\t적용된\t모델의\t학습\n",
        "\t\t\t\t\t\t\t\toutputs_bn\t=\tmodel_bn(inputs)\n",
        "\t\t\t\t\t\t\t\tloss_bn\t=\tloss_fn(outputs_bn,\tlabels)\n",
        "\t\t\t\t\t\t\t\tloss_bn.backward()\n",
        "\t\t\t\t\t\t\t\topt_bn.step()\n",
        "\t\t\t\t\n",
        "\t\t\t\t\t\t\t\tloss_arr.append(loss.item())\n",
        "\t\t\t\t\t\t\t\tloss_bn_arr.append(loss_bn.item())\n",
        "\t\t\t\t\n",
        "\t\t\t\tplt.plot(loss_arr,\t'yellow',\tlabel='Normal')\n",
        "\t\t\t\tplt.plot(loss_bn_arr,\t'blue',\tlabel='BatchNorm')\n",
        "\t\t\t\tplt.legend()\n",
        "\t\t\t\tplt.show()"
      ],
      "metadata": {
        "id": "YqOoK7Jep2fd",
        "colab": {
          "base_uri": "https://localhost:8080/",
          "height": 513
        },
        "outputId": "7014b132-d12d-4360-bc0d-5d240233f28f"
      },
      "execution_count": 21,
      "outputs": [
        {
          "output_type": "display_data",
          "data": {
            "text/plain": [
              "<Figure size 432x288 with 1 Axes>"
            ],
            "image/png": "[encoded data removed]"
          },
          "metadata": {
            "needs_background": "light"
          }
        },
        {
          "output_type": "display_data",
          "data": {
            "text/plain": [
              "<Figure size 432x288 with 1 Axes>"
            ],
            "image/png": "[encoded data removed]"
          },
          "metadata": {
            "needs_background": "light"
          }
        }
      ]
    },
    {
      "cell_type": "code",
      "source": [
        "#코드 8-15\t데이터셋의\t분포를\t출력하기\t위한\t전처리\n",
        "\n",
        "N\t=\t50\n",
        "noise\t=\t0.3\n",
        "x_train\t=\ttorch.unsqueeze(torch.linspace(-1,\t1,\tN),\t1)\t#\t①\n",
        "y_train\t=\tx_train\t+\tnoise\t*\ttorch.normal(torch.zeros(N,\t1),\ttorch.ones(N,\t1))\t#\t②\n",
        "x_test\t=\ttorch.unsqueeze(torch.linspace(-1,\t1,\tN),\t1)\n",
        "y_test\t=\tx_test\t+\tnoise\t*\ttorch.normal(torch.zeros(N,\t1), torch.ones(N,\t1))"
      ],
      "metadata": {
        "id": "S96dmmWIp4eQ"
      },
      "execution_count": 22,
      "outputs": []
    },
    {
      "cell_type": "code",
      "source": [
        "# torch.linspace는 다음과 같이 사용\n",
        "#import\ttorch\n",
        "#print(torch.linspace(0,\t10))\t------\t0~10을\t100으로\t분할\n",
        "#print('---------------')\n",
        "#print(torch.linspace(0,\t10,\t5))\t------\t0~10을\t5로\t분할"
      ],
      "metadata": {
        "id": "B39rWH-Fp6Lf"
      },
      "execution_count": 23,
      "outputs": []
    },
    {
      "cell_type": "code",
      "source": [
        "# 코드 8-16\t데이터\t분포를\t그래프로\t출력\n",
        "\n",
        "plt.scatter(x_train.data.numpy(),\ty_train.data.numpy(),\tc='purple',\talpha=0.5,\tlabel='train')\t#\t①\n",
        "plt.scatter(x_test.data.numpy(),\ty_test.data.numpy(),\tc='yellow',\talpha=0.5,\tlabel='test')\n",
        "plt.legend()\n",
        "plt.show()"
      ],
      "metadata": {
        "id": "4-ODFriJqCBq",
        "colab": {
          "base_uri": "https://localhost:8080/",
          "height": 265
        },
        "outputId": "6ca4bdf0-8e18-4b21-d27e-cf7fb82c6abc"
      },
      "execution_count": 24,
      "outputs": [
        {
          "output_type": "display_data",
          "data": {
            "text/plain": [
              "<Figure size 432x288 with 1 Axes>"
            ],
            "image/png": "[encoded data removed]"
          },
          "metadata": {
            "needs_background": "light"
          }
        }
      ]
    },
    {
      "cell_type": "code",
      "source": [
        "#코드 8-17\t드롭아웃을\t위한\t모델\t생성\n",
        "\n",
        "N_h\t=\t100\n",
        "model\t=\ttorch.nn.Sequential(\n",
        "\t\t\t\ttorch.nn.Linear(1,\tN_h),\n",
        "\t\t\t\ttorch.nn.ReLU(),\n",
        "\t\t\t\ttorch.nn.Linear(N_h,\tN_h),\n",
        "\t\t\t\ttorch.nn.ReLU(),\n",
        "\t\t\t\ttorch.nn.Linear(N_h,\t1),\n",
        ")\t#\t드롭아웃이\t적용되지\t않은\t모델\n",
        "\n",
        "model_dropout\t=\ttorch.nn.Sequential(\n",
        "\t\t\t\ttorch.nn.Linear(1,\tN_h),\n",
        "\t\t\t\ttorch.nn.Dropout(0.2),\t#\t드롭아웃\t적용\n",
        "\t\t\t\ttorch.nn.ReLU(),\n",
        "\t\t\t\ttorch.nn.Linear(N_h,\tN_h),\n",
        "\t\t\t\ttorch.nn.Dropout(0.2),\n",
        "\t\t\t\ttorch.nn.ReLU(),\n",
        "\t\t\t\ttorch.nn.Linear(N_h,\t1),\n",
        ")\t#\t드롭아웃이\t적용된\t모델"
      ],
      "metadata": {
        "id": "_rNPD_rnqECx"
      },
      "execution_count": 25,
      "outputs": []
    },
    {
      "cell_type": "code",
      "source": [
        "#코드 8-18\t옵티마이저와\t손실\t함수\t지정\n",
        "\n",
        "opt\t=\ttorch.optim.Adam(model.parameters(),\tlr=0.01)\n",
        "opt_dropout\t=\ttorch.optim.Adam(model_dropout.parameters(),lr=0.01)\n",
        "loss_fn\t=\ttorch.nn.MSELoss()"
      ],
      "metadata": {
        "id": "EfOy1SjEqFxa"
      },
      "execution_count": 26,
      "outputs": []
    },
    {
      "cell_type": "code",
      "source": [
        "#코드 8-19\t모델\t학습\n",
        "max_epochs\t=\t1000\n",
        "for epoch in range(max_epochs):\n",
        "    pred\t=\tmodel(x_train)\t#\t드롭아웃이\t적용되지\t않은모델\t학습\n",
        "    loss\t=\tloss_fn(pred,\ty_train)\n",
        "    opt.zero_grad()\n",
        "    loss.backward()\n",
        "    opt.step()\n",
        "\t\t\n",
        "    pred_dropout\t=\tmodel_dropout(x_train)\t#\t드롭아웃이\t적용된\t모델\t학습\n",
        "    loss_dropout\t=\tloss_fn(pred_dropout,\ty_train)\n",
        "    opt_dropout.zero_grad()\n",
        "    loss_dropout.backward()\n",
        "    opt_dropout.step()\n",
        "\t\t\n",
        "    if epoch\t%\t50\t==\t0:\t#\tepoch를\t50으로\t나눈\t나머지가\t0이면\t다음\t진행\n",
        "\n",
        "        model.eval()\n",
        "        model_dropout.eval()\n",
        "\t\t\t\t\n",
        "        test_pred\t=\tmodel(x_test)\n",
        "        test_loss\t=\tloss_fn(test_pred,\ty_test)\n",
        "\t\t\t\t\n",
        "        test_pred_dropout\t=\tmodel_dropout(x_test)\n",
        "        test_loss_dropout\t=\tloss_fn(test_pred_dropout,\ty_test)\n",
        "\t\t\t\t\n",
        "        plt.scatter(x_train.data.numpy(),\ty_train.data.numpy(),\tc='purple',\talpha=0.5, label='train')\n",
        "        plt.scatter(x_test.data.numpy(), y_test.data.numpy(), c='yellow',\t alpha=0.5, label='test')\t\t\n",
        "\t\t\t\t\t\t\n",
        "        plt.plot(x_test.data.numpy(), test_pred.data.numpy(), 'b-', lw=3, label='normal')\n",
        "        #\t파란색\t실선으로\tx축은\t테스트\t데이터셋,\ty축은\t드롭아웃이\t적용되지\t않은\t모델의결과를\t그래프로\t출력\n",
        "        plt.plot(x_test.data.numpy(),\ttest_pred_dropout.data.numpy(),\t'g--',\tlw=3,\tlabel='dropout')\t\n",
        "\t\t\t\t#\t초록색\t점선으로\tx축은\t테스트\t데이터셋,\ty축은\t드롭아웃이\t적용된\t모델의\t결과를\t그래프로\t출력\n",
        "        plt.title('Epoch %d,\tLoss=%0.4f,\tLoss\twith\tdropout=%0.4f'\t%\t(epoch,\ttest_loss,\ttest_loss_dropout))\t\n",
        "\t\t\t\t#\t에포크,\t드롭아웃이\t적용되지\t않은\t모델의\t오차,\t드롭아웃이\t적용된\t모델의\t오차를\t타이틀로\t출력\n",
        "\n",
        "        plt.legend()\n",
        "        model.train()\n",
        "        model_dropout.train()\n",
        "        plt.pause(0.05)"
      ],
      "metadata": {
        "id": "6sv_gEDzqHHL",
        "colab": {
          "base_uri": "https://localhost:8080/",
          "height": 1000
        },
        "outputId": "a929ce17-ec27-4a1a-bebd-b067fb6576cb"
      },
      "execution_count": 27,
      "outputs": [
        {
          "output_type": "stream",
          "name": "stderr",
          "text": [
            "/usr/local/lib/python3.7/dist-packages/matplotlib/backends/backend_agg.py:214: RuntimeWarning: Glyph 9 missing from current font.\n",
            "  font.set_text(s, 0.0, flags=flags)\n",
            "/usr/local/lib/python3.7/dist-packages/matplotlib/backends/backend_agg.py:183: RuntimeWarning: Glyph 9 missing from current font.\n",
            "  font.set_text(s, 0, flags=flags)\n"
          ]
        },
        {
          "output_type": "display_data",
          "data": {
            "text/plain": [
              "<Figure size 432x288 with 1 Axes>"
            ],
            "image/png": "[encoded data removed]"
          },
          "metadata": {
            "needs_background": "light"
          }
        },
        {
          "output_type": "stream",
          "name": "stderr",
          "text": [
            "/usr/local/lib/python3.7/dist-packages/matplotlib/backends/backend_agg.py:214: RuntimeWarning: Glyph 9 missing from current font.\n",
            "  font.set_text(s, 0.0, flags=flags)\n",
            "/usr/local/lib/python3.7/dist-packages/matplotlib/backends/backend_agg.py:183: RuntimeWarning: Glyph 9 missing from current font.\n",
            "  font.set_text(s, 0, flags=flags)\n"
          ]
        },
        {
          "output_type": "display_data",
          "data": {
            "text/plain": [
              "<Figure size 432x288 with 1 Axes>"
            ],
            "image/png": "[encoded data removed]"
          },
          "metadata": {
            "needs_background": "light"
          }
        },
        {
          "output_type": "stream",
          "name": "stderr",
          "text": [
            "/usr/local/lib/python3.7/dist-packages/matplotlib/backends/backend_agg.py:214: RuntimeWarning: Glyph 9 missing from current font.\n",
            "  font.set_text(s, 0.0, flags=flags)\n",
            "/usr/local/lib/python3.7/dist-packages/matplotlib/backends/backend_agg.py:183: RuntimeWarning: Glyph 9 missing from current font.\n",
            "  font.set_text(s, 0, flags=flags)\n"
          ]
        },
        {
          "output_type": "display_data",
          "data": {
            "text/plain": [
              "<Figure size 432x288 with 1 Axes>"
            ],
            "image/png": "[encoded data removed]"
          },
          "metadata": {
            "needs_background": "light"
          }
        },
        {
          "output_type": "stream",
          "name": "stderr",
          "text": [
            "/usr/local/lib/python3.7/dist-packages/matplotlib/backends/backend_agg.py:214: RuntimeWarning: Glyph 9 missing from current font.\n",
            "  font.set_text(s, 0.0, flags=flags)\n",
            "/usr/local/lib/python3.7/dist-packages/matplotlib/backends/backend_agg.py:183: RuntimeWarning: Glyph 9 missing from current font.\n",
            "  font.set_text(s, 0, flags=flags)\n"
          ]
        },
        {
          "output_type": "display_data",
          "data": {
            "text/plain": [
              "<Figure size 432x288 with 1 Axes>"
            ],
            "image/png": "[encoded data removed]"
          },
          "metadata": {
            "needs_background": "light"
          }
        },
        {
          "output_type": "stream",
          "name": "stderr",
          "text": [
            "/usr/local/lib/python3.7/dist-packages/matplotlib/backends/backend_agg.py:214: RuntimeWarning: Glyph 9 missing from current font.\n",
            "  font.set_text(s, 0.0, flags=flags)\n",
            "/usr/local/lib/python3.7/dist-packages/matplotlib/backends/backend_agg.py:183: RuntimeWarning: Glyph 9 missing from current font.\n",
            "  font.set_text(s, 0, flags=flags)\n"
          ]
        },
        {
          "output_type": "display_data",
          "data": {
            "text/plain": [
              "<Figure size 432x288 with 1 Axes>"
            ],
            "image/png": "[encoded data removed]"
          },
          "metadata": {
            "needs_background": "light"
          }
        },
        {
          "output_type": "stream",
          "name": "stderr",
          "text": [
            "/usr/local/lib/python3.7/dist-packages/matplotlib/backends/backend_agg.py:214: RuntimeWarning: Glyph 9 missing from current font.\n",
            "  font.set_text(s, 0.0, flags=flags)\n",
            "/usr/local/lib/python3.7/dist-packages/matplotlib/backends/backend_agg.py:183: RuntimeWarning: Glyph 9 missing from current font.\n",
            "  font.set_text(s, 0, flags=flags)\n"
          ]
        },
        {
          "output_type": "display_data",
          "data": {
            "text/plain": [
              "<Figure size 432x288 with 1 Axes>"
            ],
            "image/png": "[encoded data removed]"
          },
          "metadata": {
            "needs_background": "light"
          }
        },
        {
          "output_type": "stream",
          "name": "stderr",
          "text": [
            "/usr/local/lib/python3.7/dist-packages/matplotlib/backends/backend_agg.py:214: RuntimeWarning: Glyph 9 missing from current font.\n",
            "  font.set_text(s, 0.0, flags=flags)\n",
            "/usr/local/lib/python3.7/dist-packages/matplotlib/backends/backend_agg.py:183: RuntimeWarning: Glyph 9 missing from current font.\n",
            "  font.set_text(s, 0, flags=flags)\n"
          ]
        },
        {
          "output_type": "display_data",
          "data": {
            "text/plain": [
              "<Figure size 432x288 with 1 Axes>"
            ],
            "image/png": "[encoded data removed]"
          },
          "metadata": {
            "needs_background": "light"
          }
        },
        {
          "output_type": "stream",
          "name": "stderr",
          "text": [
            "/usr/local/lib/python3.7/dist-packages/matplotlib/backends/backend_agg.py:214: RuntimeWarning: Glyph 9 missing from current font.\n",
            "  font.set_text(s, 0.0, flags=flags)\n",
            "/usr/local/lib/python3.7/dist-packages/matplotlib/backends/backend_agg.py:183: RuntimeWarning: Glyph 9 missing from current font.\n",
            "  font.set_text(s, 0, flags=flags)\n"
          ]
        },
        {
          "output_type": "display_data",
          "data": {
            "text/plain": [
              "<Figure size 432x288 with 1 Axes>"
            ],
            "image/png": "[encoded data removed]"
          },
          "metadata": {
            "needs_background": "light"
          }
        },
        {
          "output_type": "stream",
          "name": "stderr",
          "text": [
            "/usr/local/lib/python3.7/dist-packages/matplotlib/backends/backend_agg.py:214: RuntimeWarning: Glyph 9 missing from current font.\n",
            "  font.set_text(s, 0.0, flags=flags)\n",
            "/usr/local/lib/python3.7/dist-packages/matplotlib/backends/backend_agg.py:183: RuntimeWarning: Glyph 9 missing from current font.\n",
            "  font.set_text(s, 0, flags=flags)\n"
          ]
        },
        {
          "output_type": "display_data",
          "data": {
            "text/plain": [
              "<Figure size 432x288 with 1 Axes>"
            ],
            "image/png": "[encoded data removed]"
          },
          "metadata": {
            "needs_background": "light"
          }
        },
        {
          "output_type": "stream",
          "name": "stderr",
          "text": [
            "/usr/local/lib/python3.7/dist-packages/matplotlib/backends/backend_agg.py:214: RuntimeWarning: Glyph 9 missing from current font.\n",
            "  font.set_text(s, 0.0, flags=flags)\n",
            "/usr/local/lib/python3.7/dist-packages/matplotlib/backends/backend_agg.py:183: RuntimeWarning: Glyph 9 missing from current font.\n",
            "  font.set_text(s, 0, flags=flags)\n"
          ]
        },
        {
          "output_type": "display_data",
          "data": {
            "text/plain": [
              "<Figure size 432x288 with 1 Axes>"
            ],
            "image/png": "[encoded data removed]"
          },
          "metadata": {
            "needs_background": "light"
          }
        },
        {
          "output_type": "stream",
          "name": "stderr",
          "text": [
            "/usr/local/lib/python3.7/dist-packages/matplotlib/backends/backend_agg.py:214: RuntimeWarning: Glyph 9 missing from current font.\n",
            "  font.set_text(s, 0.0, flags=flags)\n",
            "/usr/local/lib/python3.7/dist-packages/matplotlib/backends/backend_agg.py:183: RuntimeWarning: Glyph 9 missing from current font.\n",
            "  font.set_text(s, 0, flags=flags)\n"
          ]
        },
        {
          "output_type": "display_data",
          "data": {
            "text/plain": [
              "<Figure size 432x288 with 1 Axes>"
            ],
            "image/png": "[encoded data removed]"
          },
          "metadata": {
            "needs_background": "light"
          }
        },
        {
          "output_type": "stream",
          "name": "stderr",
          "text": [
            "/usr/local/lib/python3.7/dist-packages/matplotlib/backends/backend_agg.py:214: RuntimeWarning: Glyph 9 missing from current font.\n",
            "  font.set_text(s, 0.0, flags=flags)\n",
            "/usr/local/lib/python3.7/dist-packages/matplotlib/backends/backend_agg.py:183: RuntimeWarning: Glyph 9 missing from current font.\n",
            "  font.set_text(s, 0, flags=flags)\n"
          ]
        },
        {
          "output_type": "display_data",
          "data": {
            "text/plain": [
              "<Figure size 432x288 with 1 Axes>"
            ],
            "image/png": "[encoded data removed]"
          },
          "metadata": {
            "needs_background": "light"
          }
        },
        {
          "output_type": "stream",
          "name": "stderr",
          "text": [
            "/usr/local/lib/python3.7/dist-packages/matplotlib/backends/backend_agg.py:214: RuntimeWarning: Glyph 9 missing from current font.\n",
            "  font.set_text(s, 0.0, flags=flags)\n",
            "/usr/local/lib/python3.7/dist-packages/matplotlib/backends/backend_agg.py:183: RuntimeWarning: Glyph 9 missing from current font.\n",
            "  font.set_text(s, 0, flags=flags)\n"
          ]
        },
        {
          "output_type": "display_data",
          "data": {
            "text/plain": [
              "<Figure size 432x288 with 1 Axes>"
            ],
            "image/png": "[encoded data removed]"
          },
          "metadata": {
            "needs_background": "light"
          }
        },
        {
          "output_type": "stream",
          "name": "stderr",
          "text": [
            "/usr/local/lib/python3.7/dist-packages/matplotlib/backends/backend_agg.py:214: RuntimeWarning: Glyph 9 missing from current font.\n",
            "  font.set_text(s, 0.0, flags=flags)\n",
            "/usr/local/lib/python3.7/dist-packages/matplotlib/backends/backend_agg.py:183: RuntimeWarning: Glyph 9 missing from current font.\n",
            "  font.set_text(s, 0, flags=flags)\n"
          ]
        },
        {
          "output_type": "display_data",
          "data": {
            "text/plain": [
              "<Figure size 432x288 with 1 Axes>"
            ],
            "image/png": "[encoded data removed]"
          },
          "metadata": {
            "needs_background": "light"
          }
        },
        {
          "output_type": "stream",
          "name": "stderr",
          "text": [
            "/usr/local/lib/python3.7/dist-packages/matplotlib/backends/backend_agg.py:214: RuntimeWarning: Glyph 9 missing from current font.\n",
            "  font.set_text(s, 0.0, flags=flags)\n",
            "/usr/local/lib/python3.7/dist-packages/matplotlib/backends/backend_agg.py:183: RuntimeWarning: Glyph 9 missing from current font.\n",
            "  font.set_text(s, 0, flags=flags)\n"
          ]
        },
        {
          "output_type": "display_data",
          "data": {
            "text/plain": [
              "<Figure size 432x288 with 1 Axes>"
            ],
            "image/png": "[encoded data removed]"
          },
          "metadata": {
            "needs_background": "light"
          }
        },
        {
          "output_type": "stream",
          "name": "stderr",
          "text": [
            "/usr/local/lib/python3.7/dist-packages/matplotlib/backends/backend_agg.py:214: RuntimeWarning: Glyph 9 missing from current font.\n",
            "  font.set_text(s, 0.0, flags=flags)\n",
            "/usr/local/lib/python3.7/dist-packages/matplotlib/backends/backend_agg.py:183: RuntimeWarning: Glyph 9 missing from current font.\n",
            "  font.set_text(s, 0, flags=flags)\n"
          ]
        },
        {
          "output_type": "display_data",
          "data": {
            "text/plain": [
              "<Figure size 432x288 with 1 Axes>"
            ],
            "image/png": "[encoded data removed]"
          },
          "metadata": {
            "needs_background": "light"
          }
        },
        {
          "output_type": "stream",
          "name": "stderr",
          "text": [
            "/usr/local/lib/python3.7/dist-packages/matplotlib/backends/backend_agg.py:214: RuntimeWarning: Glyph 9 missing from current font.\n",
            "  font.set_text(s, 0.0, flags=flags)\n",
            "/usr/local/lib/python3.7/dist-packages/matplotlib/backends/backend_agg.py:183: RuntimeWarning: Glyph 9 missing from current font.\n",
            "  font.set_text(s, 0, flags=flags)\n"
          ]
        },
        {
          "output_type": "display_data",
          "data": {
            "text/plain": [
              "<Figure size 432x288 with 1 Axes>"
            ],
            "image/png": "[encoded data removed]"
          },
          "metadata": {
            "needs_background": "light"
          }
        },
        {
          "output_type": "stream",
          "name": "stderr",
          "text": [
            "/usr/local/lib/python3.7/dist-packages/matplotlib/backends/backend_agg.py:214: RuntimeWarning: Glyph 9 missing from current font.\n",
            "  font.set_text(s, 0.0, flags=flags)\n",
            "/usr/local/lib/python3.7/dist-packages/matplotlib/backends/backend_agg.py:183: RuntimeWarning: Glyph 9 missing from current font.\n",
            "  font.set_text(s, 0, flags=flags)\n"
          ]
        },
        {
          "output_type": "display_data",
          "data": {
            "text/plain": [
              "<Figure size 432x288 with 1 Axes>"
            ],
            "image/png": "[encoded data removed]"
          },
          "metadata": {
            "needs_background": "light"
          }
        },
        {
          "output_type": "stream",
          "name": "stderr",
          "text": [
            "/usr/local/lib/python3.7/dist-packages/matplotlib/backends/backend_agg.py:214: RuntimeWarning: Glyph 9 missing from current font.\n",
            "  font.set_text(s, 0.0, flags=flags)\n",
            "/usr/local/lib/python3.7/dist-packages/matplotlib/backends/backend_agg.py:183: RuntimeWarning: Glyph 9 missing from current font.\n",
            "  font.set_text(s, 0, flags=flags)\n"
          ]
        },
        {
          "output_type": "display_data",
          "data": {
            "text/plain": [
              "<Figure size 432x288 with 1 Axes>"
            ],
            "image/png": "[encoded data removed]"
          },
          "metadata": {
            "needs_background": "light"
          }
        },
        {
          "output_type": "stream",
          "name": "stderr",
          "text": [
            "/usr/local/lib/python3.7/dist-packages/matplotlib/backends/backend_agg.py:214: RuntimeWarning: Glyph 9 missing from current font.\n",
            "  font.set_text(s, 0.0, flags=flags)\n",
            "/usr/local/lib/python3.7/dist-packages/matplotlib/backends/backend_agg.py:183: RuntimeWarning: Glyph 9 missing from current font.\n",
            "  font.set_text(s, 0, flags=flags)\n"
          ]
        },
        {
          "output_type": "display_data",
          "data": {
            "text/plain": [
              "<Figure size 432x288 with 1 Axes>"
            ],
            "image/png": "[encoded data removed]"
          },
          "metadata": {
            "needs_background": "light"
          }
        }
      ]
    },
    {
      "cell_type": "markdown",
      "source": [
        "## 8.3.3 조기 종료를 이용한 성능 최적화"
      ],
      "metadata": {
        "id": "OoTHHUnbqOEp"
      }
    },
    {
      "cell_type": "code",
      "source": [
        "#코드\u00018-20\t라이브러리\t호출\n",
        "\n",
        "import\ttorch\n",
        "import\ttorch.nn\tas nn\n",
        "import\ttorch.optim\tas optim\n",
        "import\ttorchvision.models as models #\t사전\t학습된\t모델을\t이용하고자\t할\t때\t사용하는\t라이브러리\n",
        "from\ttorchvision\timport\ttransforms,\tdatasets\n",
        "\n",
        "import matplotlib\n",
        "import matplotlib.pyplot as plt\n",
        "import time\n",
        "import argparse\n",
        "from tqdm import tqdm\n",
        "matplotlib.style.use('ggplot')\t#\t출력\t그래프에서\t격자로\t숫자\t범위가\t눈에\t잘\t띄도록\t하는\t스타일\n",
        "\n",
        "device\t=\ttorch.device(\"cuda:0\" if\ttorch.cuda.is_available()\telse \"cpu\")"
      ],
      "metadata": {
        "id": "PqhqBZ4jqJpp"
      },
      "execution_count": 28,
      "outputs": []
    },
    {
      "cell_type": "code",
      "source": [
        "# PDF 863\n",
        "#코드 8-21\t데이터셋\t전처리\n",
        "\n",
        "train_transform\t=\ttransforms.Compose([\n",
        "\t\t\t\t\t\t\t\ttransforms.Resize((224,\t224)),\n",
        "\t\t\t\t\t\t\t\ttransforms.RandomHorizontalFlip(),\n",
        "\t\t\t\t\t\t\t\ttransforms.RandomVerticalFlip(),\n",
        "\t\t\t\t\t\t\t\ttransforms.ToTensor(),\n",
        "\t\t\t\t\t\t\t\ttransforms.Normalize(mean=[0.485,\t0.456,\t0.406],\tstd=[0.229,\t0.224,\t0.225])\n",
        "\t\t\t\t])\n",
        "val_transform\t=\ttransforms.Compose([\n",
        "\t\t\t\t\t\t\t\ttransforms.Resize((224,\t224)),\n",
        "\t\t\t\t\t\t\t\ttransforms.ToTensor(),\n",
        "\t\t\t\t\t\t\t\ttransforms.Normalize(mean=[0.485,\t0.456,\t0.406],\tstd=[0.229,\t0.224,\t0.225])\n",
        "        ])"
      ],
      "metadata": {
        "id": "TYuUhOYLqUmd"
      },
      "execution_count": 29,
      "outputs": []
    },
    {
      "cell_type": "markdown",
      "source": [
        "https://github.com/gilbutITbook/080289\n",
        "\n",
        "<딥러닝 파이토치 교과서>(길벗, 2022) 도서의 예제 소스 파일입니다.\n",
        "∙Jupyter Notebook과 Colab용 파일을 제공합니다.\n",
        "\n",
        "∙실습에 필요한 데이터셋 대부분은 챕터별 data 폴더에 들어 있습니다.\n",
        "\n",
        "=========================================\n",
        "∙아래 설명을 꼭 읽어주세요!!!\n",
        "∙대용량 데이터셋은 깃허브에 올라가지 않습니다. 따라서 아래의 안내에 따라 데이터를 내려받은 후 각 폴더에 넣어 사용합니다.\n",
        "\n",
        "∙1) 10장 wiki.ko.vec만 별도로 내려받습니다.(약 2GB))\n",
        "https://fasttext.cc/docs/en/pretrained-vectors.html 에서 Korea의 txt 파일\n",
        "\n",
        "∙내려받은 wiki.ko.vec 파일은 10장의 data 폴더 > wiki.co 파일에 넣어서 사용합니다.\n",
        "\n",
        "∙ 2) 아래 링크에서 glove.6b.100d.txt를 내려받습니다. 10장의 data 폴더에 넣어 실습하세요.\n",
        "\n",
        "∙ 10장 glove.6B.100d.txt_내려받기\n",
        "사이트 URL: https://nlp.stanford.edu/projects/glove/\n",
        "\n",
        "∙데이터셋은 python과 colab 모두 동일하게 사용하며, 일부 압축 파일은 colab 실습용입니다.\n",
        "\n",
        "∙8장부터는 colab에서 '런타임 유형'을 'GPU'로 설정하고 실습하는 것이 좋습니다. (실행 시간 단축)\n",
        "\n",
        "=========================================\n",
        "∙colab에 필요한 데이터는 파일을 업로드해서 사용해야 합니다. 두 가지 방식이 있는데, 책에서는 대부분 PC에서 파일을 업로드하는 방식으로 되어 있습니다.\n",
        "구글 드라이브를 사용 중이라면 드라이브에 마운트해 사용하는 것이 좀 더 편리합니다. (부록을 참고하세요)\n",
        "\n",
        "#PC에서 파일 업로드\n",
        "from google.colab import files\n",
        "file_uploaded=files.upload()\n",
        "\n",
        "#구글 드라이브 마운트\n",
        "from google.colab import drive\n",
        "drive.mount('/content/drive/')"
      ],
      "metadata": {
        "id": "vUUU6yln14ZP"
      }
    },
    {
      "cell_type": "code",
      "source": [
        "#부록은 PDF 1318페이지"
      ],
      "metadata": {
        "id": "9IXeuq5m3tJW"
      },
      "execution_count": null,
      "outputs": []
    },
    {
      "cell_type": "code",
      "source": [
        "from google.colab import drive\n",
        "drive.mount('/content/drive/')"
      ],
      "metadata": {
        "colab": {
          "base_uri": "https://localhost:8080/"
        },
        "id": "bxRnouVN6OMP",
        "outputId": "be816eb9-455b-4872-a63d-f3cfe67d8622"
      },
      "execution_count": 1,
      "outputs": [
        {
          "output_type": "stream",
          "name": "stdout",
          "text": [
            "Drive already mounted at /content/drive/; to attempt to forcibly remount, call drive.mount(\"/content/drive/\", force_remount=True).\n"
          ]
        }
      ]
    },
    {
      "cell_type": "code",
      "source": [
        "ls"
      ],
      "metadata": {
        "colab": {
          "base_uri": "https://localhost:8080/"
        },
        "id": "3ObMWFIN9ZoX",
        "outputId": "7e2b841c-fb17-4534-943d-5a160d767e19"
      },
      "execution_count": 31,
      "outputs": [
        {
          "output_type": "stream",
          "name": "stdout",
          "text": [
            "\u001b[0m\u001b[01;34mdrive\u001b[0m/  \u001b[01;34msample_data\u001b[0m/\n"
          ]
        }
      ]
    },
    {
      "cell_type": "code",
      "source": [
        "cd drive"
      ],
      "metadata": {
        "colab": {
          "base_uri": "https://localhost:8080/"
        },
        "id": "YXPk2h4i9txz",
        "outputId": "7f54b97f-88d6-4b9a-8802-1536e590cc08"
      },
      "execution_count": 34,
      "outputs": [
        {
          "output_type": "stream",
          "name": "stdout",
          "text": [
            "/content/drive\n"
          ]
        }
      ]
    },
    {
      "cell_type": "code",
      "source": [
        "ls"
      ],
      "metadata": {
        "colab": {
          "base_uri": "https://localhost:8080/"
        },
        "id": "cBQuUOnD9zTS",
        "outputId": "a443add7-5d75-4bfe-b5b6-2f3ff8a0186f"
      },
      "execution_count": 35,
      "outputs": [
        {
          "output_type": "stream",
          "name": "stdout",
          "text": [
            "\u001b[0m\u001b[01;34mMyDrive\u001b[0m/\n"
          ]
        }
      ]
    },
    {
      "cell_type": "code",
      "source": [
        "train_dataset\t=\tdatasets.ImageFolder(\n",
        "\t\t\t\troot=r'../chap08/data/archive/train',\n",
        "\t\t\t\ttransform=train_transform\n",
        ")\n",
        "train_dataloader\t=\ttorch.utils.data.DataLoader(\n",
        "\t\t\t\ttrain_dataset,\tbatch_size=32,\tshuffle=True,\n",
        ")\n",
        "val_dataset\t=\tdatasets.ImageFolder(\n",
        "\t\t\t\troot=r'../chap08/data/archive/test',\n",
        "\t\t\t\ttransform=val_transform\n",
        ")\n",
        "val_dataloader\t=\ttorch.utils.data.DataLoader(\n",
        "\t\t\t\tval_dataset,\tbatch_size=32,\tshuffle=False,\n",
        ")"
      ],
      "metadata": {
        "colab": {
          "base_uri": "https://localhost:8080/",
          "height": 405
        },
        "id": "AA2GAauu8c46",
        "outputId": "8c05903d-9af4-440c-83ac-75437872b23d"
      },
      "execution_count": 36,
      "outputs": [
        {
          "output_type": "error",
          "ename": "FileNotFoundError",
          "evalue": "ignored",
          "traceback": [
            "\u001b[0;31m---------------------------------------------------------------------------\u001b[0m",
            "\u001b[0;31mFileNotFoundError\u001b[0m                         Traceback (most recent call last)",
            "\u001b[0;32m<ipython-input-36-2527cd270764>\u001b[0m in \u001b[0;36m<module>\u001b[0;34m()\u001b[0m\n\u001b[1;32m      1\u001b[0m train_dataset\t=\tdatasets.ImageFolder(\n\u001b[1;32m      2\u001b[0m                                 \u001b[0mroot\u001b[0m\u001b[0;34m=\u001b[0m\u001b[0;34mr'../chap08/data/archive/train'\u001b[0m\u001b[0;34m,\u001b[0m\u001b[0;34m\u001b[0m\u001b[0;34m\u001b[0m\u001b[0m\n\u001b[0;32m----> 3\u001b[0;31m                                 \u001b[0mtransform\u001b[0m\u001b[0;34m=\u001b[0m\u001b[0mtrain_transform\u001b[0m\u001b[0;34m\u001b[0m\u001b[0;34m\u001b[0m\u001b[0m\n\u001b[0m\u001b[1;32m      4\u001b[0m )\n\u001b[1;32m      5\u001b[0m train_dataloader\t=\ttorch.utils.data.DataLoader(\n",
            "\u001b[0;32m/usr/local/lib/python3.7/dist-packages/torchvision/datasets/folder.py\u001b[0m in \u001b[0;36m__init__\u001b[0;34m(self, root, transform, target_transform, loader, is_valid_file)\u001b[0m\n\u001b[1;32m    314\u001b[0m             \u001b[0mtransform\u001b[0m\u001b[0;34m=\u001b[0m\u001b[0mtransform\u001b[0m\u001b[0;34m,\u001b[0m\u001b[0;34m\u001b[0m\u001b[0;34m\u001b[0m\u001b[0m\n\u001b[1;32m    315\u001b[0m             \u001b[0mtarget_transform\u001b[0m\u001b[0;34m=\u001b[0m\u001b[0mtarget_transform\u001b[0m\u001b[0;34m,\u001b[0m\u001b[0;34m\u001b[0m\u001b[0;34m\u001b[0m\u001b[0m\n\u001b[0;32m--> 316\u001b[0;31m             \u001b[0mis_valid_file\u001b[0m\u001b[0;34m=\u001b[0m\u001b[0mis_valid_file\u001b[0m\u001b[0;34m,\u001b[0m\u001b[0;34m\u001b[0m\u001b[0;34m\u001b[0m\u001b[0m\n\u001b[0m\u001b[1;32m    317\u001b[0m         )\n\u001b[1;32m    318\u001b[0m         \u001b[0mself\u001b[0m\u001b[0;34m.\u001b[0m\u001b[0mimgs\u001b[0m \u001b[0;34m=\u001b[0m \u001b[0mself\u001b[0m\u001b[0;34m.\u001b[0m\u001b[0msamples\u001b[0m\u001b[0;34m\u001b[0m\u001b[0;34m\u001b[0m\u001b[0m\n",
            "\u001b[0;32m/usr/local/lib/python3.7/dist-packages/torchvision/datasets/folder.py\u001b[0m in \u001b[0;36m__init__\u001b[0;34m(self, root, loader, extensions, transform, target_transform, is_valid_file)\u001b[0m\n\u001b[1;32m    143\u001b[0m     ) -> None:\n\u001b[1;32m    144\u001b[0m         \u001b[0msuper\u001b[0m\u001b[0;34m(\u001b[0m\u001b[0;34m)\u001b[0m\u001b[0;34m.\u001b[0m\u001b[0m__init__\u001b[0m\u001b[0;34m(\u001b[0m\u001b[0mroot\u001b[0m\u001b[0;34m,\u001b[0m \u001b[0mtransform\u001b[0m\u001b[0;34m=\u001b[0m\u001b[0mtransform\u001b[0m\u001b[0;34m,\u001b[0m \u001b[0mtarget_transform\u001b[0m\u001b[0;34m=\u001b[0m\u001b[0mtarget_transform\u001b[0m\u001b[0;34m)\u001b[0m\u001b[0;34m\u001b[0m\u001b[0;34m\u001b[0m\u001b[0m\n\u001b[0;32m--> 145\u001b[0;31m         \u001b[0mclasses\u001b[0m\u001b[0;34m,\u001b[0m \u001b[0mclass_to_idx\u001b[0m \u001b[0;34m=\u001b[0m \u001b[0mself\u001b[0m\u001b[0;34m.\u001b[0m\u001b[0mfind_classes\u001b[0m\u001b[0;34m(\u001b[0m\u001b[0mself\u001b[0m\u001b[0;34m.\u001b[0m\u001b[0mroot\u001b[0m\u001b[0;34m)\u001b[0m\u001b[0;34m\u001b[0m\u001b[0;34m\u001b[0m\u001b[0m\n\u001b[0m\u001b[1;32m    146\u001b[0m         \u001b[0msamples\u001b[0m \u001b[0;34m=\u001b[0m \u001b[0mself\u001b[0m\u001b[0;34m.\u001b[0m\u001b[0mmake_dataset\u001b[0m\u001b[0;34m(\u001b[0m\u001b[0mself\u001b[0m\u001b[0;34m.\u001b[0m\u001b[0mroot\u001b[0m\u001b[0;34m,\u001b[0m \u001b[0mclass_to_idx\u001b[0m\u001b[0;34m,\u001b[0m \u001b[0mextensions\u001b[0m\u001b[0;34m,\u001b[0m \u001b[0mis_valid_file\u001b[0m\u001b[0;34m)\u001b[0m\u001b[0;34m\u001b[0m\u001b[0;34m\u001b[0m\u001b[0m\n\u001b[1;32m    147\u001b[0m \u001b[0;34m\u001b[0m\u001b[0m\n",
            "\u001b[0;32m/usr/local/lib/python3.7/dist-packages/torchvision/datasets/folder.py\u001b[0m in \u001b[0;36mfind_classes\u001b[0;34m(self, directory)\u001b[0m\n\u001b[1;32m    217\u001b[0m             \u001b[0;34m(\u001b[0m\u001b[0mTuple\u001b[0m\u001b[0;34m[\u001b[0m\u001b[0mList\u001b[0m\u001b[0;34m[\u001b[0m\u001b[0mstr\u001b[0m\u001b[0;34m]\u001b[0m\u001b[0;34m,\u001b[0m \u001b[0mDict\u001b[0m\u001b[0;34m[\u001b[0m\u001b[0mstr\u001b[0m\u001b[0;34m,\u001b[0m \u001b[0mint\u001b[0m\u001b[0;34m]\u001b[0m\u001b[0;34m]\u001b[0m\u001b[0;34m)\u001b[0m\u001b[0;34m:\u001b[0m \u001b[0mList\u001b[0m \u001b[0mof\u001b[0m \u001b[0mall\u001b[0m \u001b[0mclasses\u001b[0m \u001b[0;32mand\u001b[0m \u001b[0mdictionary\u001b[0m \u001b[0mmapping\u001b[0m \u001b[0meach\u001b[0m \u001b[0;32mclass\u001b[0m \u001b[0mto\u001b[0m \u001b[0man\u001b[0m \u001b[0mindex\u001b[0m\u001b[0;34m.\u001b[0m\u001b[0;34m\u001b[0m\u001b[0;34m\u001b[0m\u001b[0m\n\u001b[1;32m    218\u001b[0m         \"\"\"\n\u001b[0;32m--> 219\u001b[0;31m         \u001b[0;32mreturn\u001b[0m \u001b[0mfind_classes\u001b[0m\u001b[0;34m(\u001b[0m\u001b[0mdirectory\u001b[0m\u001b[0;34m)\u001b[0m\u001b[0;34m\u001b[0m\u001b[0;34m\u001b[0m\u001b[0m\n\u001b[0m\u001b[1;32m    220\u001b[0m \u001b[0;34m\u001b[0m\u001b[0m\n\u001b[1;32m    221\u001b[0m     \u001b[0;32mdef\u001b[0m \u001b[0m__getitem__\u001b[0m\u001b[0;34m(\u001b[0m\u001b[0mself\u001b[0m\u001b[0;34m,\u001b[0m \u001b[0mindex\u001b[0m\u001b[0;34m:\u001b[0m \u001b[0mint\u001b[0m\u001b[0;34m)\u001b[0m \u001b[0;34m->\u001b[0m \u001b[0mTuple\u001b[0m\u001b[0;34m[\u001b[0m\u001b[0mAny\u001b[0m\u001b[0;34m,\u001b[0m \u001b[0mAny\u001b[0m\u001b[0;34m]\u001b[0m\u001b[0;34m:\u001b[0m\u001b[0;34m\u001b[0m\u001b[0;34m\u001b[0m\u001b[0m\n",
            "\u001b[0;32m/usr/local/lib/python3.7/dist-packages/torchvision/datasets/folder.py\u001b[0m in \u001b[0;36mfind_classes\u001b[0;34m(directory)\u001b[0m\n\u001b[1;32m     39\u001b[0m     \u001b[0mSee\u001b[0m \u001b[0;34m:\u001b[0m\u001b[0;32mclass\u001b[0m\u001b[0;34m:\u001b[0m\u001b[0;31m`\u001b[0m\u001b[0mDatasetFolder\u001b[0m\u001b[0;31m`\u001b[0m \u001b[0;32mfor\u001b[0m \u001b[0mdetails\u001b[0m\u001b[0;34m.\u001b[0m\u001b[0;34m\u001b[0m\u001b[0;34m\u001b[0m\u001b[0m\n\u001b[1;32m     40\u001b[0m     \"\"\"\n\u001b[0;32m---> 41\u001b[0;31m     \u001b[0mclasses\u001b[0m \u001b[0;34m=\u001b[0m \u001b[0msorted\u001b[0m\u001b[0;34m(\u001b[0m\u001b[0mentry\u001b[0m\u001b[0;34m.\u001b[0m\u001b[0mname\u001b[0m \u001b[0;32mfor\u001b[0m \u001b[0mentry\u001b[0m \u001b[0;32min\u001b[0m \u001b[0mos\u001b[0m\u001b[0;34m.\u001b[0m\u001b[0mscandir\u001b[0m\u001b[0;34m(\u001b[0m\u001b[0mdirectory\u001b[0m\u001b[0;34m)\u001b[0m \u001b[0;32mif\u001b[0m \u001b[0mentry\u001b[0m\u001b[0;34m.\u001b[0m\u001b[0mis_dir\u001b[0m\u001b[0;34m(\u001b[0m\u001b[0;34m)\u001b[0m\u001b[0;34m)\u001b[0m\u001b[0;34m\u001b[0m\u001b[0;34m\u001b[0m\u001b[0m\n\u001b[0m\u001b[1;32m     42\u001b[0m     \u001b[0;32mif\u001b[0m \u001b[0;32mnot\u001b[0m \u001b[0mclasses\u001b[0m\u001b[0;34m:\u001b[0m\u001b[0;34m\u001b[0m\u001b[0;34m\u001b[0m\u001b[0m\n\u001b[1;32m     43\u001b[0m         \u001b[0;32mraise\u001b[0m \u001b[0mFileNotFoundError\u001b[0m\u001b[0;34m(\u001b[0m\u001b[0;34mf\"Couldn't find any class folder in {directory}.\"\u001b[0m\u001b[0;34m)\u001b[0m\u001b[0;34m\u001b[0m\u001b[0;34m\u001b[0m\u001b[0m\n",
            "\u001b[0;31mFileNotFoundError\u001b[0m: [Errno 2] No such file or directory: '../chap08/data/archive/train'"
          ]
        }
      ]
    },
    {
      "cell_type": "code",
      "source": [
        "#PDF 865\n",
        "#코드 8-22\t데이터셋\t가져오기\n",
        "\n",
        "#train_dataset\t=\tdatasets.ImageFolder(root = r'../chap08/data/archive/train', transform = train_transform)\n",
        "#/content/drive/MyDrive/Colab Notebooks/chab08/train\n",
        "\n",
        "train_dataset\t=\tdatasets.ImageFolder(root = r'/content/drive/MyDrive/Colab Notebooks/chab08/train', transform = train_transform)\n",
        "\n",
        "train_dataloader\t=\ttorch.utils.data.DataLoader(\n",
        "\t\t\t\ttrain_dataset,\tbatch_size=32,\tshuffle=True,\n",
        ")\n",
        "\n",
        "val_dataset\t=\tdatasets.ImageFolder(\n",
        "\t\t\t\troot=r'/content/drive/MyDrive/Colab Notebooks/chab08/test',\n",
        "\t\t\t\ttransform=val_transform\n",
        ")\n",
        "\n",
        "val_dataloader\t=\ttorch.utils.data.DataLoader(\n",
        "\t\t\t\tval_dataset,\tbatch_size=32,\tshuffle=False,\n",
        ")"
      ],
      "metadata": {
        "id": "_fp2LuEFqWOW"
      },
      "execution_count": 57,
      "outputs": []
    },
    {
      "cell_type": "code",
      "source": [
        "#모델 생성, 네트워크를 직접 구축하는 것이 아닌 사전 학습된 ResNet50을 사용\n",
        "#6장에서 배웠듯이 사전 학습된 모델을 사용할 경우 간편하게 네트워크를 구성하고 사용할 수 있는 장점이 있음\n",
        "\n",
        "#코드 8-23\t모델\t생성\n",
        "\n",
        "def resnet50(pretrained=True,\trequires_grad=False):\n",
        "\t\t\t\tmodel\t=\tmodels.resnet50(progress=True,\tpretrained=pretrained)\n",
        "\t\t\t\tif requires_grad\t==\tFalse: #파라미터를\t고정하여 backward()\t중에\t기울기가\t계산되지\t않도록\t함\n",
        "                                     #requires _grad=False를\t파라미터로\t받았기\t때문에\t해당\t구문이\t실행됨\n",
        "\t\t\t\t\t\t\t\tfor param in model.parameters():\n",
        "\t\t\t\t\t\t\t\t\t\t\t\tparam.requires_grad\t=\tFalse\n",
        "\t\t\t\telif\trequires_grad\t==\tTrue:\t#파라미터\t값이\tbackward()\t중에\t기울기\t계산에\t반영됩니다.\n",
        "\t\t\t\t\t\t\t\tfor param in\tmodel.parameters():\n",
        "\t\t\t\t\t\t\t\t\t\t\t\tparam.requires_grad\t=\tTrue\n",
        "\t\t\t\tmodel.fc\t=\tnn.Linear(2048,\t2) #마지막\t분류를\t위한\t계층은\t학습을\t진행합니다.\n",
        "\t\t\t\treturn\tmodel\n"
      ],
      "metadata": {
        "id": "-mZulktJqXtb"
      },
      "execution_count": 40,
      "outputs": []
    },
    {
      "cell_type": "code",
      "source": [
        "# 코드 8-24\t학습률\t감소\n",
        "\n",
        "class LRScheduler():\n",
        "\t\t\t\tdef __init__(\n",
        "\t\t\t\t\t\t\t\tself,\toptimizer,\tpatience=5,\tmin_lr=1e-6,\tfactor=0.5\n",
        "\t\t\t\t):\n",
        "\t\t\t\t\t\t\t\tself.optimizer\t=\toptimizer\n",
        "\t\t\t\t\t\t\t\tself.patience\t=\tpatience\n",
        "\t\t\t\t\t\t\t\tself.min_lr\t=\tmin_lr\n",
        "\t\t\t\t\t\t\t\tself.factor\t=\tfactor\n",
        "\t\t\t\t\t\t\t\tself.lr_scheduler\t=\ttorch.optim.lr_scheduler.ReduceLROnPlateau(\n",
        "\t\t\t\t\t\t\t\t\t\t\t\tself.optimizer,\n",
        "\t\t\t\t\t\t\t\t\t\t\t\tmode='min',\n",
        "\t\t\t\t\t\t\t\t\t\t\t\tpatience=self.patience,\n",
        "\t\t\t\t\t\t\t\t\t\t\t\tfactor=self.factor,\n",
        "\t\t\t\t\t\t\t\t\t\t\t\tmin_lr=self.min_lr,\n",
        "\t\t\t\t\t\t\t\t\t\t\t\tverbose=True\n",
        "\t\t\t\t\t\t\t\t)\t#\t①\n",
        "                \n",
        "\t\t\t\tdef __call__(self,\tval_loss):\n",
        "\t\t\t\t\t\t\t\tself.lr_scheduler.step(val_loss)\t#\t②\n"
      ],
      "metadata": {
        "id": "7dnEnoKisD_F"
      },
      "execution_count": 41,
      "outputs": []
    },
    {
      "cell_type": "code",
      "source": [
        "# 코드 8-25\t조기\t종료\n",
        "\n",
        "class EarlyStopping():\n",
        "    def __init__(self,\tpatience=5,\tverbose=False,\tdelta=0,path='../chap08/data/checkpoint.pt'):\n",
        "        self.patience\t=\tpatience #\t①\n",
        "        self.verbose\t=\tverbose\n",
        "        self.counter\t=\t0\n",
        "        self.best_score\t=\tNone #\t검증\t데이터셋에\t대한오차\t최적화\t값(오차가\t가장\t낮은\t값)\n",
        "        self.early_stop\t=\tFalse #\t조기\t종료를\t의미하며\t초깃값은\tFalse로\t설정\n",
        "        self.val_loss_min\t=\tnp.Inf\t#\tnp.Inf(infinity)는\t넘파이에서\t무한대를\t표현\n",
        "        self.delta\t=\tdelta #\t②\n",
        "        self.path\t=\tpath #\t모델이\t저장될\t경로\n",
        "\n",
        "    def __call__(self,\tval_loss,\tmodel):\t#\t에포크만큼학습이\t반복되면서\tbest_loss가\t갱신되고,\tbest_loss에\t진전이없으면\t조기\t종료한\t후\t모델을\t저장\n",
        "        score\t=\t-val_loss\n",
        "        if self.best_score\tis None:\t#\tbest_score에\t값이\t존재하지\t않으면\t실행\n",
        "\t\t\t\t\t\t\t\t\t\t\t\tself.best_score\t=\tscore\n",
        "\t\t\t\t\t\t\t\t\t\t\t\tself.save_checkpoint(val_loss,\tmodel)\n",
        "        elif\tscore\t<\tself.best_score\t+\tself.delta:\t#best_score\t+\tdelta가\tscore보다\t크면\t실행\n",
        "\t\t\t\t\t\t\t\t\t\t\t\tself.counter\t+=\t1\n",
        "\t\t\t\t\t\t\t\t\t\t\t\tprint(f'EarlyStopping\tcounter: {self.counter}out\tof {self.patience}')\n",
        "\t\t\t\t\t\t\t\t\t\t\t\tif self.counter\t>=\tself.patience:\n",
        "\t\t\t\t\t\t\t\t\t\t\t\t\t\t\t\tself.early_stop\t=\tTrue\n",
        "        else:\t#\t그\t외\t모든\t경우에\t실행\n",
        "\t\t\t\t\t\t\t\t\t\t\t\tself.best_score\t=\tscore\n",
        "\t\t\t\t\t\t\t\t\t\t\t\tself.save_checkpoint(val_loss,\tmodel)\n",
        "\t\t\t\t\t\t\t\t\t\t\t\tself.counter\t=\t0\n",
        "\n",
        "    def save_checkpoint(self,\tval_loss,\tmodel):\t#\t검증\t데이터셋에\t대한\t오차가\t감소하면\t모델을\t저장\n",
        "        if self.verbose:\n",
        "            print(f'Validation\tloss\tdecreased\t({self.val_loss_min:.6f} --> {val_loss:.6f}).\tSaving\tmodel\t...')\n",
        "        torch.save(model.state_dict(),\tself.path)\t#지정된\t경로에\t모델\t저장\n",
        "        self.val_loss_min\t=\tval_loss\n"
      ],
      "metadata": {
        "id": "5kfknyY-qbOk"
      },
      "execution_count": 42,
      "outputs": []
    },
    {
      "cell_type": "code",
      "source": [
        "# 코드 8-26\t인수\t값\t지정\n",
        "#오류뜸 #아래 셀로\n",
        "\n",
        "parser =\targparse.ArgumentParser()\t#\t인수\t값을\t받을수\t있는\t인스턴스\t생성\n",
        "parser.add_argument('--lr-scheduler',\tdest='lr_scheduler', action='store_true')\t#\t①\n",
        "parser.add_argument('--early-stopping',\tdest= 'early_stopping',\taction='store_true')\t#\t조기\t종료에\t대한\t인수\n",
        "args =\tvars(parser.parse_args())\t#\t②"
      ],
      "metadata": {
        "id": "2sSBI_h_qd-M",
        "colab": {
          "base_uri": "https://localhost:8080/",
          "height": 194
        },
        "outputId": "6594881a-e537-45be-9900-4bd6920b6b1f"
      },
      "execution_count": 43,
      "outputs": [
        {
          "output_type": "stream",
          "name": "stderr",
          "text": [
            "usage: ipykernel_launcher.py [-h] [--lr-scheduler] [--early-stopping]\n",
            "ipykernel_launcher.py: error: unrecognized arguments: -f /root/.local/share/jupyter/runtime/kernel-d8e0c1d3-2194-497e-a591-17be2be9c59a.json\n"
          ]
        },
        {
          "output_type": "error",
          "ename": "SystemExit",
          "evalue": "ignored",
          "traceback": [
            "An exception has occurred, use %tb to see the full traceback.\n",
            "\u001b[0;31mSystemExit\u001b[0m\u001b[0;31m:\u001b[0m 2\n"
          ]
        },
        {
          "output_type": "stream",
          "name": "stderr",
          "text": [
            "/usr/local/lib/python3.7/dist-packages/IPython/core/interactiveshell.py:2890: UserWarning: To exit: use 'exit', 'quit', or Ctrl-D.\n",
            "  warn(\"To exit: use 'exit', 'quit', or Ctrl-D.\", stacklevel=1)\n"
          ]
        }
      ]
    },
    {
      "cell_type": "code",
      "source": [
        "#자료실 코드 (위에까지는 다 책 복붙)\n",
        "#https://github.com/gilbutITbook/080289/blob/main/chap08/es-python_8%EC%9E%A5.ipynb\n",
        "\n",
        "parser = argparse.ArgumentParser()\n",
        "parser.add_argument('--lr-scheduler', dest='lr_scheduler', action='store_true')\n",
        "parser.add_argument('--early-stopping', dest='early_stopping', action='store_true')\n",
        "\n",
        "\n",
        "#이 코드가 추가됨\n",
        "parser.add_argument(\"-f\", \"--fff\", help=\"a dummy argument to fool ipython\", default=\"1\") #주피터 노트북에서 실행할때 필요합니다\n",
        "\n",
        "args = vars(parser.parse_args())"
      ],
      "metadata": {
        "id": "_-jKfXC90HzA"
      },
      "execution_count": 58,
      "outputs": []
    },
    {
      "cell_type": "code",
      "source": [
        "#코드 8-27\t사전\t훈련된\t모델의\t파라미터\t확인\n",
        "\n",
        "print(f\"Computation\tdevice: {device}\\n\")\t#\tCPU를\t사용하는지\tGPU를\t사용하는지\t검사\n",
        "model\t=\tmodels.resnet50(pretrained=True).to(device)\t#사전\t훈련된\tResNet50\t사용\n",
        "total_params\t=\tsum(p.numel() for p in model.parameters()) #\t총\t파라미터\t수\n",
        "print(f\"{total_params:,}\ttotal\tparameters.\")\n",
        "total_trainable_params\t=\tsum(\n",
        "\t\t\t\tp.numel()\tfor p in model.parameters()\tif p.requires_grad)\t#\t학습\t가능한\t파라미터\t수\n",
        "print(f\"{total_trainable_params:,}\ttraining\tparameters.\")"
      ],
      "metadata": {
        "id": "b0xs5aC8qfvF",
        "colab": {
          "base_uri": "https://localhost:8080/",
          "height": 237,
          "referenced_widgets": [
            "d34395a9688f4cc383320571c47ea711",
            "c3959b0c902d4587a66a864ba7c49259",
            "ee97221cde734a1a808d58d2ebf391ee",
            "3c2006ee728d471683ed7159ab7524cb",
            "3ba902b5db8e4b3f9b4eea4aa1bc9164",
            "df052abfda2442148daa8ecbf2bc7a12",
            "4bcdc0ae60184d0390c31a36d42bafdb",
            "7b1407da248c41b3bc647ecf611515a0",
            "f08abf80155744a8ba0cdaf1697e62c6",
            "939d8f7a47fd414394e5838150e290b2",
            "33cee50b76a84193b2d92d5e32dda07e"
          ]
        },
        "outputId": "335253dc-15bb-4cea-9bc0-c816325fd54d"
      },
      "execution_count": 45,
      "outputs": [
        {
          "output_type": "stream",
          "name": "stdout",
          "text": [
            "Computation\tdevice: cuda:0\n",
            "\n"
          ]
        },
        {
          "output_type": "stream",
          "name": "stderr",
          "text": [
            "/usr/local/lib/python3.7/dist-packages/torchvision/models/_utils.py:209: UserWarning: The parameter 'pretrained' is deprecated since 0.13 and will be removed in 0.15, please use 'weights' instead.\n",
            "  f\"The parameter '{pretrained_param}' is deprecated since 0.13 and will be removed in 0.15, \"\n",
            "/usr/local/lib/python3.7/dist-packages/torchvision/models/_utils.py:223: UserWarning: Arguments other than a weight enum or `None` for 'weights' are deprecated since 0.13 and will be removed in 0.15. The current behavior is equivalent to passing `weights=ResNet50_Weights.IMAGENET1K_V1`. You can also use `weights=ResNet50_Weights.DEFAULT` to get the most up-to-date weights.\n",
            "  warnings.warn(msg)\n",
            "Downloading: \"https://download.pytorch.org/models/resnet50-0676ba61.pth\" to /root/.cache/torch/hub/checkpoints/resnet50-0676ba61.pth\n"
          ]
        },
        {
          "output_type": "display_data",
          "data": {
            "text/plain": [
              "  0%|          | 0.00/97.8M [00:00<?, ?B/s]"
            ],
            "application/vnd.jupyter.widget-view+json": {
              "version_major": 2,
              "version_minor": 0,
              "model_id": "d34395a9688f4cc383320571c47ea711"
            }
          },
          "metadata": {}
        },
        {
          "output_type": "stream",
          "name": "stdout",
          "text": [
            "25,557,032\ttotal\tparameters.\n",
            "25,557,032\ttraining\tparameters.\n"
          ]
        }
      ]
    },
    {
      "cell_type": "code",
      "source": [
        "# 코드 8-28\t옵티마이저와\t손실\t함수\t지정\n",
        "\n",
        "lr\t=\t0.001\n",
        "epochs\t=\t100\n",
        "optimizer\t=\toptim.Adam(model.parameters(),\tlr=lr)\n",
        "criterion\t=\tnn.CrossEntropyLoss()"
      ],
      "metadata": {
        "id": "mHNlG4vNqhVO"
      },
      "execution_count": 46,
      "outputs": []
    },
    {
      "cell_type": "code",
      "source": [
        "#코드 8-29\t오차,\t정확도\t및\t모델의\t이름에\t대한\t문자열\n",
        "\n",
        "loss_plot_name\t=\t'loss' #\t오차\t출력에\t대한\t문자열\n",
        "acc_plot_name\t=\t'accuracy' #\t정확도\t출력에\t대한\t문자열\n",
        "model_name\t=\t'model' #\t모델을\t저장하기\t위한\t문자열"
      ],
      "metadata": {
        "id": "ysx_BIbJqicR"
      },
      "execution_count": 47,
      "outputs": []
    },
    {
      "cell_type": "code",
      "source": [
        "#코드 8-30\t오차,\t정확도\t및\t모델의\t이름에\t대한\t문자열\n",
        "\n",
        "if\targs['lr_scheduler']:\n",
        "\t\t\t\tprint('INFO:\tInitializing\tlearning\trate\tscheduler')\n",
        "\t\t\t\tlr_scheduler\t=\tLRScheduler(optimizer)\n",
        "\t\t\t\tloss_plot_name\t=\t'lrs_loss' #\t학습률\t감소를\t적용했을\t때의\t오차에\t대한\t문자열\n",
        "\t\t\t\tacc_plot_name\t=\t'lrs_accuracy' #\t학습률\t감소를\t적용했을\t때의\t정확도에\t대한\t문자열\n",
        "\t\t\t\tmodel_name\t=\t'lrs_model' #\t학습률\t감소를\t적용했을때의\t모델에\t대한\t문자열\n",
        "\n",
        "if\targs['early_stopping']:\n",
        "\t\t\t\tprint('INFO:\tInitializing\tearly\tstopping')\n",
        "\t\t\t\tearly_stopping\t=\tEarlyStopping()\n",
        "\t\t\t\tloss_plot_name\t=\t'es_loss' #\t조기\t종료를\t적용했을때의\t오차에\t대한\t문자열\n",
        "\t\t\t\tacc_plot_name\t=\t'es_accuracy' #\t조기\t종료를\t적용했을\t때의\t정확도에\t대한\t문자열\n",
        "\t\t\t\tmodel_name\t=\t'es_model' #\t조기\t종료를\t적용했을\t때의\t모델에\t대한\t문자열"
      ],
      "metadata": {
        "id": "AsejfHVAqj2D"
      },
      "execution_count": 48,
      "outputs": []
    },
    {
      "cell_type": "code",
      "source": [
        "#코드 8-31\t모델\t학습\t함수\n",
        "\n",
        "def training(model,\ttrain_dataloader,\ttrain_dataset,\toptimizer,\tcriterion):\n",
        "\t\t\t\tprint('Training')\n",
        "\t\t\t\tmodel.train()\n",
        "\t\t\t\ttrain_running_loss\t=\t0.0\n",
        "\t\t\t\ttrain_running_correct\t=\t0\n",
        "\t\t\t\tcounter\t=\t0\n",
        "\t\t\t\ttotal\t=\t0\n",
        "\t\t\t\tprog_bar\t=\ttqdm(enumerate(train_dataloader),\ttotal=int(len(train_dataset)/train_dataloader.batch_size))\t#훈련\t진행\t과정을\t시각적으로\t표현\n",
        "\t\t\t\tfor i,\tdata in prog_bar:\n",
        "\t\t\t\t\t\t\t\tcounter\t+=\t1\n",
        "\t\t\t\t\t\t\t\tdata,\ttarget\t=\tdata[0].to(device),\tdata[1].to(device)\n",
        "\t\t\t\t\t\t\t\ttotal\t+=\ttarget.size(0)\n",
        "\t\t\t\t\t\t\t\toptimizer.zero_grad()\n",
        "\t\t\t\t\t\t\t\toutputs\t=\tmodel(data)\n",
        "\t\t\t\t\t\t\t\tloss\t=\tcriterion(outputs,\ttarget)\n",
        "\t\t\t\t\t\t\t\ttrain_running_loss\t+=\tloss.item()\n",
        "\t\t\t\t\t\t\t\t_,\tpreds\t=\ttorch.max(outputs.data,\t1)\n",
        "\t\t\t\t\t\t\t\ttrain_running_correct\t+=\t(preds\t==\ttarget).sum().item()\n",
        "\t\t\t\t\t\t\t\tloss.backward()\n",
        "\t\t\t\t\t\t\t\toptimizer.step()\n",
        "\t\t\t\ttrain_loss\t=\ttrain_running_loss\t/\tcounter\n",
        "\t\t\t\ttrain_accuracy\t=\t100.\t*\ttrain_running_correct\t/\ttotal\n",
        "\t\t\t\treturn train_loss,\ttrain_accuracy\n"
      ],
      "metadata": {
        "id": "OcEawT0Hqln8"
      },
      "execution_count": 49,
      "outputs": []
    },
    {
      "cell_type": "code",
      "source": [
        "#코드 8-32\t모델\t검증\t함수\n",
        "\n",
        "def validate(model,\ttest_dataloader,\tval_dataset,\tcriterion):\n",
        "    print('Validating')\n",
        "    model.eval()\n",
        "    val_running_loss\t=\t0.0\n",
        "    val_running_correct\t=\t0\n",
        "    counter\t=\t0\n",
        "    total\t=\t0\n",
        "    prog_bar\t=\ttqdm(enumerate(test_dataloader),\ttotal=int(len(val_dataset)/test_dataloader.batch_size))\t#\t모델검증\t과정을\t시각적으로\t표현\n",
        "    with\ttorch.no_grad():\n",
        "        for i,\tdata in prog_bar:\n",
        "            counter\t+=\t1\n",
        "            data,\ttarget\t=\tdata[0].to(device), data[1].to(device)\n",
        "            total\t+=\ttarget.size(0)\n",
        "            outputs\t=\tmodel(data)\n",
        "            loss\t=\tcriterion(outputs,\ttarget)\n",
        "            val_running_loss\t+=\tloss.item()\n",
        "            _,\tpreds\t=\ttorch.max(outputs.data,\t1)\n",
        "            val_running_correct\t+=\t(preds\t==\ttarget).sum().item()\n",
        "            val_loss\t=\tval_running_loss\t/\tcounter\n",
        "            val_accuracy\t=\t100.\t*\tval_running_correct\t/\ttotal\n",
        "            return val_loss,\tval_accuracy"
      ],
      "metadata": {
        "id": "yR_iK1heqnck"
      },
      "execution_count": 50,
      "outputs": []
    },
    {
      "cell_type": "code",
      "source": [
        "#코드 8-33\t모델\t학습\n",
        "\n",
        "train_loss,\ttrain_accuracy\t=\t[],\t[] #훈련 데이터셋을 이용한 모델\t학습 결과(오차, 정확도)를\t저장하기 위한\t변수(리스트\t형태)\n",
        "val_loss,\tval_accuracy\t=\t[],\t[]\t#검증\t데이터셋을\t이용한\t모델\t성능\t결과(오차,\t정확도)를\t저장하기\t위한\t변수(리스트\t형태)\n",
        "start\t=\ttime.time()\n",
        "for epoch in range(epochs):\n",
        "    print(f\"Epoch\t{epoch+1}\tof {epochs}\")\n",
        "    train_epoch_loss, train_epoch_accuracy = training(\n",
        "        model, train_dataloader, train_dataset, optimizer, criterion\n",
        "    )\n",
        "    val_epoch_loss,\tval_epoch_accuracy\t=\tvalidate(\n",
        "\t\t\t\t\t\t\t\tmodel,\tval_dataloader,\tval_dataset,\tcriterion\n",
        "\t\t\t\t)\n",
        "    train_loss.append(train_epoch_loss)\n",
        "    train_accuracy.append(train_epoch_accuracy)\n",
        "    val_loss.append(val_epoch_loss)\n",
        "    val_accuracy.append(val_epoch_accuracy)\n",
        "\t\t\n",
        "    if\targs['lr_scheduler']:\t#\t인수\t값이 lr_scheduler이면\t다음을\t실행\n",
        "        lr_scheduler(val_epoch_loss)\n",
        "    if\targs['early_stopping']:\t#\t인수\t값이\tearly_stopping이면\t다음을\t실행\n",
        "        early_stopping(val_epoch_loss,\tmodel)\n",
        "        if\tearly_stopping.early_stop:\n",
        "            break\n",
        "\n",
        "    print(f\"Train\tLoss: {train_epoch_loss:.4f},\tTrain\tAcc:{train_epoch_accuracy:.2f}\")\n",
        "    print(f'Val\tLoss: {val_epoch_loss:.4f},\tVal\tAcc: {val_epoch_accuracy:.2f}')\n",
        "\t\t\n",
        "end\t=\ttime.time()\n",
        "print(f\"Training\ttime:\t{(end-start)/60:.3f}\tminutes\")"
      ],
      "metadata": {
        "id": "F6Kc9VWjqpHa",
        "colab": {
          "base_uri": "https://localhost:8080/"
        },
        "outputId": "92fb63dc-ab48-480a-8c07-bcf61d198d91"
      },
      "execution_count": 52,
      "outputs": [
        {
          "output_type": "stream",
          "name": "stdout",
          "text": [
            "Epoch\t1\tof 100\n",
            "Training\n"
          ]
        },
        {
          "output_type": "stream",
          "name": "stderr",
          "text": [
            "16it [02:41, 10.09s/it]\n"
          ]
        },
        {
          "output_type": "stream",
          "name": "stdout",
          "text": [
            "Validating\n"
          ]
        },
        {
          "output_type": "stream",
          "name": "stderr",
          "text": [
            "  0%|          | 0/15 [00:23<?, ?it/s]\n"
          ]
        },
        {
          "output_type": "stream",
          "name": "stdout",
          "text": [
            "Train\tLoss: 1.1559,\tTrain\tAcc:67.87\n",
            "Val\tLoss: 0.0039,\tVal\tAcc: 100.00\n",
            "Epoch\t2\tof 100\n",
            "Training\n"
          ]
        },
        {
          "output_type": "stream",
          "name": "stderr",
          "text": [
            "16it [00:08,  1.92it/s]\n"
          ]
        },
        {
          "output_type": "stream",
          "name": "stdout",
          "text": [
            "Validating\n"
          ]
        },
        {
          "output_type": "stream",
          "name": "stderr",
          "text": [
            "  0%|          | 0/15 [00:00<?, ?it/s]\n"
          ]
        },
        {
          "output_type": "stream",
          "name": "stdout",
          "text": [
            "Train\tLoss: 0.4656,\tTrain\tAcc:78.51\n",
            "Val\tLoss: 0.8843,\tVal\tAcc: 59.38\n",
            "Epoch\t3\tof 100\n",
            "Training\n"
          ]
        },
        {
          "output_type": "stream",
          "name": "stderr",
          "text": [
            "16it [00:08,  1.93it/s]\n"
          ]
        },
        {
          "output_type": "stream",
          "name": "stdout",
          "text": [
            "Validating\n"
          ]
        },
        {
          "output_type": "stream",
          "name": "stderr",
          "text": [
            "  0%|          | 0/15 [00:00<?, ?it/s]\n"
          ]
        },
        {
          "output_type": "stream",
          "name": "stdout",
          "text": [
            "Train\tLoss: 0.4244,\tTrain\tAcc:81.73\n",
            "Val\tLoss: 0.3669,\tVal\tAcc: 81.25\n",
            "Epoch\t4\tof 100\n",
            "Training\n"
          ]
        },
        {
          "output_type": "stream",
          "name": "stderr",
          "text": [
            "16it [00:08,  1.94it/s]\n"
          ]
        },
        {
          "output_type": "stream",
          "name": "stdout",
          "text": [
            "Validating\n"
          ]
        },
        {
          "output_type": "stream",
          "name": "stderr",
          "text": [
            "  0%|          | 0/15 [00:00<?, ?it/s]\n"
          ]
        },
        {
          "output_type": "stream",
          "name": "stdout",
          "text": [
            "Train\tLoss: 0.3529,\tTrain\tAcc:82.73\n",
            "Val\tLoss: 0.9289,\tVal\tAcc: 81.25\n",
            "Epoch\t5\tof 100\n",
            "Training\n"
          ]
        },
        {
          "output_type": "stream",
          "name": "stderr",
          "text": [
            "16it [00:08,  1.94it/s]\n"
          ]
        },
        {
          "output_type": "stream",
          "name": "stdout",
          "text": [
            "Validating\n"
          ]
        },
        {
          "output_type": "stream",
          "name": "stderr",
          "text": [
            "  0%|          | 0/15 [00:00<?, ?it/s]\n"
          ]
        },
        {
          "output_type": "stream",
          "name": "stdout",
          "text": [
            "Train\tLoss: 0.3593,\tTrain\tAcc:86.95\n",
            "Val\tLoss: 0.7427,\tVal\tAcc: 62.50\n",
            "Epoch\t6\tof 100\n",
            "Training\n"
          ]
        },
        {
          "output_type": "stream",
          "name": "stderr",
          "text": [
            "16it [00:08,  1.93it/s]\n"
          ]
        },
        {
          "output_type": "stream",
          "name": "stdout",
          "text": [
            "Validating\n"
          ]
        },
        {
          "output_type": "stream",
          "name": "stderr",
          "text": [
            "  0%|          | 0/15 [00:00<?, ?it/s]\n"
          ]
        },
        {
          "output_type": "stream",
          "name": "stdout",
          "text": [
            "Train\tLoss: 0.2820,\tTrain\tAcc:86.75\n",
            "Val\tLoss: 0.6066,\tVal\tAcc: 68.75\n",
            "Epoch\t7\tof 100\n",
            "Training\n"
          ]
        },
        {
          "output_type": "stream",
          "name": "stderr",
          "text": [
            "16it [00:08,  1.93it/s]\n"
          ]
        },
        {
          "output_type": "stream",
          "name": "stdout",
          "text": [
            "Validating\n"
          ]
        },
        {
          "output_type": "stream",
          "name": "stderr",
          "text": [
            "  0%|          | 0/15 [00:00<?, ?it/s]\n"
          ]
        },
        {
          "output_type": "stream",
          "name": "stdout",
          "text": [
            "Train\tLoss: 0.2032,\tTrain\tAcc:91.77\n",
            "Val\tLoss: 0.5148,\tVal\tAcc: 71.88\n",
            "Epoch\t8\tof 100\n",
            "Training\n"
          ]
        },
        {
          "output_type": "stream",
          "name": "stderr",
          "text": [
            "16it [00:08,  1.93it/s]\n"
          ]
        },
        {
          "output_type": "stream",
          "name": "stdout",
          "text": [
            "Validating\n"
          ]
        },
        {
          "output_type": "stream",
          "name": "stderr",
          "text": [
            "  0%|          | 0/15 [00:00<?, ?it/s]\n"
          ]
        },
        {
          "output_type": "stream",
          "name": "stdout",
          "text": [
            "Train\tLoss: 0.1871,\tTrain\tAcc:90.96\n",
            "Val\tLoss: 0.1747,\tVal\tAcc: 93.75\n",
            "Epoch\t9\tof 100\n",
            "Training\n"
          ]
        },
        {
          "output_type": "stream",
          "name": "stderr",
          "text": [
            "16it [00:08,  1.82it/s]\n"
          ]
        },
        {
          "output_type": "stream",
          "name": "stdout",
          "text": [
            "Validating\n"
          ]
        },
        {
          "output_type": "stream",
          "name": "stderr",
          "text": [
            "  0%|          | 0/15 [00:00<?, ?it/s]\n"
          ]
        },
        {
          "output_type": "stream",
          "name": "stdout",
          "text": [
            "Train\tLoss: 0.2141,\tTrain\tAcc:90.36\n",
            "Val\tLoss: 1.4644,\tVal\tAcc: 65.62\n",
            "Epoch\t10\tof 100\n",
            "Training\n"
          ]
        },
        {
          "output_type": "stream",
          "name": "stderr",
          "text": [
            "16it [00:08,  1.92it/s]\n"
          ]
        },
        {
          "output_type": "stream",
          "name": "stdout",
          "text": [
            "Validating\n"
          ]
        },
        {
          "output_type": "stream",
          "name": "stderr",
          "text": [
            "  0%|          | 0/15 [00:00<?, ?it/s]\n"
          ]
        },
        {
          "output_type": "stream",
          "name": "stdout",
          "text": [
            "Train\tLoss: 0.2421,\tTrain\tAcc:89.76\n",
            "Val\tLoss: 0.3564,\tVal\tAcc: 84.38\n",
            "Epoch\t11\tof 100\n",
            "Training\n"
          ]
        },
        {
          "output_type": "stream",
          "name": "stderr",
          "text": [
            "16it [00:08,  1.92it/s]\n"
          ]
        },
        {
          "output_type": "stream",
          "name": "stdout",
          "text": [
            "Validating\n"
          ]
        },
        {
          "output_type": "stream",
          "name": "stderr",
          "text": [
            "  0%|          | 0/15 [00:00<?, ?it/s]\n"
          ]
        },
        {
          "output_type": "stream",
          "name": "stdout",
          "text": [
            "Train\tLoss: 0.1512,\tTrain\tAcc:92.37\n",
            "Val\tLoss: 0.4800,\tVal\tAcc: 87.50\n",
            "Epoch\t12\tof 100\n",
            "Training\n"
          ]
        },
        {
          "output_type": "stream",
          "name": "stderr",
          "text": [
            "16it [00:08,  1.92it/s]\n"
          ]
        },
        {
          "output_type": "stream",
          "name": "stdout",
          "text": [
            "Validating\n"
          ]
        },
        {
          "output_type": "stream",
          "name": "stderr",
          "text": [
            "  0%|          | 0/15 [00:00<?, ?it/s]\n"
          ]
        },
        {
          "output_type": "stream",
          "name": "stdout",
          "text": [
            "Train\tLoss: 0.1412,\tTrain\tAcc:93.57\n",
            "Val\tLoss: 1.6751,\tVal\tAcc: 65.62\n",
            "Epoch\t13\tof 100\n",
            "Training\n"
          ]
        },
        {
          "output_type": "stream",
          "name": "stderr",
          "text": [
            "16it [00:08,  1.91it/s]\n"
          ]
        },
        {
          "output_type": "stream",
          "name": "stdout",
          "text": [
            "Validating\n"
          ]
        },
        {
          "output_type": "stream",
          "name": "stderr",
          "text": [
            "  0%|          | 0/15 [00:00<?, ?it/s]\n"
          ]
        },
        {
          "output_type": "stream",
          "name": "stdout",
          "text": [
            "Train\tLoss: 0.2109,\tTrain\tAcc:90.36\n",
            "Val\tLoss: 0.5061,\tVal\tAcc: 78.12\n",
            "Epoch\t14\tof 100\n",
            "Training\n"
          ]
        },
        {
          "output_type": "stream",
          "name": "stderr",
          "text": [
            "16it [00:08,  1.91it/s]\n"
          ]
        },
        {
          "output_type": "stream",
          "name": "stdout",
          "text": [
            "Validating\n"
          ]
        },
        {
          "output_type": "stream",
          "name": "stderr",
          "text": [
            "  0%|          | 0/15 [00:00<?, ?it/s]\n"
          ]
        },
        {
          "output_type": "stream",
          "name": "stdout",
          "text": [
            "Train\tLoss: 0.2668,\tTrain\tAcc:89.56\n",
            "Val\tLoss: 0.4077,\tVal\tAcc: 81.25\n",
            "Epoch\t15\tof 100\n",
            "Training\n"
          ]
        },
        {
          "output_type": "stream",
          "name": "stderr",
          "text": [
            "16it [00:08,  1.91it/s]\n"
          ]
        },
        {
          "output_type": "stream",
          "name": "stdout",
          "text": [
            "Validating\n"
          ]
        },
        {
          "output_type": "stream",
          "name": "stderr",
          "text": [
            "  0%|          | 0/15 [00:00<?, ?it/s]\n"
          ]
        },
        {
          "output_type": "stream",
          "name": "stdout",
          "text": [
            "Train\tLoss: 0.2694,\tTrain\tAcc:91.16\n",
            "Val\tLoss: 1.6932,\tVal\tAcc: 40.62\n",
            "Epoch\t16\tof 100\n",
            "Training\n"
          ]
        },
        {
          "output_type": "stream",
          "name": "stderr",
          "text": [
            "16it [00:08,  1.91it/s]\n"
          ]
        },
        {
          "output_type": "stream",
          "name": "stdout",
          "text": [
            "Validating\n"
          ]
        },
        {
          "output_type": "stream",
          "name": "stderr",
          "text": [
            "  0%|          | 0/15 [00:00<?, ?it/s]\n"
          ]
        },
        {
          "output_type": "stream",
          "name": "stdout",
          "text": [
            "Train\tLoss: 0.1824,\tTrain\tAcc:93.57\n",
            "Val\tLoss: 0.9067,\tVal\tAcc: 81.25\n",
            "Epoch\t17\tof 100\n",
            "Training\n"
          ]
        },
        {
          "output_type": "stream",
          "name": "stderr",
          "text": [
            "16it [00:08,  1.90it/s]\n"
          ]
        },
        {
          "output_type": "stream",
          "name": "stdout",
          "text": [
            "Validating\n"
          ]
        },
        {
          "output_type": "stream",
          "name": "stderr",
          "text": [
            "  0%|          | 0/15 [00:00<?, ?it/s]\n"
          ]
        },
        {
          "output_type": "stream",
          "name": "stdout",
          "text": [
            "Train\tLoss: 0.1437,\tTrain\tAcc:95.38\n",
            "Val\tLoss: 0.6180,\tVal\tAcc: 87.50\n",
            "Epoch\t18\tof 100\n",
            "Training\n"
          ]
        },
        {
          "output_type": "stream",
          "name": "stderr",
          "text": [
            "16it [00:08,  1.91it/s]\n"
          ]
        },
        {
          "output_type": "stream",
          "name": "stdout",
          "text": [
            "Validating\n"
          ]
        },
        {
          "output_type": "stream",
          "name": "stderr",
          "text": [
            "  0%|          | 0/15 [00:00<?, ?it/s]\n"
          ]
        },
        {
          "output_type": "stream",
          "name": "stdout",
          "text": [
            "Train\tLoss: 0.1279,\tTrain\tAcc:94.78\n",
            "Val\tLoss: 1.7840,\tVal\tAcc: 53.12\n",
            "Epoch\t19\tof 100\n",
            "Training\n"
          ]
        },
        {
          "output_type": "stream",
          "name": "stderr",
          "text": [
            "16it [00:08,  1.91it/s]\n"
          ]
        },
        {
          "output_type": "stream",
          "name": "stdout",
          "text": [
            "Validating\n"
          ]
        },
        {
          "output_type": "stream",
          "name": "stderr",
          "text": [
            "  0%|          | 0/15 [00:00<?, ?it/s]\n"
          ]
        },
        {
          "output_type": "stream",
          "name": "stdout",
          "text": [
            "Train\tLoss: 0.1148,\tTrain\tAcc:96.79\n",
            "Val\tLoss: 2.0966,\tVal\tAcc: 50.00\n",
            "Epoch\t20\tof 100\n",
            "Training\n"
          ]
        },
        {
          "output_type": "stream",
          "name": "stderr",
          "text": [
            "16it [00:08,  1.87it/s]\n"
          ]
        },
        {
          "output_type": "stream",
          "name": "stdout",
          "text": [
            "Validating\n"
          ]
        },
        {
          "output_type": "stream",
          "name": "stderr",
          "text": [
            "  0%|          | 0/15 [00:00<?, ?it/s]\n"
          ]
        },
        {
          "output_type": "stream",
          "name": "stdout",
          "text": [
            "Train\tLoss: 0.0804,\tTrain\tAcc:96.59\n",
            "Val\tLoss: 0.8066,\tVal\tAcc: 84.38\n",
            "Epoch\t21\tof 100\n",
            "Training\n"
          ]
        },
        {
          "output_type": "stream",
          "name": "stderr",
          "text": [
            "16it [00:08,  1.84it/s]\n"
          ]
        },
        {
          "output_type": "stream",
          "name": "stdout",
          "text": [
            "Validating\n"
          ]
        },
        {
          "output_type": "stream",
          "name": "stderr",
          "text": [
            "  0%|          | 0/15 [00:00<?, ?it/s]\n"
          ]
        },
        {
          "output_type": "stream",
          "name": "stdout",
          "text": [
            "Train\tLoss: 0.1569,\tTrain\tAcc:94.38\n",
            "Val\tLoss: 0.9645,\tVal\tAcc: 81.25\n",
            "Epoch\t22\tof 100\n",
            "Training\n"
          ]
        },
        {
          "output_type": "stream",
          "name": "stderr",
          "text": [
            "16it [00:08,  1.92it/s]\n"
          ]
        },
        {
          "output_type": "stream",
          "name": "stdout",
          "text": [
            "Validating\n"
          ]
        },
        {
          "output_type": "stream",
          "name": "stderr",
          "text": [
            "  0%|          | 0/15 [00:00<?, ?it/s]\n"
          ]
        },
        {
          "output_type": "stream",
          "name": "stdout",
          "text": [
            "Train\tLoss: 0.0946,\tTrain\tAcc:96.99\n",
            "Val\tLoss: 0.3792,\tVal\tAcc: 84.38\n",
            "Epoch\t23\tof 100\n",
            "Training\n"
          ]
        },
        {
          "output_type": "stream",
          "name": "stderr",
          "text": [
            "16it [00:08,  1.91it/s]\n"
          ]
        },
        {
          "output_type": "stream",
          "name": "stdout",
          "text": [
            "Validating\n"
          ]
        },
        {
          "output_type": "stream",
          "name": "stderr",
          "text": [
            "  0%|          | 0/15 [00:00<?, ?it/s]\n"
          ]
        },
        {
          "output_type": "stream",
          "name": "stdout",
          "text": [
            "Train\tLoss: 0.0600,\tTrain\tAcc:97.99\n",
            "Val\tLoss: 0.4971,\tVal\tAcc: 84.38\n",
            "Epoch\t24\tof 100\n",
            "Training\n"
          ]
        },
        {
          "output_type": "stream",
          "name": "stderr",
          "text": [
            "16it [00:08,  1.90it/s]\n"
          ]
        },
        {
          "output_type": "stream",
          "name": "stdout",
          "text": [
            "Validating\n"
          ]
        },
        {
          "output_type": "stream",
          "name": "stderr",
          "text": [
            "  0%|          | 0/15 [00:00<?, ?it/s]\n"
          ]
        },
        {
          "output_type": "stream",
          "name": "stdout",
          "text": [
            "Train\tLoss: 0.0883,\tTrain\tAcc:97.39\n",
            "Val\tLoss: 2.2017,\tVal\tAcc: 56.25\n",
            "Epoch\t25\tof 100\n",
            "Training\n"
          ]
        },
        {
          "output_type": "stream",
          "name": "stderr",
          "text": [
            "16it [00:08,  1.90it/s]\n"
          ]
        },
        {
          "output_type": "stream",
          "name": "stdout",
          "text": [
            "Validating\n"
          ]
        },
        {
          "output_type": "stream",
          "name": "stderr",
          "text": [
            "  0%|          | 0/15 [00:00<?, ?it/s]\n"
          ]
        },
        {
          "output_type": "stream",
          "name": "stdout",
          "text": [
            "Train\tLoss: 0.1044,\tTrain\tAcc:96.18\n",
            "Val\tLoss: 1.4388,\tVal\tAcc: 65.62\n",
            "Epoch\t26\tof 100\n",
            "Training\n"
          ]
        },
        {
          "output_type": "stream",
          "name": "stderr",
          "text": [
            "16it [00:08,  1.89it/s]\n"
          ]
        },
        {
          "output_type": "stream",
          "name": "stdout",
          "text": [
            "Validating\n"
          ]
        },
        {
          "output_type": "stream",
          "name": "stderr",
          "text": [
            "  0%|          | 0/15 [00:00<?, ?it/s]\n"
          ]
        },
        {
          "output_type": "stream",
          "name": "stdout",
          "text": [
            "Train\tLoss: 0.0717,\tTrain\tAcc:97.59\n",
            "Val\tLoss: 1.3772,\tVal\tAcc: 65.62\n",
            "Epoch\t27\tof 100\n",
            "Training\n"
          ]
        },
        {
          "output_type": "stream",
          "name": "stderr",
          "text": [
            "16it [00:08,  1.88it/s]\n"
          ]
        },
        {
          "output_type": "stream",
          "name": "stdout",
          "text": [
            "Validating\n"
          ]
        },
        {
          "output_type": "stream",
          "name": "stderr",
          "text": [
            "  0%|          | 0/15 [00:00<?, ?it/s]\n"
          ]
        },
        {
          "output_type": "stream",
          "name": "stdout",
          "text": [
            "Train\tLoss: 0.1425,\tTrain\tAcc:94.58\n",
            "Val\tLoss: 0.6298,\tVal\tAcc: 78.12\n",
            "Epoch\t28\tof 100\n",
            "Training\n"
          ]
        },
        {
          "output_type": "stream",
          "name": "stderr",
          "text": [
            "16it [00:08,  1.90it/s]\n"
          ]
        },
        {
          "output_type": "stream",
          "name": "stdout",
          "text": [
            "Validating\n"
          ]
        },
        {
          "output_type": "stream",
          "name": "stderr",
          "text": [
            "  0%|          | 0/15 [00:00<?, ?it/s]\n"
          ]
        },
        {
          "output_type": "stream",
          "name": "stdout",
          "text": [
            "Train\tLoss: 0.0731,\tTrain\tAcc:97.39\n",
            "Val\tLoss: 0.5377,\tVal\tAcc: 81.25\n",
            "Epoch\t29\tof 100\n",
            "Training\n"
          ]
        },
        {
          "output_type": "stream",
          "name": "stderr",
          "text": [
            "16it [00:08,  1.90it/s]\n"
          ]
        },
        {
          "output_type": "stream",
          "name": "stdout",
          "text": [
            "Validating\n"
          ]
        },
        {
          "output_type": "stream",
          "name": "stderr",
          "text": [
            "  0%|          | 0/15 [00:00<?, ?it/s]\n"
          ]
        },
        {
          "output_type": "stream",
          "name": "stdout",
          "text": [
            "Train\tLoss: 0.0744,\tTrain\tAcc:97.59\n",
            "Val\tLoss: 1.3170,\tVal\tAcc: 65.62\n",
            "Epoch\t30\tof 100\n",
            "Training\n"
          ]
        },
        {
          "output_type": "stream",
          "name": "stderr",
          "text": [
            "16it [00:08,  1.90it/s]\n"
          ]
        },
        {
          "output_type": "stream",
          "name": "stdout",
          "text": [
            "Validating\n"
          ]
        },
        {
          "output_type": "stream",
          "name": "stderr",
          "text": [
            "  0%|          | 0/15 [00:00<?, ?it/s]\n"
          ]
        },
        {
          "output_type": "stream",
          "name": "stdout",
          "text": [
            "Train\tLoss: 0.1061,\tTrain\tAcc:95.18\n",
            "Val\tLoss: 1.0535,\tVal\tAcc: 78.12\n",
            "Epoch\t31\tof 100\n",
            "Training\n"
          ]
        },
        {
          "output_type": "stream",
          "name": "stderr",
          "text": [
            "16it [00:08,  1.90it/s]\n"
          ]
        },
        {
          "output_type": "stream",
          "name": "stdout",
          "text": [
            "Validating\n"
          ]
        },
        {
          "output_type": "stream",
          "name": "stderr",
          "text": [
            "  0%|          | 0/15 [00:00<?, ?it/s]\n"
          ]
        },
        {
          "output_type": "stream",
          "name": "stdout",
          "text": [
            "Train\tLoss: 0.1170,\tTrain\tAcc:95.58\n",
            "Val\tLoss: 1.9817,\tVal\tAcc: 53.12\n",
            "Epoch\t32\tof 100\n",
            "Training\n"
          ]
        },
        {
          "output_type": "stream",
          "name": "stderr",
          "text": [
            "16it [00:08,  1.78it/s]\n"
          ]
        },
        {
          "output_type": "stream",
          "name": "stdout",
          "text": [
            "Validating\n"
          ]
        },
        {
          "output_type": "stream",
          "name": "stderr",
          "text": [
            "  0%|          | 0/15 [00:00<?, ?it/s]\n"
          ]
        },
        {
          "output_type": "stream",
          "name": "stdout",
          "text": [
            "Train\tLoss: 0.1224,\tTrain\tAcc:95.18\n",
            "Val\tLoss: 0.7262,\tVal\tAcc: 78.12\n",
            "Epoch\t33\tof 100\n",
            "Training\n"
          ]
        },
        {
          "output_type": "stream",
          "name": "stderr",
          "text": [
            "16it [00:08,  1.88it/s]\n"
          ]
        },
        {
          "output_type": "stream",
          "name": "stdout",
          "text": [
            "Validating\n"
          ]
        },
        {
          "output_type": "stream",
          "name": "stderr",
          "text": [
            "  0%|          | 0/15 [00:00<?, ?it/s]\n"
          ]
        },
        {
          "output_type": "stream",
          "name": "stdout",
          "text": [
            "Train\tLoss: 0.1093,\tTrain\tAcc:96.18\n",
            "Val\tLoss: 2.0799,\tVal\tAcc: 56.25\n",
            "Epoch\t34\tof 100\n",
            "Training\n"
          ]
        },
        {
          "output_type": "stream",
          "name": "stderr",
          "text": [
            "16it [00:08,  1.89it/s]\n"
          ]
        },
        {
          "output_type": "stream",
          "name": "stdout",
          "text": [
            "Validating\n"
          ]
        },
        {
          "output_type": "stream",
          "name": "stderr",
          "text": [
            "  0%|          | 0/15 [00:00<?, ?it/s]\n"
          ]
        },
        {
          "output_type": "stream",
          "name": "stdout",
          "text": [
            "Train\tLoss: 0.1002,\tTrain\tAcc:96.79\n",
            "Val\tLoss: 1.0138,\tVal\tAcc: 75.00\n",
            "Epoch\t35\tof 100\n",
            "Training\n"
          ]
        },
        {
          "output_type": "stream",
          "name": "stderr",
          "text": [
            "16it [00:08,  1.89it/s]\n"
          ]
        },
        {
          "output_type": "stream",
          "name": "stdout",
          "text": [
            "Validating\n"
          ]
        },
        {
          "output_type": "stream",
          "name": "stderr",
          "text": [
            "  0%|          | 0/15 [00:00<?, ?it/s]\n"
          ]
        },
        {
          "output_type": "stream",
          "name": "stdout",
          "text": [
            "Train\tLoss: 0.1076,\tTrain\tAcc:95.78\n",
            "Val\tLoss: 0.7613,\tVal\tAcc: 71.88\n",
            "Epoch\t36\tof 100\n",
            "Training\n"
          ]
        },
        {
          "output_type": "stream",
          "name": "stderr",
          "text": [
            "16it [00:08,  1.90it/s]\n"
          ]
        },
        {
          "output_type": "stream",
          "name": "stdout",
          "text": [
            "Validating\n"
          ]
        },
        {
          "output_type": "stream",
          "name": "stderr",
          "text": [
            "  0%|          | 0/15 [00:00<?, ?it/s]\n"
          ]
        },
        {
          "output_type": "stream",
          "name": "stdout",
          "text": [
            "Train\tLoss: 0.0466,\tTrain\tAcc:98.59\n",
            "Val\tLoss: 0.5839,\tVal\tAcc: 84.38\n",
            "Epoch\t37\tof 100\n",
            "Training\n"
          ]
        },
        {
          "output_type": "stream",
          "name": "stderr",
          "text": [
            "16it [00:08,  1.89it/s]\n"
          ]
        },
        {
          "output_type": "stream",
          "name": "stdout",
          "text": [
            "Validating\n"
          ]
        },
        {
          "output_type": "stream",
          "name": "stderr",
          "text": [
            "  0%|          | 0/15 [00:00<?, ?it/s]\n"
          ]
        },
        {
          "output_type": "stream",
          "name": "stdout",
          "text": [
            "Train\tLoss: 0.0549,\tTrain\tAcc:97.79\n",
            "Val\tLoss: 0.7047,\tVal\tAcc: 81.25\n",
            "Epoch\t38\tof 100\n",
            "Training\n"
          ]
        },
        {
          "output_type": "stream",
          "name": "stderr",
          "text": [
            "16it [00:08,  1.89it/s]\n"
          ]
        },
        {
          "output_type": "stream",
          "name": "stdout",
          "text": [
            "Validating\n"
          ]
        },
        {
          "output_type": "stream",
          "name": "stderr",
          "text": [
            "  0%|          | 0/15 [00:00<?, ?it/s]\n"
          ]
        },
        {
          "output_type": "stream",
          "name": "stdout",
          "text": [
            "Train\tLoss: 0.0361,\tTrain\tAcc:99.00\n",
            "Val\tLoss: 1.5486,\tVal\tAcc: 62.50\n",
            "Epoch\t39\tof 100\n",
            "Training\n"
          ]
        },
        {
          "output_type": "stream",
          "name": "stderr",
          "text": [
            "16it [00:08,  1.88it/s]\n"
          ]
        },
        {
          "output_type": "stream",
          "name": "stdout",
          "text": [
            "Validating\n"
          ]
        },
        {
          "output_type": "stream",
          "name": "stderr",
          "text": [
            "  0%|          | 0/15 [00:00<?, ?it/s]\n"
          ]
        },
        {
          "output_type": "stream",
          "name": "stdout",
          "text": [
            "Train\tLoss: 0.0236,\tTrain\tAcc:99.00\n",
            "Val\tLoss: 1.2219,\tVal\tAcc: 78.12\n",
            "Epoch\t40\tof 100\n",
            "Training\n"
          ]
        },
        {
          "output_type": "stream",
          "name": "stderr",
          "text": [
            "16it [00:08,  1.89it/s]\n"
          ]
        },
        {
          "output_type": "stream",
          "name": "stdout",
          "text": [
            "Validating\n"
          ]
        },
        {
          "output_type": "stream",
          "name": "stderr",
          "text": [
            "  0%|          | 0/15 [00:00<?, ?it/s]\n"
          ]
        },
        {
          "output_type": "stream",
          "name": "stdout",
          "text": [
            "Train\tLoss: 0.0469,\tTrain\tAcc:98.39\n",
            "Val\tLoss: 1.6289,\tVal\tAcc: 62.50\n",
            "Epoch\t41\tof 100\n",
            "Training\n"
          ]
        },
        {
          "output_type": "stream",
          "name": "stderr",
          "text": [
            "16it [00:08,  1.84it/s]\n"
          ]
        },
        {
          "output_type": "stream",
          "name": "stdout",
          "text": [
            "Validating\n"
          ]
        },
        {
          "output_type": "stream",
          "name": "stderr",
          "text": [
            "  0%|          | 0/15 [00:00<?, ?it/s]\n"
          ]
        },
        {
          "output_type": "stream",
          "name": "stdout",
          "text": [
            "Train\tLoss: 0.0687,\tTrain\tAcc:97.59\n",
            "Val\tLoss: 1.0361,\tVal\tAcc: 75.00\n",
            "Epoch\t42\tof 100\n",
            "Training\n"
          ]
        },
        {
          "output_type": "stream",
          "name": "stderr",
          "text": [
            "16it [00:08,  1.86it/s]\n"
          ]
        },
        {
          "output_type": "stream",
          "name": "stdout",
          "text": [
            "Validating\n"
          ]
        },
        {
          "output_type": "stream",
          "name": "stderr",
          "text": [
            "  0%|          | 0/15 [00:00<?, ?it/s]\n"
          ]
        },
        {
          "output_type": "stream",
          "name": "stdout",
          "text": [
            "Train\tLoss: 0.0691,\tTrain\tAcc:96.39\n",
            "Val\tLoss: 0.6777,\tVal\tAcc: 84.38\n",
            "Epoch\t43\tof 100\n",
            "Training\n"
          ]
        },
        {
          "output_type": "stream",
          "name": "stderr",
          "text": [
            "16it [00:08,  1.87it/s]\n"
          ]
        },
        {
          "output_type": "stream",
          "name": "stdout",
          "text": [
            "Validating\n"
          ]
        },
        {
          "output_type": "stream",
          "name": "stderr",
          "text": [
            "  0%|          | 0/15 [00:00<?, ?it/s]\n"
          ]
        },
        {
          "output_type": "stream",
          "name": "stdout",
          "text": [
            "Train\tLoss: 0.0687,\tTrain\tAcc:97.59\n",
            "Val\tLoss: 3.7856,\tVal\tAcc: 40.62\n",
            "Epoch\t44\tof 100\n",
            "Training\n"
          ]
        },
        {
          "output_type": "stream",
          "name": "stderr",
          "text": [
            "16it [00:09,  1.75it/s]\n"
          ]
        },
        {
          "output_type": "stream",
          "name": "stdout",
          "text": [
            "Validating\n"
          ]
        },
        {
          "output_type": "stream",
          "name": "stderr",
          "text": [
            "  0%|          | 0/15 [00:00<?, ?it/s]\n"
          ]
        },
        {
          "output_type": "stream",
          "name": "stdout",
          "text": [
            "Train\tLoss: 0.0886,\tTrain\tAcc:96.99\n",
            "Val\tLoss: 0.8389,\tVal\tAcc: 87.50\n",
            "Epoch\t45\tof 100\n",
            "Training\n"
          ]
        },
        {
          "output_type": "stream",
          "name": "stderr",
          "text": [
            "16it [00:08,  1.88it/s]\n"
          ]
        },
        {
          "output_type": "stream",
          "name": "stdout",
          "text": [
            "Validating\n"
          ]
        },
        {
          "output_type": "stream",
          "name": "stderr",
          "text": [
            "  0%|          | 0/15 [00:00<?, ?it/s]\n"
          ]
        },
        {
          "output_type": "stream",
          "name": "stdout",
          "text": [
            "Train\tLoss: 0.1006,\tTrain\tAcc:96.39\n",
            "Val\tLoss: 1.0064,\tVal\tAcc: 78.12\n",
            "Epoch\t46\tof 100\n",
            "Training\n"
          ]
        },
        {
          "output_type": "stream",
          "name": "stderr",
          "text": [
            "16it [00:08,  1.88it/s]\n"
          ]
        },
        {
          "output_type": "stream",
          "name": "stdout",
          "text": [
            "Validating\n"
          ]
        },
        {
          "output_type": "stream",
          "name": "stderr",
          "text": [
            "  0%|          | 0/15 [00:00<?, ?it/s]\n"
          ]
        },
        {
          "output_type": "stream",
          "name": "stdout",
          "text": [
            "Train\tLoss: 0.0980,\tTrain\tAcc:96.39\n",
            "Val\tLoss: 1.4823,\tVal\tAcc: 68.75\n",
            "Epoch\t47\tof 100\n",
            "Training\n"
          ]
        },
        {
          "output_type": "stream",
          "name": "stderr",
          "text": [
            "16it [00:08,  1.89it/s]\n"
          ]
        },
        {
          "output_type": "stream",
          "name": "stdout",
          "text": [
            "Validating\n"
          ]
        },
        {
          "output_type": "stream",
          "name": "stderr",
          "text": [
            "  0%|          | 0/15 [00:00<?, ?it/s]\n"
          ]
        },
        {
          "output_type": "stream",
          "name": "stdout",
          "text": [
            "Train\tLoss: 0.1136,\tTrain\tAcc:95.98\n",
            "Val\tLoss: 1.7779,\tVal\tAcc: 53.12\n",
            "Epoch\t48\tof 100\n",
            "Training\n"
          ]
        },
        {
          "output_type": "stream",
          "name": "stderr",
          "text": [
            "16it [00:08,  1.89it/s]\n"
          ]
        },
        {
          "output_type": "stream",
          "name": "stdout",
          "text": [
            "Validating\n"
          ]
        },
        {
          "output_type": "stream",
          "name": "stderr",
          "text": [
            "  0%|          | 0/15 [00:00<?, ?it/s]\n"
          ]
        },
        {
          "output_type": "stream",
          "name": "stdout",
          "text": [
            "Train\tLoss: 0.0947,\tTrain\tAcc:96.59\n",
            "Val\tLoss: 0.7213,\tVal\tAcc: 78.12\n",
            "Epoch\t49\tof 100\n",
            "Training\n"
          ]
        },
        {
          "output_type": "stream",
          "name": "stderr",
          "text": [
            "16it [00:08,  1.89it/s]\n"
          ]
        },
        {
          "output_type": "stream",
          "name": "stdout",
          "text": [
            "Validating\n"
          ]
        },
        {
          "output_type": "stream",
          "name": "stderr",
          "text": [
            "  0%|          | 0/15 [00:00<?, ?it/s]\n"
          ]
        },
        {
          "output_type": "stream",
          "name": "stdout",
          "text": [
            "Train\tLoss: 0.1291,\tTrain\tAcc:95.18\n",
            "Val\tLoss: 0.5396,\tVal\tAcc: 81.25\n",
            "Epoch\t50\tof 100\n",
            "Training\n"
          ]
        },
        {
          "output_type": "stream",
          "name": "stderr",
          "text": [
            "16it [00:08,  1.89it/s]\n"
          ]
        },
        {
          "output_type": "stream",
          "name": "stdout",
          "text": [
            "Validating\n"
          ]
        },
        {
          "output_type": "stream",
          "name": "stderr",
          "text": [
            "  0%|          | 0/15 [00:00<?, ?it/s]\n"
          ]
        },
        {
          "output_type": "stream",
          "name": "stdout",
          "text": [
            "Train\tLoss: 0.1023,\tTrain\tAcc:96.79\n",
            "Val\tLoss: 2.0624,\tVal\tAcc: 65.62\n",
            "Epoch\t51\tof 100\n",
            "Training\n"
          ]
        },
        {
          "output_type": "stream",
          "name": "stderr",
          "text": [
            "16it [00:08,  1.88it/s]\n"
          ]
        },
        {
          "output_type": "stream",
          "name": "stdout",
          "text": [
            "Validating\n"
          ]
        },
        {
          "output_type": "stream",
          "name": "stderr",
          "text": [
            "  0%|          | 0/15 [00:00<?, ?it/s]\n"
          ]
        },
        {
          "output_type": "stream",
          "name": "stdout",
          "text": [
            "Train\tLoss: 0.0507,\tTrain\tAcc:98.19\n",
            "Val\tLoss: 1.1818,\tVal\tAcc: 78.12\n",
            "Epoch\t52\tof 100\n",
            "Training\n"
          ]
        },
        {
          "output_type": "stream",
          "name": "stderr",
          "text": [
            "16it [00:08,  1.89it/s]\n"
          ]
        },
        {
          "output_type": "stream",
          "name": "stdout",
          "text": [
            "Validating\n"
          ]
        },
        {
          "output_type": "stream",
          "name": "stderr",
          "text": [
            "  0%|          | 0/15 [00:00<?, ?it/s]\n"
          ]
        },
        {
          "output_type": "stream",
          "name": "stdout",
          "text": [
            "Train\tLoss: 0.0422,\tTrain\tAcc:98.59\n",
            "Val\tLoss: 1.4701,\tVal\tAcc: 65.62\n",
            "Epoch\t53\tof 100\n",
            "Training\n"
          ]
        },
        {
          "output_type": "stream",
          "name": "stderr",
          "text": [
            "16it [00:08,  1.88it/s]\n"
          ]
        },
        {
          "output_type": "stream",
          "name": "stdout",
          "text": [
            "Validating\n"
          ]
        },
        {
          "output_type": "stream",
          "name": "stderr",
          "text": [
            "  0%|          | 0/15 [00:00<?, ?it/s]\n"
          ]
        },
        {
          "output_type": "stream",
          "name": "stdout",
          "text": [
            "Train\tLoss: 0.0633,\tTrain\tAcc:98.19\n",
            "Val\tLoss: 0.6014,\tVal\tAcc: 78.12\n",
            "Epoch\t54\tof 100\n",
            "Training\n"
          ]
        },
        {
          "output_type": "stream",
          "name": "stderr",
          "text": [
            "16it [00:08,  1.89it/s]\n"
          ]
        },
        {
          "output_type": "stream",
          "name": "stdout",
          "text": [
            "Validating\n"
          ]
        },
        {
          "output_type": "stream",
          "name": "stderr",
          "text": [
            "  0%|          | 0/15 [00:00<?, ?it/s]\n"
          ]
        },
        {
          "output_type": "stream",
          "name": "stdout",
          "text": [
            "Train\tLoss: 0.0408,\tTrain\tAcc:98.59\n",
            "Val\tLoss: 0.4458,\tVal\tAcc: 78.12\n",
            "Epoch\t55\tof 100\n",
            "Training\n"
          ]
        },
        {
          "output_type": "stream",
          "name": "stderr",
          "text": [
            "16it [00:08,  1.88it/s]\n"
          ]
        },
        {
          "output_type": "stream",
          "name": "stdout",
          "text": [
            "Validating\n"
          ]
        },
        {
          "output_type": "stream",
          "name": "stderr",
          "text": [
            "  0%|          | 0/15 [00:00<?, ?it/s]\n"
          ]
        },
        {
          "output_type": "stream",
          "name": "stdout",
          "text": [
            "Train\tLoss: 0.0263,\tTrain\tAcc:99.00\n",
            "Val\tLoss: 0.7505,\tVal\tAcc: 75.00\n",
            "Epoch\t56\tof 100\n",
            "Training\n"
          ]
        },
        {
          "output_type": "stream",
          "name": "stderr",
          "text": [
            "16it [00:08,  1.78it/s]\n"
          ]
        },
        {
          "output_type": "stream",
          "name": "stdout",
          "text": [
            "Validating\n"
          ]
        },
        {
          "output_type": "stream",
          "name": "stderr",
          "text": [
            "  0%|          | 0/15 [00:00<?, ?it/s]\n"
          ]
        },
        {
          "output_type": "stream",
          "name": "stdout",
          "text": [
            "Train\tLoss: 0.0472,\tTrain\tAcc:97.79\n",
            "Val\tLoss: 0.8341,\tVal\tAcc: 78.12\n",
            "Epoch\t57\tof 100\n",
            "Training\n"
          ]
        },
        {
          "output_type": "stream",
          "name": "stderr",
          "text": [
            "16it [00:08,  1.88it/s]\n"
          ]
        },
        {
          "output_type": "stream",
          "name": "stdout",
          "text": [
            "Validating\n"
          ]
        },
        {
          "output_type": "stream",
          "name": "stderr",
          "text": [
            "  0%|          | 0/15 [00:00<?, ?it/s]\n"
          ]
        },
        {
          "output_type": "stream",
          "name": "stdout",
          "text": [
            "Train\tLoss: 0.0583,\tTrain\tAcc:98.19\n",
            "Val\tLoss: 1.6138,\tVal\tAcc: 71.88\n",
            "Epoch\t58\tof 100\n",
            "Training\n"
          ]
        },
        {
          "output_type": "stream",
          "name": "stderr",
          "text": [
            "16it [00:08,  1.88it/s]\n"
          ]
        },
        {
          "output_type": "stream",
          "name": "stdout",
          "text": [
            "Validating\n"
          ]
        },
        {
          "output_type": "stream",
          "name": "stderr",
          "text": [
            "  0%|          | 0/15 [00:00<?, ?it/s]\n"
          ]
        },
        {
          "output_type": "stream",
          "name": "stdout",
          "text": [
            "Train\tLoss: 0.0757,\tTrain\tAcc:97.19\n",
            "Val\tLoss: 0.7890,\tVal\tAcc: 81.25\n",
            "Epoch\t59\tof 100\n",
            "Training\n"
          ]
        },
        {
          "output_type": "stream",
          "name": "stderr",
          "text": [
            "16it [00:08,  1.89it/s]\n"
          ]
        },
        {
          "output_type": "stream",
          "name": "stdout",
          "text": [
            "Validating\n"
          ]
        },
        {
          "output_type": "stream",
          "name": "stderr",
          "text": [
            "  0%|          | 0/15 [00:00<?, ?it/s]\n"
          ]
        },
        {
          "output_type": "stream",
          "name": "stdout",
          "text": [
            "Train\tLoss: 0.0642,\tTrain\tAcc:98.19\n",
            "Val\tLoss: 0.9259,\tVal\tAcc: 75.00\n",
            "Epoch\t60\tof 100\n",
            "Training\n"
          ]
        },
        {
          "output_type": "stream",
          "name": "stderr",
          "text": [
            "16it [00:08,  1.88it/s]\n"
          ]
        },
        {
          "output_type": "stream",
          "name": "stdout",
          "text": [
            "Validating\n"
          ]
        },
        {
          "output_type": "stream",
          "name": "stderr",
          "text": [
            "  0%|          | 0/15 [00:00<?, ?it/s]\n"
          ]
        },
        {
          "output_type": "stream",
          "name": "stdout",
          "text": [
            "Train\tLoss: 0.1652,\tTrain\tAcc:93.37\n",
            "Val\tLoss: 0.1580,\tVal\tAcc: 93.75\n",
            "Epoch\t61\tof 100\n",
            "Training\n"
          ]
        },
        {
          "output_type": "stream",
          "name": "stderr",
          "text": [
            "16it [00:08,  1.87it/s]\n"
          ]
        },
        {
          "output_type": "stream",
          "name": "stdout",
          "text": [
            "Validating\n"
          ]
        },
        {
          "output_type": "stream",
          "name": "stderr",
          "text": [
            "  0%|          | 0/15 [00:00<?, ?it/s]\n"
          ]
        },
        {
          "output_type": "stream",
          "name": "stdout",
          "text": [
            "Train\tLoss: 0.0956,\tTrain\tAcc:96.79\n",
            "Val\tLoss: 1.0456,\tVal\tAcc: 78.12\n",
            "Epoch\t62\tof 100\n",
            "Training\n"
          ]
        },
        {
          "output_type": "stream",
          "name": "stderr",
          "text": [
            "16it [00:08,  1.85it/s]\n"
          ]
        },
        {
          "output_type": "stream",
          "name": "stdout",
          "text": [
            "Validating\n"
          ]
        },
        {
          "output_type": "stream",
          "name": "stderr",
          "text": [
            "  0%|          | 0/15 [00:00<?, ?it/s]\n"
          ]
        },
        {
          "output_type": "stream",
          "name": "stdout",
          "text": [
            "Train\tLoss: 0.0933,\tTrain\tAcc:97.19\n",
            "Val\tLoss: 1.5296,\tVal\tAcc: 68.75\n",
            "Epoch\t63\tof 100\n",
            "Training\n"
          ]
        },
        {
          "output_type": "stream",
          "name": "stderr",
          "text": [
            "16it [00:08,  1.89it/s]\n"
          ]
        },
        {
          "output_type": "stream",
          "name": "stdout",
          "text": [
            "Validating\n"
          ]
        },
        {
          "output_type": "stream",
          "name": "stderr",
          "text": [
            "  0%|          | 0/15 [00:00<?, ?it/s]\n"
          ]
        },
        {
          "output_type": "stream",
          "name": "stdout",
          "text": [
            "Train\tLoss: 0.0462,\tTrain\tAcc:98.19\n",
            "Val\tLoss: 1.5392,\tVal\tAcc: 75.00\n",
            "Epoch\t64\tof 100\n",
            "Training\n"
          ]
        },
        {
          "output_type": "stream",
          "name": "stderr",
          "text": [
            "16it [00:08,  1.89it/s]\n"
          ]
        },
        {
          "output_type": "stream",
          "name": "stdout",
          "text": [
            "Validating\n"
          ]
        },
        {
          "output_type": "stream",
          "name": "stderr",
          "text": [
            "  0%|          | 0/15 [00:00<?, ?it/s]\n"
          ]
        },
        {
          "output_type": "stream",
          "name": "stdout",
          "text": [
            "Train\tLoss: 0.0623,\tTrain\tAcc:96.59\n",
            "Val\tLoss: 0.8827,\tVal\tAcc: 71.88\n",
            "Epoch\t65\tof 100\n",
            "Training\n"
          ]
        },
        {
          "output_type": "stream",
          "name": "stderr",
          "text": [
            "16it [00:08,  1.89it/s]\n"
          ]
        },
        {
          "output_type": "stream",
          "name": "stdout",
          "text": [
            "Validating\n"
          ]
        },
        {
          "output_type": "stream",
          "name": "stderr",
          "text": [
            "  0%|          | 0/15 [00:00<?, ?it/s]\n"
          ]
        },
        {
          "output_type": "stream",
          "name": "stdout",
          "text": [
            "Train\tLoss: 0.0219,\tTrain\tAcc:99.20\n",
            "Val\tLoss: 1.5713,\tVal\tAcc: 62.50\n",
            "Epoch\t66\tof 100\n",
            "Training\n"
          ]
        },
        {
          "output_type": "stream",
          "name": "stderr",
          "text": [
            "16it [00:08,  1.88it/s]\n"
          ]
        },
        {
          "output_type": "stream",
          "name": "stdout",
          "text": [
            "Validating\n"
          ]
        },
        {
          "output_type": "stream",
          "name": "stderr",
          "text": [
            "  0%|          | 0/15 [00:00<?, ?it/s]\n"
          ]
        },
        {
          "output_type": "stream",
          "name": "stdout",
          "text": [
            "Train\tLoss: 0.0389,\tTrain\tAcc:98.59\n",
            "Val\tLoss: 1.2246,\tVal\tAcc: 78.12\n",
            "Epoch\t67\tof 100\n",
            "Training\n"
          ]
        },
        {
          "output_type": "stream",
          "name": "stderr",
          "text": [
            "16it [00:08,  1.78it/s]\n"
          ]
        },
        {
          "output_type": "stream",
          "name": "stdout",
          "text": [
            "Validating\n"
          ]
        },
        {
          "output_type": "stream",
          "name": "stderr",
          "text": [
            "  0%|          | 0/15 [00:00<?, ?it/s]\n"
          ]
        },
        {
          "output_type": "stream",
          "name": "stdout",
          "text": [
            "Train\tLoss: 0.0390,\tTrain\tAcc:98.80\n",
            "Val\tLoss: 0.3122,\tVal\tAcc: 84.38\n",
            "Epoch\t68\tof 100\n",
            "Training\n"
          ]
        },
        {
          "output_type": "stream",
          "name": "stderr",
          "text": [
            "16it [00:08,  1.89it/s]\n"
          ]
        },
        {
          "output_type": "stream",
          "name": "stdout",
          "text": [
            "Validating\n"
          ]
        },
        {
          "output_type": "stream",
          "name": "stderr",
          "text": [
            "  0%|          | 0/15 [00:00<?, ?it/s]\n"
          ]
        },
        {
          "output_type": "stream",
          "name": "stdout",
          "text": [
            "Train\tLoss: 0.0445,\tTrain\tAcc:98.39\n",
            "Val\tLoss: 1.7757,\tVal\tAcc: 53.12\n",
            "Epoch\t69\tof 100\n",
            "Training\n"
          ]
        },
        {
          "output_type": "stream",
          "name": "stderr",
          "text": [
            "16it [00:08,  1.87it/s]\n"
          ]
        },
        {
          "output_type": "stream",
          "name": "stdout",
          "text": [
            "Validating\n"
          ]
        },
        {
          "output_type": "stream",
          "name": "stderr",
          "text": [
            "  0%|          | 0/15 [00:00<?, ?it/s]\n"
          ]
        },
        {
          "output_type": "stream",
          "name": "stdout",
          "text": [
            "Train\tLoss: 0.0276,\tTrain\tAcc:99.20\n",
            "Val\tLoss: 1.0914,\tVal\tAcc: 59.38\n",
            "Epoch\t70\tof 100\n",
            "Training\n"
          ]
        },
        {
          "output_type": "stream",
          "name": "stderr",
          "text": [
            "16it [00:08,  1.90it/s]\n"
          ]
        },
        {
          "output_type": "stream",
          "name": "stdout",
          "text": [
            "Validating\n"
          ]
        },
        {
          "output_type": "stream",
          "name": "stderr",
          "text": [
            "  0%|          | 0/15 [00:00<?, ?it/s]\n"
          ]
        },
        {
          "output_type": "stream",
          "name": "stdout",
          "text": [
            "Train\tLoss: 0.0349,\tTrain\tAcc:98.39\n",
            "Val\tLoss: 5.2224,\tVal\tAcc: 43.75\n",
            "Epoch\t71\tof 100\n",
            "Training\n"
          ]
        },
        {
          "output_type": "stream",
          "name": "stderr",
          "text": [
            "16it [00:08,  1.90it/s]\n"
          ]
        },
        {
          "output_type": "stream",
          "name": "stdout",
          "text": [
            "Validating\n"
          ]
        },
        {
          "output_type": "stream",
          "name": "stderr",
          "text": [
            "  0%|          | 0/15 [00:00<?, ?it/s]\n"
          ]
        },
        {
          "output_type": "stream",
          "name": "stdout",
          "text": [
            "Train\tLoss: 0.0540,\tTrain\tAcc:97.79\n",
            "Val\tLoss: 1.2852,\tVal\tAcc: 75.00\n",
            "Epoch\t72\tof 100\n",
            "Training\n"
          ]
        },
        {
          "output_type": "stream",
          "name": "stderr",
          "text": [
            "16it [00:08,  1.89it/s]\n"
          ]
        },
        {
          "output_type": "stream",
          "name": "stdout",
          "text": [
            "Validating\n"
          ]
        },
        {
          "output_type": "stream",
          "name": "stderr",
          "text": [
            "  0%|          | 0/15 [00:00<?, ?it/s]\n"
          ]
        },
        {
          "output_type": "stream",
          "name": "stdout",
          "text": [
            "Train\tLoss: 0.0426,\tTrain\tAcc:98.80\n",
            "Val\tLoss: 1.8867,\tVal\tAcc: 62.50\n",
            "Epoch\t73\tof 100\n",
            "Training\n"
          ]
        },
        {
          "output_type": "stream",
          "name": "stderr",
          "text": [
            "16it [00:08,  1.89it/s]\n"
          ]
        },
        {
          "output_type": "stream",
          "name": "stdout",
          "text": [
            "Validating\n"
          ]
        },
        {
          "output_type": "stream",
          "name": "stderr",
          "text": [
            "  0%|          | 0/15 [00:00<?, ?it/s]\n"
          ]
        },
        {
          "output_type": "stream",
          "name": "stdout",
          "text": [
            "Train\tLoss: 0.0566,\tTrain\tAcc:97.99\n",
            "Val\tLoss: 1.0883,\tVal\tAcc: 71.88\n",
            "Epoch\t74\tof 100\n",
            "Training\n"
          ]
        },
        {
          "output_type": "stream",
          "name": "stderr",
          "text": [
            "16it [00:08,  1.89it/s]\n"
          ]
        },
        {
          "output_type": "stream",
          "name": "stdout",
          "text": [
            "Validating\n"
          ]
        },
        {
          "output_type": "stream",
          "name": "stderr",
          "text": [
            "  0%|          | 0/15 [00:00<?, ?it/s]\n"
          ]
        },
        {
          "output_type": "stream",
          "name": "stdout",
          "text": [
            "Train\tLoss: 0.0597,\tTrain\tAcc:97.99\n",
            "Val\tLoss: 1.0901,\tVal\tAcc: 81.25\n",
            "Epoch\t75\tof 100\n",
            "Training\n"
          ]
        },
        {
          "output_type": "stream",
          "name": "stderr",
          "text": [
            "16it [00:08,  1.89it/s]\n"
          ]
        },
        {
          "output_type": "stream",
          "name": "stdout",
          "text": [
            "Validating\n"
          ]
        },
        {
          "output_type": "stream",
          "name": "stderr",
          "text": [
            "  0%|          | 0/15 [00:00<?, ?it/s]\n"
          ]
        },
        {
          "output_type": "stream",
          "name": "stdout",
          "text": [
            "Train\tLoss: 0.0559,\tTrain\tAcc:97.99\n",
            "Val\tLoss: 0.5580,\tVal\tAcc: 90.62\n",
            "Epoch\t76\tof 100\n",
            "Training\n"
          ]
        },
        {
          "output_type": "stream",
          "name": "stderr",
          "text": [
            "16it [00:08,  1.89it/s]\n"
          ]
        },
        {
          "output_type": "stream",
          "name": "stdout",
          "text": [
            "Validating\n"
          ]
        },
        {
          "output_type": "stream",
          "name": "stderr",
          "text": [
            "  0%|          | 0/15 [00:00<?, ?it/s]\n"
          ]
        },
        {
          "output_type": "stream",
          "name": "stdout",
          "text": [
            "Train\tLoss: 0.0271,\tTrain\tAcc:99.20\n",
            "Val\tLoss: 1.1750,\tVal\tAcc: 75.00\n",
            "Epoch\t77\tof 100\n",
            "Training\n"
          ]
        },
        {
          "output_type": "stream",
          "name": "stderr",
          "text": [
            "16it [00:08,  1.89it/s]\n"
          ]
        },
        {
          "output_type": "stream",
          "name": "stdout",
          "text": [
            "Validating\n"
          ]
        },
        {
          "output_type": "stream",
          "name": "stderr",
          "text": [
            "  0%|          | 0/15 [00:00<?, ?it/s]\n"
          ]
        },
        {
          "output_type": "stream",
          "name": "stdout",
          "text": [
            "Train\tLoss: 0.0535,\tTrain\tAcc:98.39\n",
            "Val\tLoss: 1.6074,\tVal\tAcc: 65.62\n",
            "Epoch\t78\tof 100\n",
            "Training\n"
          ]
        },
        {
          "output_type": "stream",
          "name": "stderr",
          "text": [
            "16it [00:08,  1.88it/s]\n"
          ]
        },
        {
          "output_type": "stream",
          "name": "stdout",
          "text": [
            "Validating\n"
          ]
        },
        {
          "output_type": "stream",
          "name": "stderr",
          "text": [
            "  0%|          | 0/15 [00:00<?, ?it/s]\n"
          ]
        },
        {
          "output_type": "stream",
          "name": "stdout",
          "text": [
            "Train\tLoss: 0.1316,\tTrain\tAcc:96.39\n",
            "Val\tLoss: 3.9203,\tVal\tAcc: 53.12\n",
            "Epoch\t79\tof 100\n",
            "Training\n"
          ]
        },
        {
          "output_type": "stream",
          "name": "stderr",
          "text": [
            "16it [00:09,  1.78it/s]\n"
          ]
        },
        {
          "output_type": "stream",
          "name": "stdout",
          "text": [
            "Validating\n"
          ]
        },
        {
          "output_type": "stream",
          "name": "stderr",
          "text": [
            "  0%|          | 0/15 [00:00<?, ?it/s]\n"
          ]
        },
        {
          "output_type": "stream",
          "name": "stdout",
          "text": [
            "Train\tLoss: 0.0860,\tTrain\tAcc:97.39\n",
            "Val\tLoss: 1.0078,\tVal\tAcc: 81.25\n",
            "Epoch\t80\tof 100\n",
            "Training\n"
          ]
        },
        {
          "output_type": "stream",
          "name": "stderr",
          "text": [
            "16it [00:08,  1.89it/s]\n"
          ]
        },
        {
          "output_type": "stream",
          "name": "stdout",
          "text": [
            "Validating\n"
          ]
        },
        {
          "output_type": "stream",
          "name": "stderr",
          "text": [
            "  0%|          | 0/15 [00:00<?, ?it/s]\n"
          ]
        },
        {
          "output_type": "stream",
          "name": "stdout",
          "text": [
            "Train\tLoss: 0.0971,\tTrain\tAcc:97.39\n",
            "Val\tLoss: 1.1071,\tVal\tAcc: 62.50\n",
            "Epoch\t81\tof 100\n",
            "Training\n"
          ]
        },
        {
          "output_type": "stream",
          "name": "stderr",
          "text": [
            "16it [00:08,  1.89it/s]\n"
          ]
        },
        {
          "output_type": "stream",
          "name": "stdout",
          "text": [
            "Validating\n"
          ]
        },
        {
          "output_type": "stream",
          "name": "stderr",
          "text": [
            "  0%|          | 0/15 [00:00<?, ?it/s]\n"
          ]
        },
        {
          "output_type": "stream",
          "name": "stdout",
          "text": [
            "Train\tLoss: 0.0844,\tTrain\tAcc:97.19\n",
            "Val\tLoss: 0.3626,\tVal\tAcc: 84.38\n",
            "Epoch\t82\tof 100\n",
            "Training\n"
          ]
        },
        {
          "output_type": "stream",
          "name": "stderr",
          "text": [
            "16it [00:08,  1.89it/s]\n"
          ]
        },
        {
          "output_type": "stream",
          "name": "stdout",
          "text": [
            "Validating\n"
          ]
        },
        {
          "output_type": "stream",
          "name": "stderr",
          "text": [
            "  0%|          | 0/15 [00:00<?, ?it/s]\n"
          ]
        },
        {
          "output_type": "stream",
          "name": "stdout",
          "text": [
            "Train\tLoss: 0.0455,\tTrain\tAcc:98.39\n",
            "Val\tLoss: 0.6735,\tVal\tAcc: 81.25\n",
            "Epoch\t83\tof 100\n",
            "Training\n"
          ]
        },
        {
          "output_type": "stream",
          "name": "stderr",
          "text": [
            "16it [00:08,  1.90it/s]\n"
          ]
        },
        {
          "output_type": "stream",
          "name": "stdout",
          "text": [
            "Validating\n"
          ]
        },
        {
          "output_type": "stream",
          "name": "stderr",
          "text": [
            "  0%|          | 0/15 [00:00<?, ?it/s]\n"
          ]
        },
        {
          "output_type": "stream",
          "name": "stdout",
          "text": [
            "Train\tLoss: 0.0267,\tTrain\tAcc:99.40\n",
            "Val\tLoss: 1.1575,\tVal\tAcc: 68.75\n",
            "Epoch\t84\tof 100\n",
            "Training\n"
          ]
        },
        {
          "output_type": "stream",
          "name": "stderr",
          "text": [
            "16it [00:08,  1.89it/s]\n"
          ]
        },
        {
          "output_type": "stream",
          "name": "stdout",
          "text": [
            "Validating\n"
          ]
        },
        {
          "output_type": "stream",
          "name": "stderr",
          "text": [
            "  0%|          | 0/15 [00:00<?, ?it/s]\n"
          ]
        },
        {
          "output_type": "stream",
          "name": "stdout",
          "text": [
            "Train\tLoss: 0.0460,\tTrain\tAcc:97.99\n",
            "Val\tLoss: 0.8623,\tVal\tAcc: 78.12\n",
            "Epoch\t85\tof 100\n",
            "Training\n"
          ]
        },
        {
          "output_type": "stream",
          "name": "stderr",
          "text": [
            "16it [00:08,  1.89it/s]\n"
          ]
        },
        {
          "output_type": "stream",
          "name": "stdout",
          "text": [
            "Validating\n"
          ]
        },
        {
          "output_type": "stream",
          "name": "stderr",
          "text": [
            "  0%|          | 0/15 [00:00<?, ?it/s]\n"
          ]
        },
        {
          "output_type": "stream",
          "name": "stdout",
          "text": [
            "Train\tLoss: 0.0293,\tTrain\tAcc:99.20\n",
            "Val\tLoss: 0.7340,\tVal\tAcc: 84.38\n",
            "Epoch\t86\tof 100\n",
            "Training\n"
          ]
        },
        {
          "output_type": "stream",
          "name": "stderr",
          "text": [
            "16it [00:08,  1.89it/s]\n"
          ]
        },
        {
          "output_type": "stream",
          "name": "stdout",
          "text": [
            "Validating\n"
          ]
        },
        {
          "output_type": "stream",
          "name": "stderr",
          "text": [
            "  0%|          | 0/15 [00:00<?, ?it/s]\n"
          ]
        },
        {
          "output_type": "stream",
          "name": "stdout",
          "text": [
            "Train\tLoss: 0.0327,\tTrain\tAcc:98.59\n",
            "Val\tLoss: 1.5516,\tVal\tAcc: 71.88\n",
            "Epoch\t87\tof 100\n",
            "Training\n"
          ]
        },
        {
          "output_type": "stream",
          "name": "stderr",
          "text": [
            "16it [00:08,  1.90it/s]\n"
          ]
        },
        {
          "output_type": "stream",
          "name": "stdout",
          "text": [
            "Validating\n"
          ]
        },
        {
          "output_type": "stream",
          "name": "stderr",
          "text": [
            "  0%|          | 0/15 [00:00<?, ?it/s]\n"
          ]
        },
        {
          "output_type": "stream",
          "name": "stdout",
          "text": [
            "Train\tLoss: 0.0668,\tTrain\tAcc:97.99\n",
            "Val\tLoss: 1.2506,\tVal\tAcc: 75.00\n",
            "Epoch\t88\tof 100\n",
            "Training\n"
          ]
        },
        {
          "output_type": "stream",
          "name": "stderr",
          "text": [
            "16it [00:08,  1.89it/s]\n"
          ]
        },
        {
          "output_type": "stream",
          "name": "stdout",
          "text": [
            "Validating\n"
          ]
        },
        {
          "output_type": "stream",
          "name": "stderr",
          "text": [
            "  0%|          | 0/15 [00:00<?, ?it/s]\n"
          ]
        },
        {
          "output_type": "stream",
          "name": "stdout",
          "text": [
            "Train\tLoss: 0.0628,\tTrain\tAcc:97.79\n",
            "Val\tLoss: 0.2333,\tVal\tAcc: 93.75\n",
            "Epoch\t89\tof 100\n",
            "Training\n"
          ]
        },
        {
          "output_type": "stream",
          "name": "stderr",
          "text": [
            "16it [00:08,  1.88it/s]\n"
          ]
        },
        {
          "output_type": "stream",
          "name": "stdout",
          "text": [
            "Validating\n"
          ]
        },
        {
          "output_type": "stream",
          "name": "stderr",
          "text": [
            "  0%|          | 0/15 [00:00<?, ?it/s]\n"
          ]
        },
        {
          "output_type": "stream",
          "name": "stdout",
          "text": [
            "Train\tLoss: 0.0745,\tTrain\tAcc:97.59\n",
            "Val\tLoss: 1.4118,\tVal\tAcc: 68.75\n",
            "Epoch\t90\tof 100\n",
            "Training\n"
          ]
        },
        {
          "output_type": "stream",
          "name": "stderr",
          "text": [
            "16it [00:08,  1.90it/s]\n"
          ]
        },
        {
          "output_type": "stream",
          "name": "stdout",
          "text": [
            "Validating\n"
          ]
        },
        {
          "output_type": "stream",
          "name": "stderr",
          "text": [
            "  0%|          | 0/15 [00:00<?, ?it/s]\n"
          ]
        },
        {
          "output_type": "stream",
          "name": "stdout",
          "text": [
            "Train\tLoss: 0.0523,\tTrain\tAcc:97.99\n",
            "Val\tLoss: 1.6233,\tVal\tAcc: 65.62\n",
            "Epoch\t91\tof 100\n",
            "Training\n"
          ]
        },
        {
          "output_type": "stream",
          "name": "stderr",
          "text": [
            "16it [00:08,  1.78it/s]\n"
          ]
        },
        {
          "output_type": "stream",
          "name": "stdout",
          "text": [
            "Validating\n"
          ]
        },
        {
          "output_type": "stream",
          "name": "stderr",
          "text": [
            "  0%|          | 0/15 [00:00<?, ?it/s]\n"
          ]
        },
        {
          "output_type": "stream",
          "name": "stdout",
          "text": [
            "Train\tLoss: 0.0417,\tTrain\tAcc:98.39\n",
            "Val\tLoss: 0.8076,\tVal\tAcc: 81.25\n",
            "Epoch\t92\tof 100\n",
            "Training\n"
          ]
        },
        {
          "output_type": "stream",
          "name": "stderr",
          "text": [
            "16it [00:08,  1.90it/s]\n"
          ]
        },
        {
          "output_type": "stream",
          "name": "stdout",
          "text": [
            "Validating\n"
          ]
        },
        {
          "output_type": "stream",
          "name": "stderr",
          "text": [
            "  0%|          | 0/15 [00:00<?, ?it/s]\n"
          ]
        },
        {
          "output_type": "stream",
          "name": "stdout",
          "text": [
            "Train\tLoss: 0.0300,\tTrain\tAcc:98.80\n",
            "Val\tLoss: 1.4359,\tVal\tAcc: 78.12\n",
            "Epoch\t93\tof 100\n",
            "Training\n"
          ]
        },
        {
          "output_type": "stream",
          "name": "stderr",
          "text": [
            "16it [00:08,  1.89it/s]\n"
          ]
        },
        {
          "output_type": "stream",
          "name": "stdout",
          "text": [
            "Validating\n"
          ]
        },
        {
          "output_type": "stream",
          "name": "stderr",
          "text": [
            "  0%|          | 0/15 [00:00<?, ?it/s]\n"
          ]
        },
        {
          "output_type": "stream",
          "name": "stdout",
          "text": [
            "Train\tLoss: 0.0166,\tTrain\tAcc:99.40\n",
            "Val\tLoss: 1.2856,\tVal\tAcc: 78.12\n",
            "Epoch\t94\tof 100\n",
            "Training\n"
          ]
        },
        {
          "output_type": "stream",
          "name": "stderr",
          "text": [
            "16it [00:08,  1.89it/s]\n"
          ]
        },
        {
          "output_type": "stream",
          "name": "stdout",
          "text": [
            "Validating\n"
          ]
        },
        {
          "output_type": "stream",
          "name": "stderr",
          "text": [
            "  0%|          | 0/15 [00:00<?, ?it/s]\n"
          ]
        },
        {
          "output_type": "stream",
          "name": "stdout",
          "text": [
            "Train\tLoss: 0.0194,\tTrain\tAcc:99.20\n",
            "Val\tLoss: 1.1288,\tVal\tAcc: 78.12\n",
            "Epoch\t95\tof 100\n",
            "Training\n"
          ]
        },
        {
          "output_type": "stream",
          "name": "stderr",
          "text": [
            "16it [00:08,  1.89it/s]\n"
          ]
        },
        {
          "output_type": "stream",
          "name": "stdout",
          "text": [
            "Validating\n"
          ]
        },
        {
          "output_type": "stream",
          "name": "stderr",
          "text": [
            "  0%|          | 0/15 [00:00<?, ?it/s]\n"
          ]
        },
        {
          "output_type": "stream",
          "name": "stdout",
          "text": [
            "Train\tLoss: 0.0336,\tTrain\tAcc:98.39\n",
            "Val\tLoss: 1.2281,\tVal\tAcc: 71.88\n",
            "Epoch\t96\tof 100\n",
            "Training\n"
          ]
        },
        {
          "output_type": "stream",
          "name": "stderr",
          "text": [
            "16it [00:08,  1.85it/s]\n"
          ]
        },
        {
          "output_type": "stream",
          "name": "stdout",
          "text": [
            "Validating\n"
          ]
        },
        {
          "output_type": "stream",
          "name": "stderr",
          "text": [
            "  0%|          | 0/15 [00:00<?, ?it/s]\n"
          ]
        },
        {
          "output_type": "stream",
          "name": "stdout",
          "text": [
            "Train\tLoss: 0.0515,\tTrain\tAcc:98.19\n",
            "Val\tLoss: 2.8824,\tVal\tAcc: 56.25\n",
            "Epoch\t97\tof 100\n",
            "Training\n"
          ]
        },
        {
          "output_type": "stream",
          "name": "stderr",
          "text": [
            "16it [00:08,  1.86it/s]\n"
          ]
        },
        {
          "output_type": "stream",
          "name": "stdout",
          "text": [
            "Validating\n"
          ]
        },
        {
          "output_type": "stream",
          "name": "stderr",
          "text": [
            "  0%|          | 0/15 [00:00<?, ?it/s]\n"
          ]
        },
        {
          "output_type": "stream",
          "name": "stdout",
          "text": [
            "Train\tLoss: 0.0258,\tTrain\tAcc:98.80\n",
            "Val\tLoss: 0.6061,\tVal\tAcc: 75.00\n",
            "Epoch\t98\tof 100\n",
            "Training\n"
          ]
        },
        {
          "output_type": "stream",
          "name": "stderr",
          "text": [
            "16it [00:08,  1.89it/s]\n"
          ]
        },
        {
          "output_type": "stream",
          "name": "stdout",
          "text": [
            "Validating\n"
          ]
        },
        {
          "output_type": "stream",
          "name": "stderr",
          "text": [
            "  0%|          | 0/15 [00:00<?, ?it/s]\n"
          ]
        },
        {
          "output_type": "stream",
          "name": "stdout",
          "text": [
            "Train\tLoss: 0.0205,\tTrain\tAcc:99.40\n",
            "Val\tLoss: 0.4496,\tVal\tAcc: 81.25\n",
            "Epoch\t99\tof 100\n",
            "Training\n"
          ]
        },
        {
          "output_type": "stream",
          "name": "stderr",
          "text": [
            "16it [00:08,  1.89it/s]\n"
          ]
        },
        {
          "output_type": "stream",
          "name": "stdout",
          "text": [
            "Validating\n"
          ]
        },
        {
          "output_type": "stream",
          "name": "stderr",
          "text": [
            "  0%|          | 0/15 [00:00<?, ?it/s]\n"
          ]
        },
        {
          "output_type": "stream",
          "name": "stdout",
          "text": [
            "Train\tLoss: 0.0165,\tTrain\tAcc:99.60\n",
            "Val\tLoss: 1.4827,\tVal\tAcc: 78.12\n",
            "Epoch\t100\tof 100\n",
            "Training\n"
          ]
        },
        {
          "output_type": "stream",
          "name": "stderr",
          "text": [
            "16it [00:08,  1.89it/s]\n"
          ]
        },
        {
          "output_type": "stream",
          "name": "stdout",
          "text": [
            "Validating\n"
          ]
        },
        {
          "output_type": "stream",
          "name": "stderr",
          "text": [
            "  0%|          | 0/15 [00:00<?, ?it/s]"
          ]
        },
        {
          "output_type": "stream",
          "name": "stdout",
          "text": [
            "Train\tLoss: 0.0073,\tTrain\tAcc:100.00\n",
            "Val\tLoss: 1.5941,\tVal\tAcc: 71.88\n",
            "Training\ttime:\t17.662\tminutes\n"
          ]
        },
        {
          "output_type": "stream",
          "name": "stderr",
          "text": [
            "\n"
          ]
        }
      ]
    },
    {
      "cell_type": "code",
      "source": [
        "# 코드 8-34\t모델 학습 결과 출력\n",
        "\n",
        "print('Saving\tloss\tand\taccuracy\tplots...')\n",
        "plt.figure(figsize=(10,\t7))\n",
        "plt.plot(train_accuracy, color='green',\tlabel='train\taccuracy')\t#\t훈련\t데이터셋에\t대한 오차를\t그래프로\t출력\n",
        "plt.plot(val_accuracy,\tcolor='blue',\tlabel='validation\taccuracy')\t#\t검증 데이터셋에 대한 정확도를\t그래프로\t출력\t\t\n",
        "plt.xlabel('Epochs')\n",
        "plt.ylabel('Accuracy')\n",
        "plt.legend()\n",
        "plt.savefig(f\"/content/drive/MyDrive/Colab Notebooks/chab08/img/{acc_plot_name}.png\")\n",
        "plt.show()\n",
        "plt.figure(figsize=(10,\t7))\n",
        "plt.plot(train_loss,\tcolor='orange',\tlabel='train\tloss')\t#훈련\t데이터셋에\t대한\t정확도를\t그래프로\t출력\n",
        "plt.plot(val_loss,\tcolor='red',\tlabel='validation\tloss')\t#검증\t데이터셋에\t대한\t오차를\t그래프로\t출력\n",
        "plt.xlabel('Epochs')\n",
        "plt.ylabel('Loss')\n",
        "plt.legend()\n",
        "plt.savefig(f\"/content/drive/MyDrive/Colab Notebooks/chab08/img/{loss_plot_name}.png\")\n",
        "plt.show()\n",
        "print('Saving\tmodel...')\n",
        "torch.save(model.state_dict(),\tf\"/content/drive/MyDrive/Colab Notebooks/chab08/img/{model_name}.pth\")\t#\t모델을 저장\n",
        "print('TRAINING\tCOMPLETE')\n"
      ],
      "metadata": {
        "id": "VGxZbaH-qrZM",
        "colab": {
          "base_uri": "https://localhost:8080/",
          "height": 1000
        },
        "outputId": "dbdf5c6e-1372-4575-e06a-fe86fbe58de8"
      },
      "execution_count": 55,
      "outputs": [
        {
          "output_type": "stream",
          "name": "stdout",
          "text": [
            "Saving\tloss\tand\taccuracy\tplots...\n"
          ]
        },
        {
          "output_type": "stream",
          "name": "stderr",
          "text": [
            "/usr/local/lib/python3.7/dist-packages/matplotlib/backends/backend_agg.py:214: RuntimeWarning: Glyph 9 missing from current font.\n",
            "  font.set_text(s, 0.0, flags=flags)\n",
            "/usr/local/lib/python3.7/dist-packages/matplotlib/backends/backend_agg.py:183: RuntimeWarning: Glyph 9 missing from current font.\n",
            "  font.set_text(s, 0, flags=flags)\n"
          ]
        },
        {
          "output_type": "display_data",
          "data": {
            "text/plain": [
              "<Figure size 720x504 with 1 Axes>"
            ],
            "image/png": "[encoded data removed]"
          },
          "metadata": {}
        },
        {
          "output_type": "display_data",
          "data": {
            "text/plain": [
              "<Figure size 720x504 with 1 Axes>"
            ],
            "image/png": "[encoded data removed]"
          },
          "metadata": {}
        },
        {
          "output_type": "stream",
          "name": "stdout",
          "text": [
            "Saving\tmodel...\n",
            "TRAINING\tCOMPLETE\n"
          ]
        }
      ]
    },
    {
      "cell_type": "code",
      "source": [
        ""
      ],
      "metadata": {
        "id": "5DxC7TVuqtJu"
      },
      "execution_count": null,
      "outputs": []
    }
  ]
}