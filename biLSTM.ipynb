{
  "nbformat": 4,
  "nbformat_minor": 0,
  "metadata": {
    "colab": {
      "name": "biLSTM",
      "provenance": [],
      "collapsed_sections": [],
      "authorship_tag": "ABX9TyOvm0taKyzFyYZObt2gEHe8",
      "include_colab_link": true
    },
    "kernelspec": {
      "name": "python3",
      "display_name": "Python 3"
    },
    "language_info": {
      "name": "python"
    },
    "accelerator": "GPU",
    "gpuClass": "standard"
  },
  "cells": [
    {
      "cell_type": "markdown",
      "metadata": {
        "id": "view-in-github",
        "colab_type": "text"
      },
      "source": [
        "<a href=\"https://colab.research.google.com/github/yyWnnaa/HelloWorld/blob/main/biLSTM.ipynb\" target=\"_parent\"><img src=\"https://colab.research.google.com/assets/colab-badge.svg\" alt=\"Open In Colab\"/></a>"
      ]
    },
    {
      "cell_type": "code",
      "execution_count": 1,
      "metadata": {
        "colab": {
          "base_uri": "https://localhost:8080/"
        },
        "id": "m8gABg0HlaWE",
        "outputId": "74470995-c6b9-4a8a-cc84-278283fddc69"
      },
      "outputs": [
        {
          "output_type": "stream",
          "name": "stdout",
          "text": [
            "Looking in indexes: https://pypi.org/simple, https://us-python.pkg.dev/colab-wheels/public/simple/\n",
            "Collecting pyupbit\n",
            "  Downloading pyupbit-0.2.33-py3-none-any.whl (24 kB)\n",
            "Collecting websockets\n",
            "  Downloading websockets-10.3-cp37-cp37m-manylinux_2_5_x86_64.manylinux1_x86_64.manylinux_2_12_x86_64.manylinux2010_x86_64.whl (112 kB)\n",
            "\u001b[K     |████████████████████████████████| 112 kB 39.8 MB/s \n",
            "\u001b[?25hRequirement already satisfied: pandas in /usr/local/lib/python3.7/dist-packages (from pyupbit) (1.3.5)\n",
            "Requirement already satisfied: requests in /usr/local/lib/python3.7/dist-packages (from pyupbit) (2.23.0)\n",
            "Collecting pyjwt>=2.0.0\n",
            "  Downloading PyJWT-2.4.0-py3-none-any.whl (18 kB)\n",
            "Requirement already satisfied: python-dateutil>=2.7.3 in /usr/local/lib/python3.7/dist-packages (from pandas->pyupbit) (2.8.2)\n",
            "Requirement already satisfied: numpy>=1.17.3 in /usr/local/lib/python3.7/dist-packages (from pandas->pyupbit) (1.21.6)\n",
            "Requirement already satisfied: pytz>=2017.3 in /usr/local/lib/python3.7/dist-packages (from pandas->pyupbit) (2022.1)\n",
            "Requirement already satisfied: six>=1.5 in /usr/local/lib/python3.7/dist-packages (from python-dateutil>=2.7.3->pandas->pyupbit) (1.15.0)\n",
            "Requirement already satisfied: certifi>=2017.4.17 in /usr/local/lib/python3.7/dist-packages (from requests->pyupbit) (2022.6.15)\n",
            "Requirement already satisfied: urllib3!=1.25.0,!=1.25.1,<1.26,>=1.21.1 in /usr/local/lib/python3.7/dist-packages (from requests->pyupbit) (1.24.3)\n",
            "Requirement already satisfied: chardet<4,>=3.0.2 in /usr/local/lib/python3.7/dist-packages (from requests->pyupbit) (3.0.4)\n",
            "Requirement already satisfied: idna<3,>=2.5 in /usr/local/lib/python3.7/dist-packages (from requests->pyupbit) (2.10)\n",
            "Installing collected packages: websockets, pyjwt, pyupbit\n",
            "Successfully installed pyjwt-2.4.0 pyupbit-0.2.33 websockets-10.3\n"
          ]
        }
      ],
      "source": [
        "pip install pyupbit"
      ]
    },
    {
      "cell_type": "code",
      "source": [
        "import numpy as np\n",
        "import pandas as pd\n",
        "\n",
        "# 파이토치 라이브러리 호출\n",
        "import torch \n",
        "import matplotlib.pyplot as plt \n",
        "\n",
        "import torchvision \n",
        "import torchvision.transforms as transforms \n",
        "\n",
        "import torch.nn as nn \n",
        "import torch.optim as optim\n",
        "\n",
        "#\n",
        "import pandas_datareader.data as pdr\n",
        "import matplotlib.pyplot as plt\n",
        "\n",
        "import datetime\n",
        "\n",
        "from torch.autograd import Variable \n",
        "\n",
        "from torch.utils.data import Dataset, DataLoader"
      ],
      "metadata": {
        "id": "Om_ZIpVrle77"
      },
      "execution_count": 2,
      "outputs": []
    },
    {
      "cell_type": "code",
      "source": [
        "#데이터 불러오기\n",
        "\n",
        "import pyupbit\n",
        "from pyupbit.quotation_api import get_tickers\n",
        "\n",
        "ETH_price = pyupbit.get_current_price(\"KRW-ETH\")\n",
        "\n",
        "df_ETH = pyupbit.get_ohlcv(\"KRW-ETH\",\"hour\",1581, to = '20220501')\n",
        "#220501까지 1581일\n",
        "#pyupbit.get_ohlcv로 받으면 open, high, low, close, volume거래량, value가 기본으로 있는건지? ->맞는듯\n",
        "\n",
        "print(df_ETH)"
      ],
      "metadata": {
        "colab": {
          "base_uri": "https://localhost:8080/"
        },
        "id": "6oYokE4HlfL3",
        "outputId": "af96b1fe-24f8-4c74-a7ea-776627128da6"
      },
      "execution_count": 3,
      "outputs": [
        {
          "output_type": "stream",
          "name": "stdout",
          "text": [
            "                          open       high        low      close  \\\n",
            "2018-01-01 09:00:00  1028000.0  1076000.0  1011500.0  1057000.0   \n",
            "2018-01-02 09:00:00  1056500.0  1270500.0  1051000.0  1177000.0   \n",
            "2018-01-03 09:00:00  1177000.0  1324500.0  1157500.0  1295500.0   \n",
            "2018-01-04 09:00:00  1295500.0  1518000.0  1269000.0  1439500.0   \n",
            "2018-01-05 09:00:00  1439500.0  1645000.0  1406500.0  1554500.0   \n",
            "...                        ...        ...        ...        ...   \n",
            "2022-04-26 09:00:00  3766000.0  3799000.0  3553000.0  3596000.0   \n",
            "2022-04-27 09:00:00  3597000.0  3702000.0  3580000.0  3677000.0   \n",
            "2022-04-28 09:00:00  3677000.0  3786000.0  3646000.0  3737000.0   \n",
            "2022-04-29 09:00:00  3737000.0  3753000.0  3603000.0  3628000.0   \n",
            "2022-04-30 09:00:00  3630000.0  3656000.0  3564000.0  3570000.0   \n",
            "\n",
            "                            volume         value  \n",
            "2018-01-01 09:00:00   51315.571156  5.381793e+10  \n",
            "2018-01-02 09:00:00  158481.289301  1.886397e+11  \n",
            "2018-01-03 09:00:00   83430.944304  1.009922e+11  \n",
            "2018-01-04 09:00:00   97018.955981  1.346634e+11  \n",
            "2018-01-05 09:00:00  109665.854669  1.683409e+11  \n",
            "...                            ...           ...  \n",
            "2022-04-26 09:00:00   39317.760548  1.449032e+11  \n",
            "2022-04-27 09:00:00   24282.807473  8.854883e+10  \n",
            "2022-04-28 09:00:00   26791.875509  9.942653e+10  \n",
            "2022-04-29 09:00:00   26801.567048  9.839410e+10  \n",
            "2022-04-30 09:00:00   17625.435214  6.378125e+10  \n",
            "\n",
            "[1581 rows x 6 columns]\n"
          ]
        }
      ]
    },
    {
      "cell_type": "code",
      "source": [
        "df_ETH = df_ETH.drop(\"value\",axis=1)\n",
        "#value는 학습에 쓰는 일이 없어서 먼저 제외\n",
        "\n",
        "df_ETH = df_ETH.drop(columns='volume')\n",
        "#이렇게도 삭제 가능\n",
        "\n",
        "print(df_ETH)"
      ],
      "metadata": {
        "colab": {
          "base_uri": "https://localhost:8080/"
        },
        "id": "4stVUApGlo9u",
        "outputId": "dd6f8bde-34b2-4bb9-b47e-997ef28d3896"
      },
      "execution_count": 4,
      "outputs": [
        {
          "output_type": "stream",
          "name": "stdout",
          "text": [
            "                          open       high        low      close\n",
            "2018-01-01 09:00:00  1028000.0  1076000.0  1011500.0  1057000.0\n",
            "2018-01-02 09:00:00  1056500.0  1270500.0  1051000.0  1177000.0\n",
            "2018-01-03 09:00:00  1177000.0  1324500.0  1157500.0  1295500.0\n",
            "2018-01-04 09:00:00  1295500.0  1518000.0  1269000.0  1439500.0\n",
            "2018-01-05 09:00:00  1439500.0  1645000.0  1406500.0  1554500.0\n",
            "...                        ...        ...        ...        ...\n",
            "2022-04-26 09:00:00  3766000.0  3799000.0  3553000.0  3596000.0\n",
            "2022-04-27 09:00:00  3597000.0  3702000.0  3580000.0  3677000.0\n",
            "2022-04-28 09:00:00  3677000.0  3786000.0  3646000.0  3737000.0\n",
            "2022-04-29 09:00:00  3737000.0  3753000.0  3603000.0  3628000.0\n",
            "2022-04-30 09:00:00  3630000.0  3656000.0  3564000.0  3570000.0\n",
            "\n",
            "[1581 rows x 4 columns]\n"
          ]
        }
      ]
    },
    {
      "cell_type": "code",
      "source": [
        "print(df_ETH.dtypes)"
      ],
      "metadata": {
        "colab": {
          "base_uri": "https://localhost:8080/"
        },
        "id": "tQPMAP_Al0a_",
        "outputId": "d0c12c11-62c0-4d1e-8e7b-af5960a647d5"
      },
      "execution_count": 5,
      "outputs": [
        {
          "output_type": "stream",
          "name": "stdout",
          "text": [
            "open     float64\n",
            "high     float64\n",
            "low      float64\n",
            "close    float64\n",
            "dtype: object\n"
          ]
        }
      ]
    },
    {
      "cell_type": "code",
      "source": [
        "#결측치 확인\n",
        "df_ETH.isnull().sum()"
      ],
      "metadata": {
        "colab": {
          "base_uri": "https://localhost:8080/"
        },
        "id": "Le8Z6mIpl2V3",
        "outputId": "135db74e-4910-4fd9-8b9b-3339fd050795"
      },
      "execution_count": 6,
      "outputs": [
        {
          "output_type": "execute_result",
          "data": {
            "text/plain": [
              "open     0\n",
              "high     0\n",
              "low      0\n",
              "close    0\n",
              "dtype: int64"
            ]
          },
          "metadata": {},
          "execution_count": 6
        }
      ]
    },
    {
      "cell_type": "code",
      "source": [
        "X = df_ETH\n",
        "y = df_ETH.iloc[:, 3:4]\n",
        "#Pandas : iloc[] 를 활용한 인덱싱\n",
        "\n",
        "print(X)\n",
        "print(y)"
      ],
      "metadata": {
        "colab": {
          "base_uri": "https://localhost:8080/"
        },
        "id": "9f2t-iftl4dH",
        "outputId": "3424b6fe-a447-483c-952a-581246659e9f"
      },
      "execution_count": 7,
      "outputs": [
        {
          "output_type": "stream",
          "name": "stdout",
          "text": [
            "                          open       high        low      close\n",
            "2018-01-01 09:00:00  1028000.0  1076000.0  1011500.0  1057000.0\n",
            "2018-01-02 09:00:00  1056500.0  1270500.0  1051000.0  1177000.0\n",
            "2018-01-03 09:00:00  1177000.0  1324500.0  1157500.0  1295500.0\n",
            "2018-01-04 09:00:00  1295500.0  1518000.0  1269000.0  1439500.0\n",
            "2018-01-05 09:00:00  1439500.0  1645000.0  1406500.0  1554500.0\n",
            "...                        ...        ...        ...        ...\n",
            "2022-04-26 09:00:00  3766000.0  3799000.0  3553000.0  3596000.0\n",
            "2022-04-27 09:00:00  3597000.0  3702000.0  3580000.0  3677000.0\n",
            "2022-04-28 09:00:00  3677000.0  3786000.0  3646000.0  3737000.0\n",
            "2022-04-29 09:00:00  3737000.0  3753000.0  3603000.0  3628000.0\n",
            "2022-04-30 09:00:00  3630000.0  3656000.0  3564000.0  3570000.0\n",
            "\n",
            "[1581 rows x 4 columns]\n",
            "                         close\n",
            "2018-01-01 09:00:00  1057000.0\n",
            "2018-01-02 09:00:00  1177000.0\n",
            "2018-01-03 09:00:00  1295500.0\n",
            "2018-01-04 09:00:00  1439500.0\n",
            "2018-01-05 09:00:00  1554500.0\n",
            "...                        ...\n",
            "2022-04-26 09:00:00  3596000.0\n",
            "2022-04-27 09:00:00  3677000.0\n",
            "2022-04-28 09:00:00  3737000.0\n",
            "2022-04-29 09:00:00  3628000.0\n",
            "2022-04-30 09:00:00  3570000.0\n",
            "\n",
            "[1581 rows x 1 columns]\n"
          ]
        }
      ]
    },
    {
      "cell_type": "code",
      "source": [
        "#데이터 정규화\n",
        "\"\"\"\n",
        "학습이 잘되기 위해 데이터 정규화 \n",
        "StandardScaler\t각 특징의 평균을 0, 분산을 1이 되도록 변경\n",
        "MinMaxScaler\t최대/최소값이 각각 1, 0이 되도록 변경\n",
        "\"\"\"\n",
        "\n",
        "#결과 예측할것에 minmax 쓰는건 대부분 다 똑같아보이는데\n",
        "# StandardScaler 사용에 대해서는 생각해봐야할듯하네요\n",
        "from sklearn.preprocessing import StandardScaler, MinMaxScaler\n",
        "mmsc = MinMaxScaler()\n",
        "stdsc = StandardScaler()\n",
        "\n",
        "X_std = stdsc.fit_transform(X)\n",
        "#X_std = mmsc.fit_transform(X)\n",
        "y_mm = mmsc.fit_transform(y) \n",
        "\n",
        "#SEQUECNE TO SEQUENCE 예제에서 대부분 잘못 알고 계시는것이, Y데이터를 정규화 하고 있다는 것입니다.\n",
        "#이렇게 된다면 해당 NETWORK는 훈련 검증 테스트 셋에서만 유용한 모델이 되어 버립니다. \n",
        "#실제로 우리가 예측하고자 하는 것은 모르는 값일텐데 YEST를 정규화 해버리면 \n",
        "#이를 DENORMALIZATION해주기 위해 평균과 분산을 훈련셋에서 알아내야 됩니다. \n",
        "#그런데 우리가 알고자 하는건 이미 훈련은 다 마친 NETWORK로 YTEST를 예측하기를 원하는 것이죠, \n",
        "#그런데 YTEST에 사용될 평균과 표준편차 또는 민맥스 값을 어떻게 알수 있을가요?? 전혀 알수가없겠죠. \n",
        "#따라서 수치형 데이터를 이용해 network를 구성함에 있어서 Y데이터를 정규화 하는것은 잘못된 방법입니다. \n",
        "#간혹 Y데이터를 정규화하는 예제가 있지만 이는 학습률을 매우 좋게 하기위한 트릭이지 잘못된 방법입니다. \n",
        "#추가로 범주형 데이터에서는 정규화에 대한 걱정도 하지 않겠지요 인코딩이라는 좋은 방법이 있기 때문에 \n",
        "#결론적으로 Y데이터에는 어떠한 정규화도 해서는 안됩니다."
      ],
      "metadata": {
        "id": "HDhap0a8l9U4"
      },
      "execution_count": 8,
      "outputs": []
    },
    {
      "cell_type": "code",
      "source": [
        "X_train = X_std[:1200, :] #훈련 데이터셋\n",
        "X_test = X_std[1200:, :] #테스트 데이터셋\n",
        "\n",
        "# Test Data \n",
        "y_train = y_mm[:1200, :]\n",
        "y_test = y_mm[1200:, :] \n",
        "\n",
        "print(\"Training Shape\", X_train.shape, y_train.shape)\n",
        "print(\"Testing Shape\", X_test.shape, y_test.shape) \n",
        "\n",
        "\n",
        "#결과\n",
        "#Training Shape (1200, 4) (1200, 1)\n",
        "#Testing Shape (381, 4) (381, 1)"
      ],
      "metadata": {
        "colab": {
          "base_uri": "https://localhost:8080/"
        },
        "id": "TeulJLzll-b8",
        "outputId": "3d7e54ef-00f3-4278-b4f3-26d0b2778d35"
      },
      "execution_count": 9,
      "outputs": [
        {
          "output_type": "stream",
          "name": "stdout",
          "text": [
            "Training Shape (1200, 4) (1200, 1)\n",
            "Testing Shape (381, 4) (381, 1)\n"
          ]
        }
      ]
    },
    {
      "cell_type": "code",
      "source": [
        "X_train_tensors = Variable(torch.Tensor(X_train))\n",
        "X_test_tensors = Variable(torch.Tensor(X_test))\n",
        "\n",
        "y_train_tensors = Variable(torch.Tensor(y_train))\n",
        "y_test_tensors = Variable(torch.Tensor(y_test))\n",
        "\n",
        "X_train_tensors_f = torch.reshape(X_train_tensors,   (X_train_tensors.shape[0], 1, X_train_tensors.shape[1]))\n",
        "X_test_tensors_f = torch.reshape(X_test_tensors,  (X_test_tensors.shape[0], 1, X_test_tensors.shape[1])) \n",
        "\n",
        "print(\"Training Shape\", X_train_tensors_f.shape, y_train_tensors.shape)\n",
        "print(\"Testing Shape\", X_test_tensors_f.shape, y_test_tensors.shape) "
      ],
      "metadata": {
        "colab": {
          "base_uri": "https://localhost:8080/"
        },
        "id": "ob3yuISgmA-Q",
        "outputId": "844c72c2-84b5-4d28-aca2-347a8c85ac9b"
      },
      "execution_count": 10,
      "outputs": [
        {
          "output_type": "stream",
          "name": "stdout",
          "text": [
            "Training Shape torch.Size([1200, 1, 4]) torch.Size([1200, 1])\n",
            "Testing Shape torch.Size([381, 1, 4]) torch.Size([381, 1])\n"
          ]
        }
      ]
    },
    {
      "cell_type": "code",
      "source": [
        "#GPU 준비하기\n",
        "\n",
        "device = torch.device(\"cuda:0\" if torch.cuda.is_available() else \"cpu\")  # device\n",
        "#cuda = True if torch.cuda.is_available() else False\n",
        "\n",
        "#Tensor = torch.cuda.FloatTensor if cuda else torch.FloatTensor"
      ],
      "metadata": {
        "id": "N7TOdwcFmFU-"
      },
      "execution_count": 11,
      "outputs": []
    },
    {
      "cell_type": "code",
      "source": [
        "class biLSTM(nn.Module):\n",
        "    def __init__(self, num_classes, input_size, hidden_size, num_layers, seq_length):\n",
        "        super(biLSTM, self).__init__()\n",
        "        self.num_classes = num_classes \n",
        "        self.num_layers = num_layers \n",
        "        self.input_size = input_size \n",
        "        self.hidden_size = hidden_size \n",
        "        self.seq_length = seq_length \n",
        "\n",
        "        self.lstm = nn.LSTM(input_size=input_size, hidden_size=hidden_size,\n",
        "                          num_layers=num_layers, bidirectional=True, batch_first=True) \n",
        "        #LSTM 계층을 정의하는 부분(nn.LSTM)에 bidirectional=True 옵션을 사용하면 양방향 LSTM을 사용하겠다는 의미\n",
        "        #이와 같이 양방향 LSTM은 옵션 변경만으로 손쉽게 구현 가능\n",
        "        #bidirectional=True 옵션은 양방향 RNN,양방향 GRU 모두에 해당됨\n",
        "\n",
        "        self.fc =  nn.Linear(hidden_size*2, num_classes) \n",
        "        #한 번 학습하는데 두 개의 계층이 필요하기 때문에 LSTM과는 다르게 은닉상태, 셀 상태에 2를 곱하고 마지막 출력층에도 2를 곱해야한다\n",
        "        self.relu = nn.ReLU()\n",
        "    \n",
        "    def forward(self,x):\n",
        "        h_0 = Variable(torch.zeros(self.num_layers*2, x.size(0), self.hidden_size)) \n",
        "        c_0 = Variable(torch.zeros(self.num_layers*2, x.size(0), self.hidden_size))                 \n",
        "        out, _ = self.lstm(x, (h_0, c_0)) \n",
        "        out = self.fc(out[:, -1, :])    #마지막 시간(time\tstep상 마지막 단계)의 은닉 상태     \n",
        "        out = self.relu(out)\n",
        "        return out"
      ],
      "metadata": {
        "id": "d9dIHUn4mNtE"
      },
      "execution_count": 12,
      "outputs": []
    },
    {
      "cell_type": "code",
      "source": [
        "#네트워크 파라미터 구성하기 \n",
        "\n",
        "num_epochs = 30000 #에포크 수\n",
        "learning_rate = 0.00001 #학습률 지정\n",
        "\n",
        "input_size = 4 #number of features #수정하면서 하기 #입력 데이터셋의 칼럼(feature)개수\n",
        "hidden_size = 100 #number of features in hidden state #은닉층의 뉴런/유닛 개수\n",
        "num_layers = 1 #LSTM 계층의 개수\n",
        "\n",
        "num_classes = 1 #number of output classes #클래스 개수\n",
        "\n",
        "model = biLSTM(num_classes, input_size, hidden_size, num_layers, X_train_tensors_f.shape[1]) \n",
        "\n",
        "criterion = torch.nn.MSELoss()    \n",
        "optimizer = torch.optim.Adam(model.parameters(), lr=learning_rate) "
      ],
      "metadata": {
        "id": "tpMVY1fCmWdG"
      },
      "execution_count": 17,
      "outputs": []
    },
    {
      "cell_type": "code",
      "source": [
        "for epoch in range(num_epochs):\n",
        "    outputs = model.forward(X_train_tensors_f) \n",
        "    optimizer.zero_grad()  \n",
        "    loss = criterion(outputs, y_train_tensors)\n",
        "    loss.backward() \n",
        " \n",
        "    optimizer.step() \n",
        "    if epoch % 100 == 0:\n",
        "        print(\"Epoch: %d, loss: %1.5f\" % (epoch, loss.item())) "
      ],
      "metadata": {
        "colab": {
          "base_uri": "https://localhost:8080/"
        },
        "id": "sUuj2ieymfU4",
        "outputId": "ae08c70c-5b1c-48ee-8ba5-b2a565b65758"
      },
      "execution_count": 18,
      "outputs": [
        {
          "output_type": "stream",
          "name": "stdout",
          "text": [
            "Epoch: 0, loss: 0.01010\n",
            "Epoch: 100, loss: 0.00925\n",
            "Epoch: 200, loss: 0.00846\n",
            "Epoch: 300, loss: 0.00772\n",
            "Epoch: 400, loss: 0.00703\n",
            "Epoch: 500, loss: 0.00638\n",
            "Epoch: 600, loss: 0.00577\n",
            "Epoch: 700, loss: 0.00519\n",
            "Epoch: 800, loss: 0.00465\n",
            "Epoch: 900, loss: 0.00414\n",
            "Epoch: 1000, loss: 0.00366\n",
            "Epoch: 1100, loss: 0.00322\n",
            "Epoch: 1200, loss: 0.00281\n",
            "Epoch: 1300, loss: 0.00244\n",
            "Epoch: 1400, loss: 0.00209\n",
            "Epoch: 1500, loss: 0.00178\n",
            "Epoch: 1600, loss: 0.00150\n",
            "Epoch: 1700, loss: 0.00125\n",
            "Epoch: 1800, loss: 0.00103\n",
            "Epoch: 1900, loss: 0.00084\n",
            "Epoch: 2000, loss: 0.00067\n",
            "Epoch: 2100, loss: 0.00053\n",
            "Epoch: 2200, loss: 0.00042\n",
            "Epoch: 2300, loss: 0.00032\n",
            "Epoch: 2400, loss: 0.00024\n",
            "Epoch: 2500, loss: 0.00018\n",
            "Epoch: 2600, loss: 0.00014\n",
            "Epoch: 2700, loss: 0.00010\n",
            "Epoch: 2800, loss: 0.00008\n",
            "Epoch: 2900, loss: 0.00006\n",
            "Epoch: 3000, loss: 0.00004\n",
            "Epoch: 3100, loss: 0.00003\n",
            "Epoch: 3200, loss: 0.00003\n",
            "Epoch: 3300, loss: 0.00002\n",
            "Epoch: 3400, loss: 0.00002\n",
            "Epoch: 3500, loss: 0.00002\n",
            "Epoch: 3600, loss: 0.00002\n",
            "Epoch: 3700, loss: 0.00002\n",
            "Epoch: 3800, loss: 0.00002\n",
            "Epoch: 3900, loss: 0.00002\n",
            "Epoch: 4000, loss: 0.00002\n",
            "Epoch: 4100, loss: 0.00002\n",
            "Epoch: 4200, loss: 0.00002\n",
            "Epoch: 4300, loss: 0.00002\n",
            "Epoch: 4400, loss: 0.00002\n",
            "Epoch: 4500, loss: 0.00002\n",
            "Epoch: 4600, loss: 0.00002\n",
            "Epoch: 4700, loss: 0.00002\n",
            "Epoch: 4800, loss: 0.00002\n",
            "Epoch: 4900, loss: 0.00002\n",
            "Epoch: 5000, loss: 0.00002\n",
            "Epoch: 5100, loss: 0.00002\n",
            "Epoch: 5200, loss: 0.00002\n",
            "Epoch: 5300, loss: 0.00001\n",
            "Epoch: 5400, loss: 0.00001\n",
            "Epoch: 5500, loss: 0.00001\n",
            "Epoch: 5600, loss: 0.00001\n",
            "Epoch: 5700, loss: 0.00001\n",
            "Epoch: 5800, loss: 0.00001\n",
            "Epoch: 5900, loss: 0.00001\n",
            "Epoch: 6000, loss: 0.00001\n",
            "Epoch: 6100, loss: 0.00001\n",
            "Epoch: 6200, loss: 0.00001\n",
            "Epoch: 6300, loss: 0.00001\n",
            "Epoch: 6400, loss: 0.00001\n",
            "Epoch: 6500, loss: 0.00001\n",
            "Epoch: 6600, loss: 0.00001\n",
            "Epoch: 6700, loss: 0.00001\n",
            "Epoch: 6800, loss: 0.00001\n",
            "Epoch: 6900, loss: 0.00001\n",
            "Epoch: 7000, loss: 0.00001\n",
            "Epoch: 7100, loss: 0.00001\n",
            "Epoch: 7200, loss: 0.00001\n",
            "Epoch: 7300, loss: 0.00001\n",
            "Epoch: 7400, loss: 0.00001\n",
            "Epoch: 7500, loss: 0.00001\n",
            "Epoch: 7600, loss: 0.00001\n",
            "Epoch: 7700, loss: 0.00001\n",
            "Epoch: 7800, loss: 0.00001\n",
            "Epoch: 7900, loss: 0.00001\n",
            "Epoch: 8000, loss: 0.00001\n",
            "Epoch: 8100, loss: 0.00001\n",
            "Epoch: 8200, loss: 0.00001\n",
            "Epoch: 8300, loss: 0.00001\n",
            "Epoch: 8400, loss: 0.00001\n",
            "Epoch: 8500, loss: 0.00001\n",
            "Epoch: 8600, loss: 0.00001\n",
            "Epoch: 8700, loss: 0.00001\n",
            "Epoch: 8800, loss: 0.00001\n",
            "Epoch: 8900, loss: 0.00001\n",
            "Epoch: 9000, loss: 0.00001\n",
            "Epoch: 9100, loss: 0.00001\n",
            "Epoch: 9200, loss: 0.00001\n",
            "Epoch: 9300, loss: 0.00001\n",
            "Epoch: 9400, loss: 0.00001\n",
            "Epoch: 9500, loss: 0.00001\n",
            "Epoch: 9600, loss: 0.00001\n",
            "Epoch: 9700, loss: 0.00001\n",
            "Epoch: 9800, loss: 0.00001\n",
            "Epoch: 9900, loss: 0.00001\n",
            "Epoch: 10000, loss: 0.00001\n",
            "Epoch: 10100, loss: 0.00001\n",
            "Epoch: 10200, loss: 0.00001\n",
            "Epoch: 10300, loss: 0.00001\n",
            "Epoch: 10400, loss: 0.00000\n",
            "Epoch: 10500, loss: 0.00000\n",
            "Epoch: 10600, loss: 0.00000\n",
            "Epoch: 10700, loss: 0.00000\n",
            "Epoch: 10800, loss: 0.00000\n",
            "Epoch: 10900, loss: 0.00000\n",
            "Epoch: 11000, loss: 0.00000\n",
            "Epoch: 11100, loss: 0.00000\n",
            "Epoch: 11200, loss: 0.00000\n",
            "Epoch: 11300, loss: 0.00000\n",
            "Epoch: 11400, loss: 0.00000\n",
            "Epoch: 11500, loss: 0.00000\n",
            "Epoch: 11600, loss: 0.00000\n",
            "Epoch: 11700, loss: 0.00000\n",
            "Epoch: 11800, loss: 0.00000\n",
            "Epoch: 11900, loss: 0.00000\n",
            "Epoch: 12000, loss: 0.00000\n",
            "Epoch: 12100, loss: 0.00000\n",
            "Epoch: 12200, loss: 0.00000\n",
            "Epoch: 12300, loss: 0.00000\n",
            "Epoch: 12400, loss: 0.00000\n",
            "Epoch: 12500, loss: 0.00000\n",
            "Epoch: 12600, loss: 0.00000\n",
            "Epoch: 12700, loss: 0.00000\n",
            "Epoch: 12800, loss: 0.00000\n",
            "Epoch: 12900, loss: 0.00000\n",
            "Epoch: 13000, loss: 0.00000\n",
            "Epoch: 13100, loss: 0.00000\n",
            "Epoch: 13200, loss: 0.00000\n",
            "Epoch: 13300, loss: 0.00000\n",
            "Epoch: 13400, loss: 0.00000\n",
            "Epoch: 13500, loss: 0.00000\n",
            "Epoch: 13600, loss: 0.00000\n",
            "Epoch: 13700, loss: 0.00000\n",
            "Epoch: 13800, loss: 0.00000\n",
            "Epoch: 13900, loss: 0.00000\n",
            "Epoch: 14000, loss: 0.00000\n",
            "Epoch: 14100, loss: 0.00000\n",
            "Epoch: 14200, loss: 0.00000\n",
            "Epoch: 14300, loss: 0.00000\n",
            "Epoch: 14400, loss: 0.00000\n",
            "Epoch: 14500, loss: 0.00000\n",
            "Epoch: 14600, loss: 0.00000\n",
            "Epoch: 14700, loss: 0.00000\n",
            "Epoch: 14800, loss: 0.00000\n",
            "Epoch: 14900, loss: 0.00000\n",
            "Epoch: 15000, loss: 0.00000\n",
            "Epoch: 15100, loss: 0.00000\n",
            "Epoch: 15200, loss: 0.00000\n",
            "Epoch: 15300, loss: 0.00000\n",
            "Epoch: 15400, loss: 0.00000\n",
            "Epoch: 15500, loss: 0.00000\n",
            "Epoch: 15600, loss: 0.00000\n",
            "Epoch: 15700, loss: 0.00000\n",
            "Epoch: 15800, loss: 0.00000\n",
            "Epoch: 15900, loss: 0.00000\n",
            "Epoch: 16000, loss: 0.00000\n",
            "Epoch: 16100, loss: 0.00000\n",
            "Epoch: 16200, loss: 0.00000\n",
            "Epoch: 16300, loss: 0.00000\n",
            "Epoch: 16400, loss: 0.00000\n",
            "Epoch: 16500, loss: 0.00000\n",
            "Epoch: 16600, loss: 0.00000\n",
            "Epoch: 16700, loss: 0.00000\n",
            "Epoch: 16800, loss: 0.00000\n",
            "Epoch: 16900, loss: 0.00000\n",
            "Epoch: 17000, loss: 0.00000\n",
            "Epoch: 17100, loss: 0.00000\n",
            "Epoch: 17200, loss: 0.00000\n",
            "Epoch: 17300, loss: 0.00000\n",
            "Epoch: 17400, loss: 0.00000\n",
            "Epoch: 17500, loss: 0.00000\n",
            "Epoch: 17600, loss: 0.00000\n",
            "Epoch: 17700, loss: 0.00000\n",
            "Epoch: 17800, loss: 0.00000\n",
            "Epoch: 17900, loss: 0.00000\n",
            "Epoch: 18000, loss: 0.00000\n",
            "Epoch: 18100, loss: 0.00000\n",
            "Epoch: 18200, loss: 0.00000\n",
            "Epoch: 18300, loss: 0.00000\n",
            "Epoch: 18400, loss: 0.00000\n",
            "Epoch: 18500, loss: 0.00000\n",
            "Epoch: 18600, loss: 0.00000\n",
            "Epoch: 18700, loss: 0.00000\n",
            "Epoch: 18800, loss: 0.00000\n",
            "Epoch: 18900, loss: 0.00000\n",
            "Epoch: 19000, loss: 0.00000\n",
            "Epoch: 19100, loss: 0.00000\n",
            "Epoch: 19200, loss: 0.00000\n",
            "Epoch: 19300, loss: 0.00000\n",
            "Epoch: 19400, loss: 0.00000\n",
            "Epoch: 19500, loss: 0.00000\n",
            "Epoch: 19600, loss: 0.00000\n",
            "Epoch: 19700, loss: 0.00000\n",
            "Epoch: 19800, loss: 0.00000\n",
            "Epoch: 19900, loss: 0.00000\n",
            "Epoch: 20000, loss: 0.00000\n",
            "Epoch: 20100, loss: 0.00000\n",
            "Epoch: 20200, loss: 0.00000\n",
            "Epoch: 20300, loss: 0.00000\n",
            "Epoch: 20400, loss: 0.00000\n",
            "Epoch: 20500, loss: 0.00000\n",
            "Epoch: 20600, loss: 0.00000\n",
            "Epoch: 20700, loss: 0.00000\n",
            "Epoch: 20800, loss: 0.00000\n",
            "Epoch: 20900, loss: 0.00000\n",
            "Epoch: 21000, loss: 0.00000\n",
            "Epoch: 21100, loss: 0.00000\n",
            "Epoch: 21200, loss: 0.00000\n",
            "Epoch: 21300, loss: 0.00000\n",
            "Epoch: 21400, loss: 0.00000\n",
            "Epoch: 21500, loss: 0.00000\n",
            "Epoch: 21600, loss: 0.00000\n",
            "Epoch: 21700, loss: 0.00000\n",
            "Epoch: 21800, loss: 0.00000\n",
            "Epoch: 21900, loss: 0.00000\n",
            "Epoch: 22000, loss: 0.00000\n",
            "Epoch: 22100, loss: 0.00000\n",
            "Epoch: 22200, loss: 0.00000\n",
            "Epoch: 22300, loss: 0.00000\n",
            "Epoch: 22400, loss: 0.00000\n",
            "Epoch: 22500, loss: 0.00000\n",
            "Epoch: 22600, loss: 0.00000\n",
            "Epoch: 22700, loss: 0.00000\n",
            "Epoch: 22800, loss: 0.00000\n",
            "Epoch: 22900, loss: 0.00000\n",
            "Epoch: 23000, loss: 0.00000\n",
            "Epoch: 23100, loss: 0.00000\n",
            "Epoch: 23200, loss: 0.00000\n",
            "Epoch: 23300, loss: 0.00000\n",
            "Epoch: 23400, loss: 0.00000\n",
            "Epoch: 23500, loss: 0.00000\n",
            "Epoch: 23600, loss: 0.00000\n",
            "Epoch: 23700, loss: 0.00000\n",
            "Epoch: 23800, loss: 0.00000\n",
            "Epoch: 23900, loss: 0.00000\n",
            "Epoch: 24000, loss: 0.00000\n",
            "Epoch: 24100, loss: 0.00000\n",
            "Epoch: 24200, loss: 0.00000\n",
            "Epoch: 24300, loss: 0.00000\n",
            "Epoch: 24400, loss: 0.00000\n",
            "Epoch: 24500, loss: 0.00000\n",
            "Epoch: 24600, loss: 0.00000\n",
            "Epoch: 24700, loss: 0.00000\n",
            "Epoch: 24800, loss: 0.00000\n",
            "Epoch: 24900, loss: 0.00000\n",
            "Epoch: 25000, loss: 0.00000\n",
            "Epoch: 25100, loss: 0.00000\n",
            "Epoch: 25200, loss: 0.00000\n",
            "Epoch: 25300, loss: 0.00000\n",
            "Epoch: 25400, loss: 0.00000\n",
            "Epoch: 25500, loss: 0.00000\n",
            "Epoch: 25600, loss: 0.00000\n",
            "Epoch: 25700, loss: 0.00000\n",
            "Epoch: 25800, loss: 0.00000\n",
            "Epoch: 25900, loss: 0.00000\n",
            "Epoch: 26000, loss: 0.00000\n",
            "Epoch: 26100, loss: 0.00000\n",
            "Epoch: 26200, loss: 0.00000\n",
            "Epoch: 26300, loss: 0.00000\n",
            "Epoch: 26400, loss: 0.00000\n",
            "Epoch: 26500, loss: 0.00000\n",
            "Epoch: 26600, loss: 0.00000\n",
            "Epoch: 26700, loss: 0.00000\n",
            "Epoch: 26800, loss: 0.00000\n",
            "Epoch: 26900, loss: 0.00000\n",
            "Epoch: 27000, loss: 0.00000\n",
            "Epoch: 27100, loss: 0.00000\n",
            "Epoch: 27200, loss: 0.00000\n",
            "Epoch: 27300, loss: 0.00000\n",
            "Epoch: 27400, loss: 0.00000\n",
            "Epoch: 27500, loss: 0.00000\n",
            "Epoch: 27600, loss: 0.00000\n",
            "Epoch: 27700, loss: 0.00000\n",
            "Epoch: 27800, loss: 0.00000\n",
            "Epoch: 27900, loss: 0.00000\n",
            "Epoch: 28000, loss: 0.00000\n",
            "Epoch: 28100, loss: 0.00000\n",
            "Epoch: 28200, loss: 0.00000\n",
            "Epoch: 28300, loss: 0.00000\n",
            "Epoch: 28400, loss: 0.00000\n",
            "Epoch: 28500, loss: 0.00000\n",
            "Epoch: 28600, loss: 0.00000\n",
            "Epoch: 28700, loss: 0.00000\n",
            "Epoch: 28800, loss: 0.00000\n",
            "Epoch: 28900, loss: 0.00000\n",
            "Epoch: 29000, loss: 0.00000\n",
            "Epoch: 29100, loss: 0.00000\n",
            "Epoch: 29200, loss: 0.00000\n",
            "Epoch: 29300, loss: 0.00000\n",
            "Epoch: 29400, loss: 0.00000\n",
            "Epoch: 29500, loss: 0.00000\n",
            "Epoch: 29600, loss: 0.00000\n",
            "Epoch: 29700, loss: 0.00000\n",
            "Epoch: 29800, loss: 0.00000\n",
            "Epoch: 29900, loss: 0.00000\n"
          ]
        }
      ]
    },
    {
      "cell_type": "code",
      "source": [
        "df_X_std = stdsc.transform(df_ETH)\n",
        "\n",
        "df_y_mm = mmsc.transform(df_ETH.iloc[:, 3:4])\n",
        "\n",
        "df_X_std = Variable(torch.Tensor(df_X_std)) #converting to Tensors\n",
        "df_y_mm = Variable(torch.Tensor(df_y_mm))\n",
        "\n",
        "#reshaping the dataset\n",
        "df_X_std = torch.reshape(df_X_std, (df_X_std.shape[0], 1, df_X_std.shape[1]))"
      ],
      "metadata": {
        "id": "avSSnMg9m3yx"
      },
      "execution_count": 19,
      "outputs": []
    },
    {
      "cell_type": "code",
      "source": [
        "train_predict = model(df_X_std)\n",
        "predicted = train_predict.data.numpy() \n",
        "label_y = df_y_mm.data.numpy()\n",
        "\n",
        "predicted = mmsc.inverse_transform(predicted) \n",
        "label_y = mmsc.inverse_transform(label_y)\n",
        "plt.figure(figsize=(10,6)) \n",
        "plt.axvline(x=200, c='r', linestyle='--')\n",
        "\n",
        "plt.plot(label_y, label='Actual Data') \n",
        "plt.plot(predicted, label='Predicted Data') \n",
        "plt.title('Time-Series Prediction')\n",
        "plt.legend()\n",
        "plt.show() "
      ],
      "metadata": {
        "colab": {
          "base_uri": "https://localhost:8080/",
          "height": 390
        },
        "id": "_gsHTh6Hm5N_",
        "outputId": "11a0a755-016b-4294-b4fe-d4130c13a0bb"
      },
      "execution_count": 21,
      "outputs": [
        {
          "output_type": "display_data",
          "data": {
            "text/plain": [
              "<Figure size 720x432 with 1 Axes>"
            ],
            "image/png": "[encoded data removed]"
          },
          "metadata": {
            "needs_background": "light"
          }
        }
      ]
    }
  ]
}